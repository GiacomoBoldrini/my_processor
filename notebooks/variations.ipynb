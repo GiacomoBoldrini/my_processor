{
 "cells": [
  {
   "cell_type": "code",
   "execution_count": 1,
   "metadata": {},
   "outputs": [],
   "source": [
    "import uproot"
   ]
  },
  {
   "cell_type": "code",
   "execution_count": 2,
   "metadata": {},
   "outputs": [
    {
     "data": {
      "text/plain": [
       "['/gwpool/users/gpizzati/test_processor/my_processor',\n",
       " '/gwpool/users/gpizzati/test_processor/my_processor/notebooks',\n",
       " '/gwpool/users/gpizzati/mambaforge/envs/test_uproot/lib/python310.zip',\n",
       " '/gwpool/users/gpizzati/mambaforge/envs/test_uproot/lib/python3.10',\n",
       " '/gwpool/users/gpizzati/mambaforge/envs/test_uproot/lib/python3.10/lib-dynload',\n",
       " '',\n",
       " '/gwpool/users/gpizzati/mambaforge/envs/test_uproot/lib/python3.10/site-packages']"
      ]
     },
     "execution_count": 2,
     "metadata": {},
     "output_type": "execute_result"
    }
   ],
   "source": [
    "import sys\n",
    "import os\n",
    "\n",
    "path = os.path.abspath(\".\")\n",
    "sys.path.insert(0, os.path.dirname(path))\n",
    "sys.path"
   ]
  },
  {
   "cell_type": "code",
   "execution_count": 3,
   "metadata": {},
   "outputs": [],
   "source": [
    "from framework import read_events, read_chunks"
   ]
  },
  {
   "cell_type": "code",
   "execution_count": 4,
   "metadata": {},
   "outputs": [],
   "source": [
    "chunks = read_chunks(\"../condor/job_0/chunks_job.pkl\")"
   ]
  },
  {
   "cell_type": "code",
   "execution_count": 5,
   "metadata": {},
   "outputs": [
    {
     "name": "stdout",
     "output_type": "stream",
     "text": [
      "start reading\n",
      "created events\n"
     ]
    }
   ],
   "source": [
    "events = read_events(\n",
    "    **{k: v for k, v in chunks[1].items() if k != \"dataset\" and k != \"xs\"}\n",
    ")"
   ]
  },
  {
   "cell_type": "code",
   "execution_count": 6,
   "metadata": {},
   "outputs": [],
   "source": [
    "import awkward as ak\n",
    "import numpy as np"
   ]
  },
  {
   "cell_type": "code",
   "execution_count": 7,
   "metadata": {},
   "outputs": [
    {
     "data": {
      "text/plain": [
       "['Jet',\n",
       " 'GenPart',\n",
       " 'GenJet',\n",
       " 'Electron',\n",
       " 'Muon',\n",
       " 'fixedGridRhoFastjetAll',\n",
       " 'HLT',\n",
       " 'Flag',\n",
       " 'genWeight',\n",
       " 'LHEScaleWeight',\n",
       " 'LHEPdfWeight',\n",
       " 'Pileup',\n",
       " 'run',\n",
       " 'luminosityBlock']"
      ]
     },
     "execution_count": 7,
     "metadata": {},
     "output_type": "execute_result"
    }
   ],
   "source": [
    "ak.fields(events)"
   ]
  },
  {
   "cell_type": "code",
   "execution_count": 8,
   "metadata": {},
   "outputs": [
    {
     "data": {
      "text/plain": [
       "['pt',\n",
       " 'eta',\n",
       " 'phi',\n",
       " 'mass',\n",
       " 'jetId',\n",
       " 'puId',\n",
       " 'genJetIdx',\n",
       " 'rawFactor',\n",
       " 'area',\n",
       " 'btagDeepFlavB',\n",
       " 'hadronFlavour']"
      ]
     },
     "execution_count": 8,
     "metadata": {},
     "output_type": "execute_result"
    }
   ],
   "source": [
    "ak.fields(events.Jet)"
   ]
  },
  {
   "cell_type": "code",
   "execution_count": 10,
   "metadata": {},
   "outputs": [
    {
     "data": {
      "text/plain": [
       "[('Jet', 'pt'),\n",
       " ('Jet', 'eta'),\n",
       " ('Jet', 'phi'),\n",
       " ('Jet', 'mass'),\n",
       " ('Jet', 'jetId'),\n",
       " ('Jet', 'puId'),\n",
       " ('Jet', 'genJetIdx'),\n",
       " ('Jet', 'rawFactor'),\n",
       " ('Jet', 'area'),\n",
       " ('Jet', 'btagDeepFlavB'),\n",
       " ('Jet', 'hadronFlavour'),\n",
       " ('GenPart', 'pt'),\n",
       " ('GenPart', 'eta'),\n",
       " ('GenPart', 'phi'),\n",
       " ('GenPart', 'mass'),\n",
       " ('GenPart', 'pdgId'),\n",
       " ('GenPart', 'status'),\n",
       " ('GenPart', 'genPartIdxMother'),\n",
       " ('GenPart', 'statusFlags'),\n",
       " ('GenJet', 'pt'),\n",
       " ('GenJet', 'eta'),\n",
       " ('GenJet', 'phi'),\n",
       " ('GenJet', 'mass'),\n",
       " ('Electron', 'pt'),\n",
       " ('Electron', 'eta'),\n",
       " ('Electron', 'phi'),\n",
       " ('Electron', 'pdgId'),\n",
       " ('Electron', 'mvaFall17V2Iso_WP90'),\n",
       " ('Electron', 'convVeto'),\n",
       " ('Electron', 'pfRelIso03_all'),\n",
       " ('Electron', 'cutBased'),\n",
       " ('Electron', 'sieie'),\n",
       " ('Electron', 'eInvMinusPInv'),\n",
       " ('Electron', 'dxy'),\n",
       " ('Electron', 'dz'),\n",
       " ('Muon', 'pt'),\n",
       " ('Muon', 'eta'),\n",
       " ('Muon', 'phi'),\n",
       " ('Muon', 'pdgId'),\n",
       " ('Muon', 'tightId'),\n",
       " ('Muon', 'pfRelIso04_all'),\n",
       " ('Muon', 'dxy'),\n",
       " ('Muon', 'dz'),\n",
       " ('Muon', 'genPartIdx'),\n",
       " ('Muon', 'nTrackerLayers'),\n",
       " ('fixedGridRhoFastjetAll',),\n",
       " ('HLT', 'Mu23_TrkIsoVVL_Ele12_CaloIdL_TrackIdL_IsoVL'),\n",
       " ('HLT', 'Mu12_TrkIsoVVL_Ele23_CaloIdL_TrackIdL_IsoVL_DZ'),\n",
       " ('HLT', 'Mu17_TrkIsoVVL_Mu8_TrkIsoVVL_DZ_Mass3p8'),\n",
       " ('HLT', 'IsoMu24'),\n",
       " ('HLT', 'Ele23_Ele12_CaloIdL_TrackIdL_IsoVL'),\n",
       " ('HLT', 'Ele32_WPTight_Gsf'),\n",
       " ('Flag', 'goodVertices'),\n",
       " ('Flag', 'globalSuperTightHalo2016Filter'),\n",
       " ('Flag', 'HBHENoiseFilter'),\n",
       " ('Flag', 'HBHENoiseIsoFilter'),\n",
       " ('Flag', 'EcalDeadCellTriggerPrimitiveFilter'),\n",
       " ('Flag', 'BadPFMuonFilter'),\n",
       " ('Flag', 'BadPFMuonDzFilter'),\n",
       " ('Flag', 'ecalBadCalibFilter'),\n",
       " ('Flag', 'eeBadScFilter'),\n",
       " ('genWeight',),\n",
       " ('LHEScaleWeight',),\n",
       " ('LHEPdfWeight',),\n",
       " ('Pileup', 'nTrueInt'),\n",
       " ('run',),\n",
       " ('luminosityBlock',)]"
      ]
     },
     "execution_count": 10,
     "metadata": {},
     "output_type": "execute_result"
    }
   ],
   "source": [
    "columns = []\n",
    "for column_base in ak.fields(events):\n",
    "    column_suffixes = ak.fields(events[column_base])\n",
    "    if len(column_suffixes) == 0:\n",
    "        columns.append((column_base,))\n",
    "    else:\n",
    "        for column_suffix in column_suffixes:\n",
    "            columns.append((column_base, column_suffix))\n",
    "columns"
   ]
  },
  {
   "cell_type": "code",
   "execution_count": 11,
   "metadata": {},
   "outputs": [
    {
     "data": {
      "text/html": [
       "<pre>[6416,\n",
       " 6416,\n",
       " 6416,\n",
       " 6416,\n",
       " 6416,\n",
       " 6416,\n",
       " 6416,\n",
       " 6416,\n",
       " 6416,\n",
       " 6416,\n",
       " ...,\n",
       " 2078,\n",
       " 2078,\n",
       " 2078,\n",
       " 2078,\n",
       " 2078,\n",
       " 2078,\n",
       " 2078,\n",
       " 2078,\n",
       " 2078]\n",
       "---------------------\n",
       "type: 100000 * uint32</pre>"
      ],
      "text/plain": [
       "<Array [6416, 6416, 6416, 6416, ..., 2078, 2078, 2078] type='100000 * uint32'>"
      ]
     },
     "execution_count": 11,
     "metadata": {},
     "output_type": "execute_result"
    }
   ],
   "source": [
    "events[('luminosityBlock',)]"
   ]
  },
  {
   "cell_type": "code",
   "execution_count": 12,
   "metadata": {},
   "outputs": [],
   "source": [
    "def get_columns(events):\n",
    "    columns = []\n",
    "    for column_base in ak.fields(events):\n",
    "        column_suffixes = ak.fields(events[column_base])\n",
    "        if len(column_suffixes) == 0:\n",
    "            columns.append((column_base,))\n",
    "        else:\n",
    "            for column_suffix in column_suffixes:\n",
    "                columns.append((column_base, column_suffix))\n",
    "    return columns"
   ]
  },
  {
   "cell_type": "code",
   "execution_count": 13,
   "metadata": {},
   "outputs": [
    {
     "data": {
      "text/plain": [
       "[('Jet', 'pt'),\n",
       " ('Jet', 'eta'),\n",
       " ('Jet', 'phi'),\n",
       " ('Jet', 'mass'),\n",
       " ('Jet', 'jetId'),\n",
       " ('Jet', 'puId'),\n",
       " ('Jet', 'genJetIdx'),\n",
       " ('Jet', 'rawFactor'),\n",
       " ('Jet', 'area'),\n",
       " ('Jet', 'btagDeepFlavB'),\n",
       " ('Jet', 'hadronFlavour'),\n",
       " ('GenPart', 'pt'),\n",
       " ('GenPart', 'eta'),\n",
       " ('GenPart', 'phi'),\n",
       " ('GenPart', 'mass'),\n",
       " ('GenPart', 'pdgId'),\n",
       " ('GenPart', 'status'),\n",
       " ('GenPart', 'genPartIdxMother'),\n",
       " ('GenPart', 'statusFlags'),\n",
       " ('GenJet', 'pt'),\n",
       " ('GenJet', 'eta'),\n",
       " ('GenJet', 'phi'),\n",
       " ('GenJet', 'mass'),\n",
       " ('Electron', 'pt'),\n",
       " ('Electron', 'eta'),\n",
       " ('Electron', 'phi'),\n",
       " ('Electron', 'pdgId'),\n",
       " ('Electron', 'mvaFall17V2Iso_WP90'),\n",
       " ('Electron', 'convVeto'),\n",
       " ('Electron', 'pfRelIso03_all'),\n",
       " ('Electron', 'cutBased'),\n",
       " ('Electron', 'sieie'),\n",
       " ('Electron', 'eInvMinusPInv'),\n",
       " ('Electron', 'dxy'),\n",
       " ('Electron', 'dz'),\n",
       " ('Muon', 'pt'),\n",
       " ('Muon', 'eta'),\n",
       " ('Muon', 'phi'),\n",
       " ('Muon', 'pdgId'),\n",
       " ('Muon', 'tightId'),\n",
       " ('Muon', 'pfRelIso04_all'),\n",
       " ('Muon', 'dxy'),\n",
       " ('Muon', 'dz'),\n",
       " ('Muon', 'genPartIdx'),\n",
       " ('Muon', 'nTrackerLayers'),\n",
       " ('fixedGridRhoFastjetAll',),\n",
       " ('HLT', 'Mu23_TrkIsoVVL_Ele12_CaloIdL_TrackIdL_IsoVL'),\n",
       " ('HLT', 'Mu12_TrkIsoVVL_Ele23_CaloIdL_TrackIdL_IsoVL_DZ'),\n",
       " ('HLT', 'Mu17_TrkIsoVVL_Mu8_TrkIsoVVL_DZ_Mass3p8'),\n",
       " ('HLT', 'IsoMu24'),\n",
       " ('HLT', 'Ele23_Ele12_CaloIdL_TrackIdL_IsoVL'),\n",
       " ('HLT', 'Ele32_WPTight_Gsf'),\n",
       " ('Flag', 'goodVertices'),\n",
       " ('Flag', 'globalSuperTightHalo2016Filter'),\n",
       " ('Flag', 'HBHENoiseFilter'),\n",
       " ('Flag', 'HBHENoiseIsoFilter'),\n",
       " ('Flag', 'EcalDeadCellTriggerPrimitiveFilter'),\n",
       " ('Flag', 'BadPFMuonFilter'),\n",
       " ('Flag', 'BadPFMuonDzFilter'),\n",
       " ('Flag', 'ecalBadCalibFilter'),\n",
       " ('Flag', 'eeBadScFilter'),\n",
       " ('genWeight',),\n",
       " ('LHEScaleWeight',),\n",
       " ('LHEPdfWeight',),\n",
       " ('Pileup', 'nTrueInt'),\n",
       " ('run',),\n",
       " ('luminosityBlock',)]"
      ]
     },
     "execution_count": 13,
     "metadata": {},
     "output_type": "execute_result"
    }
   ],
   "source": [
    "get_columns(events)"
   ]
  },
  {
   "cell_type": "code",
   "execution_count": 14,
   "metadata": {},
   "outputs": [],
   "source": [
    "part1.root'"
   ]
  },
  {
   "cell_type": "code",
   "execution_count": 15,
   "metadata": {},
   "outputs": [],
   "source": [
    "f = uproot.open(fname)"
   ]
  },
  {
   "cell_type": "code",
   "execution_count": 99,
   "metadata": {},
   "outputs": [],
   "source": [
    "fname_base = '/eos/cms/store/group/phys_higgs/cmshww/amassiro/HWWNano/Summer20UL18_106x_nAODv9_Full2018v9/MCl1loose2018v9__MCCorr2018v9NoJERInHorn__l2tightOR2018v9/nanoLatino_DYJetsToLL_M-50__'\n",
    "fname_list = [fname_base + f'part{i}.root' for i in range(1,3)]"
   ]
  },
  {
   "cell_type": "code",
   "execution_count": 100,
   "metadata": {},
   "outputs": [],
   "source": [
    "def branch(name):\n",
    "    arr = 0\n",
    "    for fname in fname_list:\n",
    "        f = uproot.open(fname)\n",
    "        _arr = f['Events'][name].array()\n",
    "        if isinstance(arr, int):\n",
    "            arr = _arr\n",
    "        else:\n",
    "            arr = ak.concatenate([arr, _arr], axis=0)\n",
    "        f.close()\n",
    "\n",
    "    return arr"
   ]
  },
  {
   "cell_type": "code",
   "execution_count": 117,
   "metadata": {},
   "outputs": [
    {
     "data": {
      "text/plain": [
       "13396"
      ]
     },
     "execution_count": 117,
     "metadata": {},
     "output_type": "execute_result"
    }
   ],
   "source": [
    "len(genWeight)"
   ]
  },
  {
   "cell_type": "code",
   "execution_count": 101,
   "metadata": {},
   "outputs": [],
   "source": [
    "genWeight = branch('XSWeight')"
   ]
  },
  {
   "cell_type": "code",
   "execution_count": 102,
   "metadata": {},
   "outputs": [],
   "source": [
    "recoSF = branch('Lepton_RecoSF')\n",
    "trig_SF = branch('TriggerSFWeight_2l')"
   ]
  },
  {
   "cell_type": "code",
   "execution_count": 103,
   "metadata": {},
   "outputs": [],
   "source": [
    "id_iso_SF = branch('LepSF2l__ele_mvaFall17V2Iso_WP90__mu_cut_Tight_HWWW')"
   ]
  },
  {
   "cell_type": "code",
   "execution_count": 104,
   "metadata": {},
   "outputs": [],
   "source": [
    "lep_pt = branch('Lepton_pt')"
   ]
  },
  {
   "cell_type": "code",
   "execution_count": 24,
   "metadata": {},
   "outputs": [],
   "source": [
    "import hist"
   ]
  },
  {
   "cell_type": "code",
   "execution_count": 105,
   "metadata": {},
   "outputs": [],
   "source": [
    "h = hist.Hist(\n",
    "    hist.axis.Regular(30, 15, 100, name='pt'),\n",
    "    hist.axis.StrCategory(['no_corr', 'reco_sf', 'id_iso_sf', 'trig_sf', 'all_corr'], name='corr'),\n",
    "    hist.storage.Weight()\n",
    ")"
   ]
  },
  {
   "cell_type": "code",
   "execution_count": 106,
   "metadata": {},
   "outputs": [],
   "source": [
    "base_weight = genWeight\n",
    "weights = {\n",
    "    'no_corr': base_weight,\n",
    "    'reco_sf': base_weight * recoSF[:, 0]*recoSF[:, 1],\n",
    "    'id_iso_sf': base_weight * id_iso_SF,\n",
    "    'trig_sf': base_weight * trig_SF,\n",
    "    'all_corr': base_weight * recoSF[:, 0]*recoSF[:, 1]*trig_SF * id_iso_SF,\n",
    "}"
   ]
  },
  {
   "cell_type": "code",
   "execution_count": 107,
   "metadata": {},
   "outputs": [],
   "source": [
    "for t in weights:\n",
    "    h.fill(lep_pt[:, 0], corr=t, weight=weights[t])"
   ]
  },
  {
   "cell_type": "code",
   "execution_count": 108,
   "metadata": {},
   "outputs": [
    {
     "data": {
      "text/html": [
       "<html>\n",
       "<div style=\"display:flex; align-items:center;\">\n",
       "<div style=\"width:290px;\">\n",
       "<svg xmlns=\"http://www.w3.org/2000/svg\" viewBox=\"-20 -270 290 290\">\n",
       "<text text-anchor=\"middle\" x=\"0\" y=\"13\" style=\"fill:currentColor;\">\n",
       "15\n",
       "</text>\n",
       "<text text-anchor=\"middle\" x=\"250\" y=\"13\" style=\"fill:currentColor;\">\n",
       "100\n",
       "</text>\n",
       "<text text-anchor=\"middle\" x=\"-10\" y=\"0\" style=\"fill:currentColor;\">\n",
       "0\n",
       "</text>\n",
       "<text text-anchor=\"middle\" x=\"-10\" y=\"-250\" style=\"fill:currentColor;\">\n",
       "5\n",
       "</text>\n",
       "<text text-anchor=\"middle\" x=\"125.0\" y=\"13\" style=\"fill:currentColor;\">\n",
       "pt\n",
       "</text>\n",
       "<text text-anchor=\"middle\" x=\"-10\" y=\"-125.0\" transform=\"rotate(-90,-10,-125.0)\" style=\"fill:currentColor;\">\n",
       "corr\n",
       "</text>\n",
       "<rect x=\"0.0\" y=\"-50.0\" width=\"8.333\" height=\"50.0\" opacity=\"0.0\" fill=\"currentColor\" stroke-width=\"0.1\"/>\n",
       "<rect x=\"8.33333333333333\" y=\"-50.0\" width=\"8.333\" height=\"50.0\" opacity=\"0.05750798722044729\" fill=\"currentColor\" stroke-width=\"0.1\"/>\n",
       "<rect x=\"16.66666666666667\" y=\"-50.0\" width=\"8.333\" height=\"50.0\" opacity=\"0.13019169329073502\" fill=\"currentColor\" stroke-width=\"0.1\"/>\n",
       "<rect x=\"25.0\" y=\"-50.0\" width=\"8.333\" height=\"50.0\" opacity=\"0.15894568690095848\" fill=\"currentColor\" stroke-width=\"0.1\"/>\n",
       "<rect x=\"33.33333333333334\" y=\"-50.0\" width=\"8.333\" height=\"50.0\" opacity=\"0.25000000000000067\" fill=\"currentColor\" stroke-width=\"0.1\"/>\n",
       "<rect x=\"41.66666666666666\" y=\"-50.0\" width=\"8.333\" height=\"50.0\" opacity=\"0.3003194888178914\" fill=\"currentColor\" stroke-width=\"0.1\"/>\n",
       "<rect x=\"50.0\" y=\"-50.0\" width=\"8.333\" height=\"50.0\" opacity=\"0.31709265175718937\" fill=\"currentColor\" stroke-width=\"0.1\"/>\n",
       "<rect x=\"58.33333333333332\" y=\"-50.0\" width=\"8.333\" height=\"50.0\" opacity=\"0.4440894568690085\" fill=\"currentColor\" stroke-width=\"0.1\"/>\n",
       "<rect x=\"66.66666666666669\" y=\"-50.0\" width=\"8.333\" height=\"50.0\" opacity=\"0.5279552715654966\" fill=\"currentColor\" stroke-width=\"0.1\"/>\n",
       "<rect x=\"75.0\" y=\"-50.0\" width=\"8.333\" height=\"50.0\" opacity=\"0.7396166134185322\" fill=\"currentColor\" stroke-width=\"0.1\"/>\n",
       "<rect x=\"83.33333333333331\" y=\"-50.0\" width=\"8.333\" height=\"50.0\" opacity=\"1.0\" fill=\"currentColor\" stroke-width=\"0.1\"/>\n",
       "<rect x=\"91.66666666666666\" y=\"-50.0\" width=\"8.333\" height=\"50.0\" opacity=\"0.9640575079872206\" fill=\"currentColor\" stroke-width=\"0.1\"/>\n",
       "<rect x=\"100.0\" y=\"-50.0\" width=\"8.333\" height=\"50.0\" opacity=\"0.5079872204472844\" fill=\"currentColor\" stroke-width=\"0.1\"/>\n",
       "<rect x=\"108.33333333333334\" y=\"-50.0\" width=\"8.333\" height=\"50.0\" opacity=\"0.358626198083068\" fill=\"currentColor\" stroke-width=\"0.1\"/>\n",
       "<rect x=\"116.66666666666666\" y=\"-50.0\" width=\"8.333\" height=\"50.0\" opacity=\"0.26038338658146964\" fill=\"currentColor\" stroke-width=\"0.1\"/>\n",
       "<rect x=\"125.0\" y=\"-50.0\" width=\"8.333\" height=\"50.0\" opacity=\"0.20447284345047925\" fill=\"currentColor\" stroke-width=\"0.1\"/>\n",
       "<rect x=\"133.33333333333334\" y=\"-50.0\" width=\"8.333\" height=\"50.0\" opacity=\"0.16054313099041576\" fill=\"currentColor\" stroke-width=\"0.1\"/>\n",
       "<rect x=\"141.66666666666666\" y=\"-50.0\" width=\"8.333\" height=\"50.0\" opacity=\"0.13258785942492016\" fill=\"currentColor\" stroke-width=\"0.1\"/>\n",
       "<rect x=\"150.0\" y=\"-50.0\" width=\"8.333\" height=\"50.0\" opacity=\"0.0782747603833868\" fill=\"currentColor\" stroke-width=\"0.1\"/>\n",
       "<rect x=\"158.33333333333331\" y=\"-50.0\" width=\"8.333\" height=\"50.0\" opacity=\"0.09185303514377022\" fill=\"currentColor\" stroke-width=\"0.1\"/>\n",
       "<rect x=\"166.66666666666663\" y=\"-50.0\" width=\"8.333\" height=\"50.0\" opacity=\"0.08386581469648542\" fill=\"currentColor\" stroke-width=\"0.1\"/>\n",
       "<rect x=\"175.0\" y=\"-50.0\" width=\"8.333\" height=\"50.0\" opacity=\"0.06709265175718868\" fill=\"currentColor\" stroke-width=\"0.1\"/>\n",
       "<rect x=\"183.33333333333331\" y=\"-50.0\" width=\"8.333\" height=\"50.0\" opacity=\"0.05670926517571872\" fill=\"currentColor\" stroke-width=\"0.1\"/>\n",
       "<rect x=\"191.66666666666669\" y=\"-50.0\" width=\"8.333\" height=\"50.0\" opacity=\"0.03354632587859434\" fill=\"currentColor\" stroke-width=\"0.1\"/>\n",
       "<rect x=\"200.0\" y=\"-50.0\" width=\"8.333\" height=\"50.0\" opacity=\"0.044728434504792226\" fill=\"currentColor\" stroke-width=\"0.1\"/>\n",
       "<rect x=\"208.33333333333337\" y=\"-50.0\" width=\"8.333\" height=\"50.0\" opacity=\"0.023162939297124662\" fill=\"currentColor\" stroke-width=\"0.1\"/>\n",
       "<rect x=\"216.66666666666669\" y=\"-50.0\" width=\"8.333\" height=\"50.0\" opacity=\"0.02715654952076684\" fill=\"currentColor\" stroke-width=\"0.1\"/>\n",
       "<rect x=\"225.0\" y=\"-50.0\" width=\"8.333\" height=\"50.0\" opacity=\"0.023162939297124662\" fill=\"currentColor\" stroke-width=\"0.1\"/>\n",
       "<rect x=\"233.33333333333331\" y=\"-50.0\" width=\"8.333\" height=\"50.0\" opacity=\"0.02715654952076671\" fill=\"currentColor\" stroke-width=\"0.1\"/>\n",
       "<rect x=\"241.66666666666666\" y=\"-50.0\" width=\"8.333\" height=\"50.0\" opacity=\"0.01837060702875404\" fill=\"currentColor\" stroke-width=\"0.1\"/>\n",
       "<rect x=\"0.0\" y=\"-100.0\" width=\"8.333\" height=\"50.0\" opacity=\"0.0\" fill=\"currentColor\" stroke-width=\"0.1\"/>\n",
       "<rect x=\"8.33333333333333\" y=\"-100.0\" width=\"8.333\" height=\"50.0\" opacity=\"0.058408493990616636\" fill=\"currentColor\" stroke-width=\"0.1\"/>\n",
       "<rect x=\"16.66666666666667\" y=\"-100.0\" width=\"8.333\" height=\"50.0\" opacity=\"0.13004753453105364\" fill=\"currentColor\" stroke-width=\"0.1\"/>\n",
       "<rect x=\"25.0\" y=\"-100.0\" width=\"8.333\" height=\"50.0\" opacity=\"0.15831167058587917\" fill=\"currentColor\" stroke-width=\"0.1\"/>\n",
       "<rect x=\"33.33333333333334\" y=\"-100.0\" width=\"8.333\" height=\"50.0\" opacity=\"0.248176742830333\" fill=\"currentColor\" stroke-width=\"0.1\"/>\n",
       "<rect x=\"41.66666666666666\" y=\"-100.0\" width=\"8.333\" height=\"50.0\" opacity=\"0.2977384900613963\" fill=\"currentColor\" stroke-width=\"0.1\"/>\n",
       "<rect x=\"50.0\" y=\"-100.0\" width=\"8.333\" height=\"50.0\" opacity=\"0.3138735228710298\" fill=\"currentColor\" stroke-width=\"0.1\"/>\n",
       "<rect x=\"58.33333333333332\" y=\"-100.0\" width=\"8.333\" height=\"50.0\" opacity=\"0.4393170471771917\" fill=\"currentColor\" stroke-width=\"0.1\"/>\n",
       "<rect x=\"66.66666666666669\" y=\"-100.0\" width=\"8.333\" height=\"50.0\" opacity=\"0.5229733247453502\" fill=\"currentColor\" stroke-width=\"0.1\"/>\n",
       "<rect x=\"75.0\" y=\"-100.0\" width=\"8.333\" height=\"50.0\" opacity=\"0.7321432701437594\" fill=\"currentColor\" stroke-width=\"0.1\"/>\n",
       "<rect x=\"83.33333333333331\" y=\"-100.0\" width=\"8.333\" height=\"50.0\" opacity=\"0.9894125686026694\" fill=\"currentColor\" stroke-width=\"0.1\"/>\n",
       "<rect x=\"91.66666666666666\" y=\"-100.0\" width=\"8.333\" height=\"50.0\" opacity=\"0.9539063180623489\" fill=\"currentColor\" stroke-width=\"0.1\"/>\n",
       "<rect x=\"100.0\" y=\"-100.0\" width=\"8.333\" height=\"50.0\" opacity=\"0.5027871104108406\" fill=\"currentColor\" stroke-width=\"0.1\"/>\n",
       "<rect x=\"108.33333333333334\" y=\"-100.0\" width=\"8.333\" height=\"50.0\" opacity=\"0.3550563842161751\" fill=\"currentColor\" stroke-width=\"0.1\"/>\n",
       "<rect x=\"116.66666666666666\" y=\"-100.0\" width=\"8.333\" height=\"50.0\" opacity=\"0.25781183795964774\" fill=\"currentColor\" stroke-width=\"0.1\"/>\n",
       "<rect x=\"125.0\" y=\"-100.0\" width=\"8.333\" height=\"50.0\" opacity=\"0.2024284311718359\" fill=\"currentColor\" stroke-width=\"0.1\"/>\n",
       "<rect x=\"133.33333333333334\" y=\"-100.0\" width=\"8.333\" height=\"50.0\" opacity=\"0.15876582695966718\" fill=\"currentColor\" stroke-width=\"0.1\"/>\n",
       "<rect x=\"141.66666666666666\" y=\"-100.0\" width=\"8.333\" height=\"50.0\" opacity=\"0.13121381222934694\" fill=\"currentColor\" stroke-width=\"0.1\"/>\n",
       "<rect x=\"150.0\" y=\"-100.0\" width=\"8.333\" height=\"50.0\" opacity=\"0.07765884063778083\" fill=\"currentColor\" stroke-width=\"0.1\"/>\n",
       "<rect x=\"158.33333333333331\" y=\"-100.0\" width=\"8.333\" height=\"50.0\" opacity=\"0.09097732268424016\" fill=\"currentColor\" stroke-width=\"0.1\"/>\n",
       "<rect x=\"166.66666666666663\" y=\"-100.0\" width=\"8.333\" height=\"50.0\" opacity=\"0.08329821286404061\" fill=\"currentColor\" stroke-width=\"0.1\"/>\n",
       "<rect x=\"175.0\" y=\"-100.0\" width=\"8.333\" height=\"50.0\" opacity=\"0.06662120112101162\" fill=\"currentColor\" stroke-width=\"0.1\"/>\n",
       "<rect x=\"183.33333333333331\" y=\"-100.0\" width=\"8.333\" height=\"50.0\" opacity=\"0.056342950194471185\" fill=\"currentColor\" stroke-width=\"0.1\"/>\n",
       "<rect x=\"191.66666666666669\" y=\"-100.0\" width=\"8.333\" height=\"50.0\" opacity=\"0.0334096321657669\" fill=\"currentColor\" stroke-width=\"0.1\"/>\n",
       "<rect x=\"200.0\" y=\"-100.0\" width=\"8.333\" height=\"50.0\" opacity=\"0.04475448105395429\" fill=\"currentColor\" stroke-width=\"0.1\"/>\n",
       "<rect x=\"208.33333333333337\" y=\"-100.0\" width=\"8.333\" height=\"50.0\" opacity=\"0.02303184441485471\" fill=\"currentColor\" stroke-width=\"0.1\"/>\n",
       "<rect x=\"216.66666666666669\" y=\"-100.0\" width=\"8.333\" height=\"50.0\" opacity=\"0.027279904976728026\" fill=\"currentColor\" stroke-width=\"0.1\"/>\n",
       "<rect x=\"225.0\" y=\"-100.0\" width=\"8.333\" height=\"50.0\" opacity=\"0.023033124448603632\" fill=\"currentColor\" stroke-width=\"0.1\"/>\n",
       "<rect x=\"233.33333333333331\" y=\"-100.0\" width=\"8.333\" height=\"50.0\" opacity=\"0.027044890465534283\" fill=\"currentColor\" stroke-width=\"0.1\"/>\n",
       "<rect x=\"241.66666666666666\" y=\"-100.0\" width=\"8.333\" height=\"50.0\" opacity=\"0.018239583481508986\" fill=\"currentColor\" stroke-width=\"0.1\"/>\n",
       "<rect x=\"0.0\" y=\"-150.0\" width=\"8.333\" height=\"50.0\" opacity=\"0.0\" fill=\"currentColor\" stroke-width=\"0.1\"/>\n",
       "<rect x=\"8.33333333333333\" y=\"-150.0\" width=\"8.333\" height=\"50.0\" opacity=\"0.05769874949100644\" fill=\"currentColor\" stroke-width=\"0.1\"/>\n",
       "<rect x=\"16.66666666666667\" y=\"-150.0\" width=\"8.333\" height=\"50.0\" opacity=\"0.12660468017389237\" fill=\"currentColor\" stroke-width=\"0.1\"/>\n",
       "<rect x=\"25.0\" y=\"-150.0\" width=\"8.333\" height=\"50.0\" opacity=\"0.15301491763805541\" fill=\"currentColor\" stroke-width=\"0.1\"/>\n",
       "<rect x=\"33.33333333333334\" y=\"-150.0\" width=\"8.333\" height=\"50.0\" opacity=\"0.23987314070810664\" fill=\"currentColor\" stroke-width=\"0.1\"/>\n",
       "<rect x=\"41.66666666666666\" y=\"-150.0\" width=\"8.333\" height=\"50.0\" opacity=\"0.28741195137860703\" fill=\"currentColor\" stroke-width=\"0.1\"/>\n",
       "<rect x=\"50.0\" y=\"-150.0\" width=\"8.333\" height=\"50.0\" opacity=\"0.3023812646956003\" fill=\"currentColor\" stroke-width=\"0.1\"/>\n",
       "<rect x=\"58.33333333333332\" y=\"-150.0\" width=\"8.333\" height=\"50.0\" opacity=\"0.423697414464129\" fill=\"currentColor\" stroke-width=\"0.1\"/>\n",
       "<rect x=\"66.66666666666669\" y=\"-150.0\" width=\"8.333\" height=\"50.0\" opacity=\"0.5046374303207181\" fill=\"currentColor\" stroke-width=\"0.1\"/>\n",
       "<rect x=\"75.0\" y=\"-150.0\" width=\"8.333\" height=\"50.0\" opacity=\"0.7066148203035595\" fill=\"currentColor\" stroke-width=\"0.1\"/>\n",
       "<rect x=\"83.33333333333331\" y=\"-150.0\" width=\"8.333\" height=\"50.0\" opacity=\"0.9553128081002418\" fill=\"currentColor\" stroke-width=\"0.1\"/>\n",
       "<rect x=\"91.66666666666666\" y=\"-150.0\" width=\"8.333\" height=\"50.0\" opacity=\"0.9216957502744376\" fill=\"currentColor\" stroke-width=\"0.1\"/>\n",
       "<rect x=\"100.0\" y=\"-150.0\" width=\"8.333\" height=\"50.0\" opacity=\"0.48492803001102724\" fill=\"currentColor\" stroke-width=\"0.1\"/>\n",
       "<rect x=\"108.33333333333334\" y=\"-150.0\" width=\"8.333\" height=\"50.0\" opacity=\"0.3428726810944826\" fill=\"currentColor\" stroke-width=\"0.1\"/>\n",
       "<rect x=\"116.66666666666666\" y=\"-150.0\" width=\"8.333\" height=\"50.0\" opacity=\"0.2489039653799386\" fill=\"currentColor\" stroke-width=\"0.1\"/>\n",
       "<rect x=\"125.0\" y=\"-150.0\" width=\"8.333\" height=\"50.0\" opacity=\"0.19572991228455922\" fill=\"currentColor\" stroke-width=\"0.1\"/>\n",
       "<rect x=\"133.33333333333334\" y=\"-150.0\" width=\"8.333\" height=\"50.0\" opacity=\"0.15266778118119656\" fill=\"currentColor\" stroke-width=\"0.1\"/>\n",
       "<rect x=\"141.66666666666666\" y=\"-150.0\" width=\"8.333\" height=\"50.0\" opacity=\"0.12701532230360593\" fill=\"currentColor\" stroke-width=\"0.1\"/>\n",
       "<rect x=\"150.0\" y=\"-150.0\" width=\"8.333\" height=\"50.0\" opacity=\"0.07481890821546279\" fill=\"currentColor\" stroke-width=\"0.1\"/>\n",
       "<rect x=\"158.33333333333331\" y=\"-150.0\" width=\"8.333\" height=\"50.0\" opacity=\"0.08796050713485264\" fill=\"currentColor\" stroke-width=\"0.1\"/>\n",
       "<rect x=\"166.66666666666663\" y=\"-150.0\" width=\"8.333\" height=\"50.0\" opacity=\"0.08119556443930959\" fill=\"currentColor\" stroke-width=\"0.1\"/>\n",
       "<rect x=\"175.0\" y=\"-150.0\" width=\"8.333\" height=\"50.0\" opacity=\"0.06467276151940562\" fill=\"currentColor\" stroke-width=\"0.1\"/>\n",
       "<rect x=\"183.33333333333331\" y=\"-150.0\" width=\"8.333\" height=\"50.0\" opacity=\"0.05424046611885524\" fill=\"currentColor\" stroke-width=\"0.1\"/>\n",
       "<rect x=\"191.66666666666669\" y=\"-150.0\" width=\"8.333\" height=\"50.0\" opacity=\"0.03217858892603405\" fill=\"currentColor\" stroke-width=\"0.1\"/>\n",
       "<rect x=\"200.0\" y=\"-150.0\" width=\"8.333\" height=\"50.0\" opacity=\"0.04365592784728813\" fill=\"currentColor\" stroke-width=\"0.1\"/>\n",
       "<rect x=\"208.33333333333337\" y=\"-150.0\" width=\"8.333\" height=\"50.0\" opacity=\"0.022040576966168946\" fill=\"currentColor\" stroke-width=\"0.1\"/>\n",
       "<rect x=\"216.66666666666669\" y=\"-150.0\" width=\"8.333\" height=\"50.0\" opacity=\"0.026306118484728625\" fill=\"currentColor\" stroke-width=\"0.1\"/>\n",
       "<rect x=\"225.0\" y=\"-150.0\" width=\"8.333\" height=\"50.0\" opacity=\"0.022679714385140732\" fill=\"currentColor\" stroke-width=\"0.1\"/>\n",
       "<rect x=\"233.33333333333331\" y=\"-150.0\" width=\"8.333\" height=\"50.0\" opacity=\"0.026304143328101163\" fill=\"currentColor\" stroke-width=\"0.1\"/>\n",
       "<rect x=\"241.66666666666666\" y=\"-150.0\" width=\"8.333\" height=\"50.0\" opacity=\"0.017801052263751612\" fill=\"currentColor\" stroke-width=\"0.1\"/>\n",
       "<rect x=\"0.0\" y=\"-200.0\" width=\"8.333\" height=\"50.0\" opacity=\"0.0\" fill=\"currentColor\" stroke-width=\"0.1\"/>\n",
       "<rect x=\"8.33333333333333\" y=\"-200.0\" width=\"8.333\" height=\"50.0\" opacity=\"0.0624255961762454\" fill=\"currentColor\" stroke-width=\"0.1\"/>\n",
       "<rect x=\"16.66666666666667\" y=\"-200.0\" width=\"8.333\" height=\"50.0\" opacity=\"0.12751791067814985\" fill=\"currentColor\" stroke-width=\"0.1\"/>\n",
       "<rect x=\"25.0\" y=\"-200.0\" width=\"8.333\" height=\"50.0\" opacity=\"0.15751010349688957\" fill=\"currentColor\" stroke-width=\"0.1\"/>\n",
       "<rect x=\"33.33333333333334\" y=\"-200.0\" width=\"8.333\" height=\"50.0\" opacity=\"0.24563626980880268\" fill=\"currentColor\" stroke-width=\"0.1\"/>\n",
       "<rect x=\"41.66666666666666\" y=\"-200.0\" width=\"8.333\" height=\"50.0\" opacity=\"0.2971418869079688\" fill=\"currentColor\" stroke-width=\"0.1\"/>\n",
       "<rect x=\"50.0\" y=\"-200.0\" width=\"8.333\" height=\"50.0\" opacity=\"0.31437731915706896\" fill=\"currentColor\" stroke-width=\"0.1\"/>\n",
       "<rect x=\"58.33333333333332\" y=\"-200.0\" width=\"8.333\" height=\"50.0\" opacity=\"0.44139653491179837\" fill=\"currentColor\" stroke-width=\"0.1\"/>\n",
       "<rect x=\"66.66666666666669\" y=\"-200.0\" width=\"8.333\" height=\"50.0\" opacity=\"0.5255568773320701\" fill=\"currentColor\" stroke-width=\"0.1\"/>\n",
       "<rect x=\"75.0\" y=\"-200.0\" width=\"8.333\" height=\"50.0\" opacity=\"0.7370644760985483\" fill=\"currentColor\" stroke-width=\"0.1\"/>\n",
       "<rect x=\"83.33333333333331\" y=\"-200.0\" width=\"8.333\" height=\"50.0\" opacity=\"0.9972350480766845\" fill=\"currentColor\" stroke-width=\"0.1\"/>\n",
       "<rect x=\"91.66666666666666\" y=\"-200.0\" width=\"8.333\" height=\"50.0\" opacity=\"0.9615487771821004\" fill=\"currentColor\" stroke-width=\"0.1\"/>\n",
       "<rect x=\"100.0\" y=\"-200.0\" width=\"8.333\" height=\"50.0\" opacity=\"0.5065146408099562\" fill=\"currentColor\" stroke-width=\"0.1\"/>\n",
       "<rect x=\"108.33333333333334\" y=\"-200.0\" width=\"8.333\" height=\"50.0\" opacity=\"0.35751769691045565\" fill=\"currentColor\" stroke-width=\"0.1\"/>\n",
       "<rect x=\"116.66666666666666\" y=\"-200.0\" width=\"8.333\" height=\"50.0\" opacity=\"0.2596474918607427\" fill=\"currentColor\" stroke-width=\"0.1\"/>\n",
       "<rect x=\"125.0\" y=\"-200.0\" width=\"8.333\" height=\"50.0\" opacity=\"0.2038304371554643\" fill=\"currentColor\" stroke-width=\"0.1\"/>\n",
       "<rect x=\"133.33333333333334\" y=\"-200.0\" width=\"8.333\" height=\"50.0\" opacity=\"0.16004501455892672\" fill=\"currentColor\" stroke-width=\"0.1\"/>\n",
       "<rect x=\"141.66666666666666\" y=\"-200.0\" width=\"8.333\" height=\"50.0\" opacity=\"0.1321632545843701\" fill=\"currentColor\" stroke-width=\"0.1\"/>\n",
       "<rect x=\"150.0\" y=\"-200.0\" width=\"8.333\" height=\"50.0\" opacity=\"0.07795918246887384\" fill=\"currentColor\" stroke-width=\"0.1\"/>\n",
       "<rect x=\"158.33333333333331\" y=\"-200.0\" width=\"8.333\" height=\"50.0\" opacity=\"0.09132073990972504\" fill=\"currentColor\" stroke-width=\"0.1\"/>\n",
       "<rect x=\"166.66666666666663\" y=\"-200.0\" width=\"8.333\" height=\"50.0\" opacity=\"0.08347375128350161\" fill=\"currentColor\" stroke-width=\"0.1\"/>\n",
       "<rect x=\"175.0\" y=\"-200.0\" width=\"8.333\" height=\"50.0\" opacity=\"0.06684286823137567\" fill=\"currentColor\" stroke-width=\"0.1\"/>\n",
       "<rect x=\"183.33333333333331\" y=\"-200.0\" width=\"8.333\" height=\"50.0\" opacity=\"0.056411055765310456\" fill=\"currentColor\" stroke-width=\"0.1\"/>\n",
       "<rect x=\"191.66666666666669\" y=\"-200.0\" width=\"8.333\" height=\"50.0\" opacity=\"0.03333453315857784\" fill=\"currentColor\" stroke-width=\"0.1\"/>\n",
       "<rect x=\"200.0\" y=\"-200.0\" width=\"8.333\" height=\"50.0\" opacity=\"0.04442921859230521\" fill=\"currentColor\" stroke-width=\"0.1\"/>\n",
       "<rect x=\"208.33333333333337\" y=\"-200.0\" width=\"8.333\" height=\"50.0\" opacity=\"0.02303460032061275\" fill=\"currentColor\" stroke-width=\"0.1\"/>\n",
       "<rect x=\"216.66666666666669\" y=\"-200.0\" width=\"8.333\" height=\"50.0\" opacity=\"0.026991813876429873\" fill=\"currentColor\" stroke-width=\"0.1\"/>\n",
       "<rect x=\"225.0\" y=\"-200.0\" width=\"8.333\" height=\"50.0\" opacity=\"0.02305683456375422\" fill=\"currentColor\" stroke-width=\"0.1\"/>\n",
       "<rect x=\"233.33333333333331\" y=\"-200.0\" width=\"8.333\" height=\"50.0\" opacity=\"0.02692784525258599\" fill=\"currentColor\" stroke-width=\"0.1\"/>\n",
       "<rect x=\"241.66666666666666\" y=\"-200.0\" width=\"8.333\" height=\"50.0\" opacity=\"0.018339075131069\" fill=\"currentColor\" stroke-width=\"0.1\"/>\n",
       "<rect x=\"0.0\" y=\"-250.0\" width=\"8.333\" height=\"50.0\" opacity=\"0.0\" fill=\"currentColor\" stroke-width=\"0.1\"/>\n",
       "<rect x=\"8.33333333333333\" y=\"-250.0\" width=\"8.333\" height=\"50.0\" opacity=\"0.06399296477125682\" fill=\"currentColor\" stroke-width=\"0.1\"/>\n",
       "<rect x=\"16.66666666666667\" y=\"-250.0\" width=\"8.333\" height=\"50.0\" opacity=\"0.12385391465545559\" fill=\"currentColor\" stroke-width=\"0.1\"/>\n",
       "<rect x=\"25.0\" y=\"-250.0\" width=\"8.333\" height=\"50.0\" opacity=\"0.15075794318396787\" fill=\"currentColor\" stroke-width=\"0.1\"/>\n",
       "<rect x=\"33.33333333333334\" y=\"-250.0\" width=\"8.333\" height=\"50.0\" opacity=\"0.2338926059775554\" fill=\"currentColor\" stroke-width=\"0.1\"/>\n",
       "<rect x=\"41.66666666666666\" y=\"-250.0\" width=\"8.333\" height=\"50.0\" opacity=\"0.2820843098199994\" fill=\"currentColor\" stroke-width=\"0.1\"/>\n",
       "<rect x=\"50.0\" y=\"-250.0\" width=\"8.333\" height=\"50.0\" opacity=\"0.29694384483150815\" fill=\"currentColor\" stroke-width=\"0.1\"/>\n",
       "<rect x=\"58.33333333333332\" y=\"-250.0\" width=\"8.333\" height=\"50.0\" opacity=\"0.4167921078747837\" fill=\"currentColor\" stroke-width=\"0.1\"/>\n",
       "<rect x=\"66.66666666666669\" y=\"-250.0\" width=\"8.333\" height=\"50.0\" opacity=\"0.4978121701071517\" fill=\"currentColor\" stroke-width=\"0.1\"/>\n",
       "<rect x=\"75.0\" y=\"-250.0\" width=\"8.333\" height=\"50.0\" opacity=\"0.6973105051396777\" fill=\"currentColor\" stroke-width=\"0.1\"/>\n",
       "<rect x=\"83.33333333333331\" y=\"-250.0\" width=\"8.333\" height=\"50.0\" opacity=\"0.9429328334398283\" fill=\"currentColor\" stroke-width=\"0.1\"/>\n",
       "<rect x=\"91.66666666666666\" y=\"-250.0\" width=\"8.333\" height=\"50.0\" opacity=\"0.9099152828538597\" fill=\"currentColor\" stroke-width=\"0.1\"/>\n",
       "<rect x=\"100.0\" y=\"-250.0\" width=\"8.333\" height=\"50.0\" opacity=\"0.4787427536688758\" fill=\"currentColor\" stroke-width=\"0.1\"/>\n",
       "<rect x=\"108.33333333333334\" y=\"-250.0\" width=\"8.333\" height=\"50.0\" opacity=\"0.3385186407869225\" fill=\"currentColor\" stroke-width=\"0.1\"/>\n",
       "<rect x=\"116.66666666666666\" y=\"-250.0\" width=\"8.333\" height=\"50.0\" opacity=\"0.2458319200500372\" fill=\"currentColor\" stroke-width=\"0.1\"/>\n",
       "<rect x=\"125.0\" y=\"-250.0\" width=\"8.333\" height=\"50.0\" opacity=\"0.1932228757771145\" fill=\"currentColor\" stroke-width=\"0.1\"/>\n",
       "<rect x=\"133.33333333333334\" y=\"-250.0\" width=\"8.333\" height=\"50.0\" opacity=\"0.1505582695156196\" fill=\"currentColor\" stroke-width=\"0.1\"/>\n",
       "<rect x=\"141.66666666666666\" y=\"-250.0\" width=\"8.333\" height=\"50.0\" opacity=\"0.1253396669894138\" fill=\"currentColor\" stroke-width=\"0.1\"/>\n",
       "<rect x=\"150.0\" y=\"-250.0\" width=\"8.333\" height=\"50.0\" opacity=\"0.07395397128083503\" fill=\"currentColor\" stroke-width=\"0.1\"/>\n",
       "<rect x=\"158.33333333333331\" y=\"-250.0\" width=\"8.333\" height=\"50.0\" opacity=\"0.08665078281600576\" fill=\"currentColor\" stroke-width=\"0.1\"/>\n",
       "<rect x=\"166.66666666666663\" y=\"-250.0\" width=\"8.333\" height=\"50.0\" opacity=\"0.08032805908044933\" fill=\"currentColor\" stroke-width=\"0.1\"/>\n",
       "<rect x=\"175.0\" y=\"-250.0\" width=\"8.333\" height=\"50.0\" opacity=\"0.06398554520199533\" fill=\"currentColor\" stroke-width=\"0.1\"/>\n",
       "<rect x=\"183.33333333333331\" y=\"-250.0\" width=\"8.333\" height=\"50.0\" opacity=\"0.05362916461971668\" fill=\"currentColor\" stroke-width=\"0.1\"/>\n",
       "<rect x=\"191.66666666666669\" y=\"-250.0\" width=\"8.333\" height=\"50.0\" opacity=\"0.031850999113780726\" fill=\"currentColor\" stroke-width=\"0.1\"/>\n",
       "<rect x=\"200.0\" y=\"-250.0\" width=\"8.333\" height=\"50.0\" opacity=\"0.043445265224244974\" fill=\"currentColor\" stroke-width=\"0.1\"/>\n",
       "<rect x=\"208.33333333333337\" y=\"-250.0\" width=\"8.333\" height=\"50.0\" opacity=\"0.021796640732379594\" fill=\"currentColor\" stroke-width=\"0.1\"/>\n",
       "<rect x=\"216.66666666666669\" y=\"-250.0\" width=\"8.333\" height=\"50.0\" opacity=\"0.026272951755407687\" fill=\"currentColor\" stroke-width=\"0.1\"/>\n",
       "<rect x=\"225.0\" y=\"-250.0\" width=\"8.333\" height=\"50.0\" opacity=\"0.022448849295488595\" fill=\"currentColor\" stroke-width=\"0.1\"/>\n",
       "<rect x=\"233.33333333333331\" y=\"-250.0\" width=\"8.333\" height=\"50.0\" opacity=\"0.02597616474601777\" fill=\"currentColor\" stroke-width=\"0.1\"/>\n",
       "<rect x=\"241.66666666666666\" y=\"-250.0\" width=\"8.333\" height=\"50.0\" opacity=\"0.01764694590146029\" fill=\"currentColor\" stroke-width=\"0.1\"/>\n",
       "</svg>\n",
       "</div>\n",
       "<div style=\"flex=grow:1;\">\n",
       "Regular(30, 15, 100, name='pt')<br/>\n",
       "StrCategory(['no_corr', 'reco_sf', 'id_iso_sf', 'trig_sf', 'all_corr'], name='corr')<br/>\n",
       "<hr style=\"margin-top:.2em; margin-bottom:.2em;\"/>\n",
       "Weight() Σ=WeightedSum(value=2131.86, variance=149.875) <em>(WeightedSum(value=2177.32, variance=155.165) with flow)</em>\n",
       "\n",
       "</div>\n",
       "</div>\n",
       "</html>"
      ],
      "text/plain": [
       "Hist(\n",
       "  Regular(30, 15, 100, name='pt'),\n",
       "  StrCategory(['no_corr', 'reco_sf', 'id_iso_sf', 'trig_sf', 'all_corr'], name='corr'),\n",
       "  storage=Weight()) # Sum: WeightedSum(value=2131.86, variance=149.875) (WeightedSum(value=2177.32, variance=155.165) with flow)"
      ]
     },
     "execution_count": 108,
     "metadata": {},
     "output_type": "execute_result"
    }
   ],
   "source": [
    "h"
   ]
  },
  {
   "cell_type": "code",
   "execution_count": 109,
   "metadata": {},
   "outputs": [],
   "source": [
    "import matplotlib.pyplot as plt"
   ]
  },
  {
   "cell_type": "code",
   "execution_count": 110,
   "metadata": {},
   "outputs": [
    {
     "data": {
      "text/plain": [
       "<matplotlib.legend.Legend at 0x7f31e5b4f820>"
      ]
     },
     "execution_count": 110,
     "metadata": {},
     "output_type": "execute_result"
    },
    {
     "data": {
      "image/png": "[encoded data removed]",
      "text/plain": [
       "<Figure size 640x480 with 1 Axes>"
      ]
     },
     "metadata": {},
     "output_type": "display_data"
    }
   ],
   "source": [
    "h[:, hist.loc('no_corr')].plot(label='No corr')\n",
    "h[:, hist.loc('reco_sf')].plot(label='Reco SF')\n",
    "h[:, hist.loc('trig_sf')].plot(label='Trig SF')\n",
    "h[:, hist.loc('all_corr')].plot(label='All corr')\n",
    "plt.yscale('log')\n",
    "plt.legend()"
   ]
  },
  {
   "cell_type": "code",
   "execution_count": 111,
   "metadata": {},
   "outputs": [],
   "source": [
    "values = []\n",
    "for t in weights:\n",
    "    values.append(h[:, hist.loc(t)].values())"
   ]
  },
  {
   "cell_type": "code",
   "execution_count": 112,
   "metadata": {},
   "outputs": [],
   "source": [
    "x = h.axes[0].centers\n",
    "edges = h.axes[0].edges"
   ]
  },
  {
   "cell_type": "code",
   "execution_count": 113,
   "metadata": {},
   "outputs": [],
   "source": [
    "stat = np.sqrt(h[:, hist.loc('no_corr')].variances())"
   ]
  },
  {
   "cell_type": "code",
   "execution_count": 114,
   "metadata": {},
   "outputs": [
    {
     "name": "stderr",
     "output_type": "stream",
     "text": [
      "/tmp/gpizzati/ipykernel_2076540/23220345.py:1: RuntimeWarning: invalid value encountered in divide\n",
      "  up = (values[0] + stat)/values[0]\n",
      "/tmp/gpizzati/ipykernel_2076540/23220345.py:2: RuntimeWarning: invalid value encountered in divide\n",
      "  do = (values[0] - stat)/values[0]\n"
     ]
    }
   ],
   "source": [
    "up = (values[0] + stat)/values[0]\n",
    "do = (values[0] - stat)/values[0]"
   ]
  },
  {
   "cell_type": "code",
   "execution_count": 115,
   "metadata": {},
   "outputs": [
    {
     "name": "stderr",
     "output_type": "stream",
     "text": [
      "/tmp/gpizzati/ipykernel_2076540/1415723985.py:4: RuntimeWarning: invalid value encountered in divide\n",
      "  plt.errorbar(x, values[0]/values[i], label=t)\n"
     ]
    },
    {
     "data": {
      "text/plain": [
       "<matplotlib.patches.StepPatch at 0x7f31e6d0ca90>"
      ]
     },
     "execution_count": 115,
     "metadata": {},
     "output_type": "execute_result"
    },
    {
     "data": {
      "image/png": "[encoded data removed]",
      "text/plain": [
       "<Figure size 640x480 with 1 Axes>"
      ]
     },
     "metadata": {},
     "output_type": "display_data"
    }
   ],
   "source": [
    "for i, t in enumerate(weights):\n",
    "    if i == 0:\n",
    "        continue\n",
    "    plt.errorbar(x, values[0]/values[i], label=t)\n",
    "plt.plot(edges, np.ones_like(edges), color='black')\n",
    "plt.ylim(1-0.1, 1+0.1)\n",
    "plt.legend()\n",
    "plt.stairs(up, edges, baseline=do, fill=True, color='lightgrey', alpha=.3, zorder=-10)"
   ]
  },
  {
   "cell_type": "code",
   "execution_count": 116,
   "metadata": {},
   "outputs": [
    {
     "data": {
      "text/plain": [
       "13396"
      ]
     },
     "execution_count": 116,
     "metadata": {},
     "output_type": "execute_result"
    }
   ],
   "source": [
    "len(genWeight)"
   ]
  },
  {
   "cell_type": "code",
   "execution_count": null,
   "metadata": {},
   "outputs": [],
   "source": []
  }
 ],
 "metadata": {
  "kernelspec": {
   "display_name": "Python 3 (ipykernel)",
   "language": "python",
   "name": "python3"
  },
  "language_info": {
   "codemirror_mode": {
    "name": "ipython",
    "version": 3
   },
   "file_extension": ".py",
   "mimetype": "text/x-python",
   "name": "python",
   "nbconvert_exporter": "python",
   "pygments_lexer": "ipython3",
   "version": "3.10.13"
  }
 },
 "nbformat": 4,
 "nbformat_minor": 2
}
