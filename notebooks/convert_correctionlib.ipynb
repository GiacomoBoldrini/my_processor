{
 "cells": [
  {
   "cell_type": "code",
   "execution_count": null,
   "id": "5ffec115-71d8-4e9a-9c01-99a50da5c535",
   "metadata": {},
   "outputs": [],
   "source": []
  },
  {
   "cell_type": "code",
   "execution_count": 23,
   "id": "2943d8e0-1d35-41db-b1d8-09c69904a823",
   "metadata": {},
   "outputs": [],
   "source": [
    "import correctionlib\n",
    "import pandas as pd\n",
    "import numpy as np\n",
    "import correctionlib.schemav2 as cs\n",
    "import hist\n",
    "import correctionlib.convert\n",
    "import rich\n",
    "\n",
    "import uproot\n",
    "\n",
    "import requests"
   ]
  },
  {
   "cell_type": "code",
   "execution_count": 24,
   "id": "ed4698b9-00de-4c67-885c-0f30f2291c1f",
   "metadata": {},
   "outputs": [],
   "source": [
    "import sys"
   ]
  },
  {
   "cell_type": "code",
   "execution_count": 25,
   "id": "745b420a-7e3c-48cf-bfb9-81e938d0a484",
   "metadata": {},
   "outputs": [],
   "source": [
    "sys.path.insert(0, \"/gwpool/users/gpizzati/test_processor/my_processor\")"
   ]
  },
  {
   "cell_type": "code",
   "execution_count": null,
   "id": "85fa816e-cb58-47f6-8622-ba0798ec7575",
   "metadata": {},
   "outputs": [],
   "source": []
  },
  {
   "cell_type": "code",
   "execution_count": null,
   "id": "18801d70-6be0-4d39-a9bc-b8d2ff88efd0",
   "metadata": {},
   "outputs": [],
   "source": []
  },
  {
   "cell_type": "code",
   "execution_count": null,
   "id": "ec223973-a36a-40d1-972a-dd80f3f88ea7",
   "metadata": {},
   "outputs": [],
   "source": []
  },
  {
   "cell_type": "code",
   "execution_count": 26,
   "id": "f01fd279-788b-420f-8f56-039aa8bfa978",
   "metadata": {},
   "outputs": [],
   "source": [
    "def get_cset(name, url):\n",
    "    base_url = \"https://raw.githubusercontent.com/latinos/LatinoAnalysis/UL_production/NanoGardener/python/data/trigger/\"\n",
    "\n",
    "    with open(\"test_sf.txt\", \"wb\") as file:\n",
    "        file.write(requests.get(base_url + url).content)\n",
    "    columns = \"eff stat_d stat_u syst_d syst_u\"\n",
    "    columns = columns.split(\" \")\n",
    "    df = pd.read_csv(\n",
    "        \"test_sf.txt\",\n",
    "        sep=\"\\t\",\n",
    "        skiprows=0,\n",
    "        header=None,\n",
    "        names=[\"eta_l\", \"eta_h\", \"pt_l\", \"pt_h\"] + columns,\n",
    "    )\n",
    "    for var in [\"eta\", \"pt\"]:\n",
    "        df[var] = list(zip(df[var + \"_l\"], df[var + \"_h\"]))\n",
    "        del df[var + \"_l\"]\n",
    "        del df[var + \"_h\"]\n",
    "    eta_bin = np.array(\n",
    "        list(map(lambda k: k[0], np.unique(df[\"eta\"]))) + [np.unique(df[\"eta\"])[-1][-1]]\n",
    "    )\n",
    "    pt_bin = np.array(\n",
    "        list(map(lambda k: k[0], np.unique(df[\"pt\"]))) + [np.unique(df[\"pt\"])[-1][-1]]\n",
    "    )\n",
    "    h = hist.Hist(\n",
    "        hist.axis.StrCategory(columns, name=\"syst\"),\n",
    "        hist.axis.Variable(eta_bin, name=\"eta\"),\n",
    "        hist.axis.Variable(pt_bin, name=\"pt\"),\n",
    "        hist.storage.Double(),\n",
    "    )\n",
    "    for syst in columns:\n",
    "        for pt_c in (pt_bin[1:] + pt_bin[:-1]) / 2:\n",
    "            for eta_c in (eta_bin[1:] + eta_bin[:-1]) / 2:\n",
    "                for i, (ipt, ieta) in enumerate(\n",
    "                    list(zip(list(df[\"pt\"]), list(df[\"eta\"])))\n",
    "                ):\n",
    "                    if ieta[0] <= eta_c < ieta[1] and ipt[0] <= pt_c < ipt[1]:\n",
    "                        h[hist.loc(syst), hist.loc(eta_c), hist.loc(pt_c)] = df[syst][i]\n",
    "    h.name = name\n",
    "    h.label = \"out\"\n",
    "    cset = correctionlib.convert.from_histogram(h)\n",
    "    return cset"
   ]
  },
  {
   "cell_type": "code",
   "execution_count": 27,
   "id": "f3b49567-9fb4-4705-be4f-63a31470225e",
   "metadata": {},
   "outputs": [],
   "source": [
    "def get_cset_drll(name, trigger_names, urls):\n",
    "    base_url = \"https://raw.githubusercontent.com/latinos/LatinoAnalysis/UL_production/NanoGardener/python/data/trigger/\"\n",
    "\n",
    "    for trigger_name, url in zip(trigger_names, urls):\n",
    "        with open(f\"test_sf_{trigger_name}.txt\", \"wb\") as file:\n",
    "            file.write(requests.get(base_url + url).content)\n",
    "        with open(f\"test_sf_{trigger_name}.txt\") as file:\n",
    "            lines = file.read().split(\"\\n\")\n",
    "        lines = list(map(lambda k: k.strip(), lines))\n",
    "        with open(f\"test_sf_{trigger_name}.txt\", \"w\") as file:\n",
    "            file.write(\"\\n\".join(lines))\n",
    "\n",
    "    big_df = {}\n",
    "    for trigger_name in trigger_names:\n",
    "        columns = \"sf\"\n",
    "        columns = columns.split(\" \")\n",
    "        df = pd.read_csv(\n",
    "            f\"test_sf_{trigger_name}.txt\",\n",
    "            sep=\" \",\n",
    "            index_col=False,\n",
    "            skiprows=0,\n",
    "            header=None,\n",
    "            names=[\"drll_l\", \"drll_h\"] + columns,\n",
    "        )\n",
    "        for var in [\"drll\"]:\n",
    "            df[var] = list(zip(df[var + \"_l\"], df[var + \"_h\"]))\n",
    "            del df[var + \"_l\"]\n",
    "            del df[var + \"_h\"]\n",
    "        drll_bin = np.array(\n",
    "            list(map(lambda k: k[0], np.unique(df[\"drll\"])))\n",
    "            + [np.unique(df[\"drll\"])[-1][-1]]\n",
    "        )\n",
    "        big_df[trigger_name] = df\n",
    "\n",
    "    h = hist.Hist(\n",
    "        hist.axis.StrCategory(trigger_names, name=\"Trigger\"),\n",
    "        hist.axis.Variable(drll_bin, name=\"drll\"),\n",
    "        hist.storage.Double(),\n",
    "    )\n",
    "\n",
    "    for trigger in trigger_names:\n",
    "        for drll_c in (drll_bin[1:] + drll_bin[:-1]) / 2:\n",
    "            for i, (idrll) in enumerate(list(df[\"drll\"])):\n",
    "                if idrll[0] <= drll_c < idrll[1]:\n",
    "                    h[hist.loc(trigger), hist.loc(drll_c)] = big_df[trigger][\"sf\"][i]\n",
    "    h.name = name\n",
    "    h.label = \"out\"\n",
    "    cset = correctionlib.convert.from_histogram(h)\n",
    "    return cset"
   ]
  },
  {
   "cell_type": "code",
   "execution_count": 28,
   "id": "a092d423-dacf-4730-8156-f93d4d9354cb",
   "metadata": {},
   "outputs": [
    {
     "ename": "ModuleNotFoundError",
     "evalue": "No module named 'data'",
     "output_type": "error",
     "traceback": [
      "\u001b[0;31m---------------------------------------------------------------------------\u001b[0m",
      "\u001b[0;31mModuleNotFoundError\u001b[0m                       Traceback (most recent call last)",
      "Cell \u001b[0;32mIn[28], line 1\u001b[0m\n\u001b[0;32m----> 1\u001b[0m \u001b[38;5;28;01mfrom\u001b[39;00m \u001b[38;5;21;01mdata\u001b[39;00m\u001b[38;5;21;01m.\u001b[39;00m\u001b[38;5;21;01mcommon\u001b[39;00m\u001b[38;5;21;01m.\u001b[39;00m\u001b[38;5;21;01mTrigMaker_cfg\u001b[39;00m \u001b[38;5;28;01mimport\u001b[39;00m Trigger\n",
      "\u001b[0;31mModuleNotFoundError\u001b[0m: No module named 'data'"
     ]
    }
   ],
   "source": [
    "from data.common.TrigMaker_cfg import Trigger"
   ]
  },
  {
   "cell_type": "code",
   "execution_count": null,
   "id": "bab72f45-73d9-4758-b3db-ba46e110b152",
   "metadata": {},
   "outputs": [
    {
     "name": "stdout",
     "output_type": "stream",
     "text": [
      "DoubleEle\n",
      "DoubleMu\n",
      "MuEle\n",
      "EleMu\n"
     ]
    },
    {
     "data": {
      "text/html": [
       "<pre style=\"white-space:pre;overflow-x:auto;line-height:normal;font-family:Menlo,'DejaVu Sans Mono',consolas,'Courier New',monospace\">📈 <span style=\"font-weight: bold\">DRll_SF</span> <span style=\"font-weight: bold\">(</span>v0<span style=\"font-weight: bold\">)</span>\n",
       "<span style=\"font-style: italic\">No description</span>\n",
       "Node counts: <span style=\"font-weight: bold\">Category</span>: <span style=\"color: #008080; text-decoration-color: #008080; font-weight: bold\">1</span>, <span style=\"font-weight: bold\">Binning</span>: <span style=\"color: #008080; text-decoration-color: #008080; font-weight: bold\">4</span>\n",
       "╭───────────────── ▶ input ─────────────────╮ ╭───── ▶ input ──────╮\n",
       "│ <span style=\"font-weight: bold\">Trigger</span> (string)                          │ │ <span style=\"font-weight: bold\">drll</span> (real)        │\n",
       "│ Trigger                                   │ │ drll               │\n",
       "│ Values: DoubleEle, DoubleMu, EleMu, MuEle │ │ Range: [0.0, 20.0) │\n",
       "╰───────────────────────────────────────────╯ ╰────────────────────╯\n",
       "╭─── ◀ output ───╮\n",
       "│ <span style=\"font-weight: bold\">out</span> (real)     │\n",
       "│ <span style=\"font-style: italic\">No description</span> │\n",
       "╰────────────────╯\n",
       "</pre>\n"
      ],
      "text/plain": [
       "📈 \u001b[1mDRll_SF\u001b[0m \u001b[1m(\u001b[0mv0\u001b[1m)\u001b[0m\n",
       "\u001b[3mNo description\u001b[0m\n",
       "Node counts: \u001b[1mCategory\u001b[0m: \u001b[1;36m1\u001b[0m, \u001b[1mBinning\u001b[0m: \u001b[1;36m4\u001b[0m\n",
       "╭───────────────── ▶ input ─────────────────╮ ╭───── ▶ input ──────╮\n",
       "│ \u001b[1mTrigger\u001b[0m (string)                          │ │ \u001b[1mdrll\u001b[0m (real)        │\n",
       "│ Trigger                                   │ │ drll               │\n",
       "│ Values: DoubleEle, DoubleMu, EleMu, MuEle │ │ Range: [0.0, 20.0) │\n",
       "╰───────────────────────────────────────────╯ ╰────────────────────╯\n",
       "╭─── ◀ output ───╮\n",
       "│ \u001b[1mout\u001b[0m (real)     │\n",
       "│ \u001b[3mNo description\u001b[0m │\n",
       "╰────────────────╯\n"
      ]
     },
     "metadata": {},
     "output_type": "display_data"
    }
   ],
   "source": []
  },
  {
   "cell_type": "code",
   "execution_count": null,
   "id": "042c47a2-cd54-4f55-b1ea-82452c8f1361",
   "metadata": {},
   "outputs": [],
   "source": [
    "for name, url in Trigger[\"Full2018v9\"][1][\"DRllSF\"].items():\n",
    "    csets.append(get_cset_drll(\"DRll_SF\" + name, url))"
   ]
  },
  {
   "cell_type": "code",
   "execution_count": null,
   "id": "b4282bc9-b603-43ad-aaea-e5f563ff4aae",
   "metadata": {},
   "outputs": [],
   "source": [
    "csets = []\n",
    "for name, url in Trigger[\"Full2018v9\"][1][\"LegEffData\"].items():\n",
    "    csets.append(get_cset(\"LegEffData_\" + name, url))\n",
    "for name, url in Trigger[\"Full2018v9\"][1][\"LegEffMC\"].items():\n",
    "    csets.append(get_cset(\"LegEffMC_\" + name, url))\n",
    "\n",
    "csets.append(\n",
    "    get_cset_drll(\n",
    "        \"DRll_SF\",\n",
    "        list(Trigger[\"Full2018v9\"][1][\"DRllSF\"].keys()),\n",
    "        list(Trigger[\"Full2018v9\"][1][\"DRllSF\"].values()),\n",
    "    )\n",
    ")"
   ]
  },
  {
   "cell_type": "code",
   "execution_count": null,
   "id": "476bd5cd-8481-4ee2-9518-8a602929bc58",
   "metadata": {},
   "outputs": [],
   "source": [
    "cset = correctionlib.schemav2.CorrectionSet(\n",
    "    schema_version=2, description=\"\", corrections=csets\n",
    ")"
   ]
  },
  {
   "cell_type": "code",
   "execution_count": null,
   "id": "9b6af8d7-948f-4eac-a455-dec738fd6a98",
   "metadata": {},
   "outputs": [
    {
     "data": {
      "text/html": [
       "<pre style=\"white-space:pre;overflow-x:auto;line-height:normal;font-family:Menlo,'DejaVu Sans Mono',consolas,'Courier New',monospace\"><span style=\"font-weight: bold\">CorrectionSet</span> (<span style=\"font-style: italic\">schema v2</span>)\n",
       "<span style=\"font-style: italic\">No description</span>\n",
       "📂\n",
       "├── 📈 <span style=\"font-weight: bold\">Data_DoubleEleLegHigPt</span> (v0)\n",
       "│   <span style=\"font-style: italic\">No description</span>\n",
       "│   Node counts: <span style=\"font-weight: bold\">Category</span>: 1, <span style=\"font-weight: bold\">MultiBinning</span>: 5\n",
       "│   ╭────────────────── ▶ input ──────────────────╮ ╭───── ▶ input ──────╮ ╭────── ▶ input ──────╮\n",
       "│   │ <span style=\"font-weight: bold\">syst</span> (string)                               │ │ <span style=\"font-weight: bold\">eta</span> (real)         │ │ <span style=\"font-weight: bold\">pt</span> (real)           │\n",
       "│   │ syst                                        │ │ eta                │ │ pt                  │\n",
       "│   │ Values: eff, stat_d, stat_u, syst_d, syst_u │ │ Range: [-2.5, 2.5) │ │ Range: [0.0, 200.0) │\n",
       "│   ╰─────────────────────────────────────────────╯ ╰────────────────────╯ ╰─────────────────────╯\n",
       "│   ╭─── ◀ output ───╮\n",
       "│   │ <span style=\"font-weight: bold\">out</span> (real)     │\n",
       "│   │ <span style=\"font-style: italic\">No description</span> │\n",
       "│   ╰────────────────╯\n",
       "├── 📈 <span style=\"font-weight: bold\">Data_DoubleEleLegLowPt</span> (v0)\n",
       "│   <span style=\"font-style: italic\">No description</span>\n",
       "│   Node counts: <span style=\"font-weight: bold\">Category</span>: 1, <span style=\"font-weight: bold\">MultiBinning</span>: 5\n",
       "│   ╭────────────────── ▶ input ──────────────────╮ ╭───── ▶ input ──────╮ ╭────── ▶ input ──────╮\n",
       "│   │ <span style=\"font-weight: bold\">syst</span> (string)                               │ │ <span style=\"font-weight: bold\">eta</span> (real)         │ │ <span style=\"font-weight: bold\">pt</span> (real)           │\n",
       "│   │ syst                                        │ │ eta                │ │ pt                  │\n",
       "│   │ Values: eff, stat_d, stat_u, syst_d, syst_u │ │ Range: [-2.5, 2.5) │ │ Range: [0.0, 200.0) │\n",
       "│   ╰─────────────────────────────────────────────╯ ╰────────────────────╯ ╰─────────────────────╯\n",
       "│   ╭─── ◀ output ───╮\n",
       "│   │ <span style=\"font-weight: bold\">out</span> (real)     │\n",
       "│   │ <span style=\"font-style: italic\">No description</span> │\n",
       "│   ╰────────────────╯\n",
       "├── 📈 <span style=\"font-weight: bold\">Data_SingleEle</span> (v0)\n",
       "│   <span style=\"font-style: italic\">No description</span>\n",
       "│   Node counts: <span style=\"font-weight: bold\">Category</span>: 1, <span style=\"font-weight: bold\">MultiBinning</span>: 5\n",
       "│   ╭────────────────── ▶ input ──────────────────╮ ╭───── ▶ input ──────╮ ╭────── ▶ input ──────╮\n",
       "│   │ <span style=\"font-weight: bold\">syst</span> (string)                               │ │ <span style=\"font-weight: bold\">eta</span> (real)         │ │ <span style=\"font-weight: bold\">pt</span> (real)           │\n",
       "│   │ syst                                        │ │ eta                │ │ pt                  │\n",
       "│   │ Values: eff, stat_d, stat_u, syst_d, syst_u │ │ Range: [-2.5, 2.5) │ │ Range: [0.0, 200.0) │\n",
       "│   ╰─────────────────────────────────────────────╯ ╰────────────────────╯ ╰─────────────────────╯\n",
       "│   ╭─── ◀ output ───╮\n",
       "│   │ <span style=\"font-weight: bold\">out</span> (real)     │\n",
       "│   │ <span style=\"font-style: italic\">No description</span> │\n",
       "│   ╰────────────────╯\n",
       "├── 📈 <span style=\"font-weight: bold\">Data_DoubleMuLegHigPt</span> (v0)\n",
       "│   <span style=\"font-style: italic\">No description</span>\n",
       "│   Node counts: <span style=\"font-weight: bold\">Category</span>: 1, <span style=\"font-weight: bold\">MultiBinning</span>: 5\n",
       "│   ╭────────────────── ▶ input ──────────────────╮ ╭───── ▶ input ──────╮ ╭────── ▶ input ──────╮\n",
       "│   │ <span style=\"font-weight: bold\">syst</span> (string)                               │ │ <span style=\"font-weight: bold\">eta</span> (real)         │ │ <span style=\"font-weight: bold\">pt</span> (real)           │\n",
       "│   │ syst                                        │ │ eta                │ │ pt                  │\n",
       "│   │ Values: eff, stat_d, stat_u, syst_d, syst_u │ │ Range: [-2.4, 2.4) │ │ Range: [0.0, 200.0) │\n",
       "│   ╰─────────────────────────────────────────────╯ ╰────────────────────╯ ╰─────────────────────╯\n",
       "│   ╭─── ◀ output ───╮\n",
       "│   │ <span style=\"font-weight: bold\">out</span> (real)     │\n",
       "│   │ <span style=\"font-style: italic\">No description</span> │\n",
       "│   ╰────────────────╯\n",
       "├── 📈 <span style=\"font-weight: bold\">Data_DoubleMuLegLowPt</span> (v0)\n",
       "│   <span style=\"font-style: italic\">No description</span>\n",
       "│   Node counts: <span style=\"font-weight: bold\">Category</span>: 1, <span style=\"font-weight: bold\">MultiBinning</span>: 5\n",
       "│   ╭────────────────── ▶ input ──────────────────╮ ╭───── ▶ input ──────╮ ╭────── ▶ input ──────╮\n",
       "│   │ <span style=\"font-weight: bold\">syst</span> (string)                               │ │ <span style=\"font-weight: bold\">eta</span> (real)         │ │ <span style=\"font-weight: bold\">pt</span> (real)           │\n",
       "│   │ syst                                        │ │ eta                │ │ pt                  │\n",
       "│   │ Values: eff, stat_d, stat_u, syst_d, syst_u │ │ Range: [-2.4, 2.4) │ │ Range: [0.0, 200.0) │\n",
       "│   ╰─────────────────────────────────────────────╯ ╰────────────────────╯ ╰─────────────────────╯\n",
       "│   ╭─── ◀ output ───╮\n",
       "│   │ <span style=\"font-weight: bold\">out</span> (real)     │\n",
       "│   │ <span style=\"font-style: italic\">No description</span> │\n",
       "│   ╰────────────────╯\n",
       "├── 📈 <span style=\"font-weight: bold\">Data_SingleMu</span> (v0)\n",
       "│   <span style=\"font-style: italic\">No description</span>\n",
       "│   Node counts: <span style=\"font-weight: bold\">Category</span>: 1, <span style=\"font-weight: bold\">MultiBinning</span>: 5\n",
       "│   ╭────────────────── ▶ input ──────────────────╮ ╭───── ▶ input ──────╮ ╭────── ▶ input ──────╮\n",
       "│   │ <span style=\"font-weight: bold\">syst</span> (string)                               │ │ <span style=\"font-weight: bold\">eta</span> (real)         │ │ <span style=\"font-weight: bold\">pt</span> (real)           │\n",
       "│   │ syst                                        │ │ eta                │ │ pt                  │\n",
       "│   │ Values: eff, stat_d, stat_u, syst_d, syst_u │ │ Range: [-2.4, 2.4) │ │ Range: [0.0, 200.0) │\n",
       "│   ╰─────────────────────────────────────────────╯ ╰────────────────────╯ ╰─────────────────────╯\n",
       "│   ╭─── ◀ output ───╮\n",
       "│   │ <span style=\"font-weight: bold\">out</span> (real)     │\n",
       "│   │ <span style=\"font-style: italic\">No description</span> │\n",
       "│   ╰────────────────╯\n",
       "├── 📈 <span style=\"font-weight: bold\">Data_MuEleLegHigPt</span> (v0)\n",
       "│   <span style=\"font-style: italic\">No description</span>\n",
       "│   Node counts: <span style=\"font-weight: bold\">Category</span>: 1, <span style=\"font-weight: bold\">MultiBinning</span>: 5\n",
       "│   ╭────────────────── ▶ input ──────────────────╮ ╭───── ▶ input ──────╮ ╭────── ▶ input ──────╮\n",
       "│   │ <span style=\"font-weight: bold\">syst</span> (string)                               │ │ <span style=\"font-weight: bold\">eta</span> (real)         │ │ <span style=\"font-weight: bold\">pt</span> (real)           │\n",
       "│   │ syst                                        │ │ eta                │ │ pt                  │\n",
       "│   │ Values: eff, stat_d, stat_u, syst_d, syst_u │ │ Range: [-2.4, 2.4) │ │ Range: [0.0, 200.0) │\n",
       "│   ╰─────────────────────────────────────────────╯ ╰────────────────────╯ ╰─────────────────────╯\n",
       "│   ╭─── ◀ output ───╮\n",
       "│   │ <span style=\"font-weight: bold\">out</span> (real)     │\n",
       "│   │ <span style=\"font-style: italic\">No description</span> │\n",
       "│   ╰────────────────╯\n",
       "├── 📈 <span style=\"font-weight: bold\">Data_MuEleLegLowPt</span> (v0)\n",
       "│   <span style=\"font-style: italic\">No description</span>\n",
       "│   Node counts: <span style=\"font-weight: bold\">Category</span>: 1, <span style=\"font-weight: bold\">MultiBinning</span>: 5\n",
       "│   ╭────────────────── ▶ input ──────────────────╮ ╭───── ▶ input ──────╮ ╭────── ▶ input ──────╮\n",
       "│   │ <span style=\"font-weight: bold\">syst</span> (string)                               │ │ <span style=\"font-weight: bold\">eta</span> (real)         │ │ <span style=\"font-weight: bold\">pt</span> (real)           │\n",
       "│   │ syst                                        │ │ eta                │ │ pt                  │\n",
       "│   │ Values: eff, stat_d, stat_u, syst_d, syst_u │ │ Range: [-2.5, 2.5) │ │ Range: [0.0, 200.0) │\n",
       "│   ╰─────────────────────────────────────────────╯ ╰────────────────────╯ ╰─────────────────────╯\n",
       "│   ╭─── ◀ output ───╮\n",
       "│   │ <span style=\"font-weight: bold\">out</span> (real)     │\n",
       "│   │ <span style=\"font-style: italic\">No description</span> │\n",
       "│   ╰────────────────╯\n",
       "├── 📈 <span style=\"font-weight: bold\">Data_EleMuLegHigPt</span> (v0)\n",
       "│   <span style=\"font-style: italic\">No description</span>\n",
       "│   Node counts: <span style=\"font-weight: bold\">Category</span>: 1, <span style=\"font-weight: bold\">MultiBinning</span>: 5\n",
       "│   ╭────────────────── ▶ input ──────────────────╮ ╭───── ▶ input ──────╮ ╭────── ▶ input ──────╮\n",
       "│   │ <span style=\"font-weight: bold\">syst</span> (string)                               │ │ <span style=\"font-weight: bold\">eta</span> (real)         │ │ <span style=\"font-weight: bold\">pt</span> (real)           │\n",
       "│   │ syst                                        │ │ eta                │ │ pt                  │\n",
       "│   │ Values: eff, stat_d, stat_u, syst_d, syst_u │ │ Range: [-2.5, 2.5) │ │ Range: [0.0, 200.0) │\n",
       "│   ╰─────────────────────────────────────────────╯ ╰────────────────────╯ ╰─────────────────────╯\n",
       "│   ╭─── ◀ output ───╮\n",
       "│   │ <span style=\"font-weight: bold\">out</span> (real)     │\n",
       "│   │ <span style=\"font-style: italic\">No description</span> │\n",
       "│   ╰────────────────╯\n",
       "├── 📈 <span style=\"font-weight: bold\">Data_EleMuLegLowPt</span> (v0)\n",
       "│   <span style=\"font-style: italic\">No description</span>\n",
       "│   Node counts: <span style=\"font-weight: bold\">Category</span>: 1, <span style=\"font-weight: bold\">MultiBinning</span>: 5\n",
       "│   ╭────────────────── ▶ input ──────────────────╮ ╭───── ▶ input ──────╮ ╭────── ▶ input ──────╮\n",
       "│   │ <span style=\"font-weight: bold\">syst</span> (string)                               │ │ <span style=\"font-weight: bold\">eta</span> (real)         │ │ <span style=\"font-weight: bold\">pt</span> (real)           │\n",
       "│   │ syst                                        │ │ eta                │ │ pt                  │\n",
       "│   │ Values: eff, stat_d, stat_u, syst_d, syst_u │ │ Range: [-2.4, 2.4) │ │ Range: [0.0, 200.0) │\n",
       "│   ╰─────────────────────────────────────────────╯ ╰────────────────────╯ ╰─────────────────────╯\n",
       "│   ╭─── ◀ output ───╮\n",
       "│   │ <span style=\"font-weight: bold\">out</span> (real)     │\n",
       "│   │ <span style=\"font-style: italic\">No description</span> │\n",
       "│   ╰────────────────╯\n",
       "├── 📈 <span style=\"font-weight: bold\">MC_DoubleEleLegHigPt</span> (v0)\n",
       "│   <span style=\"font-style: italic\">No description</span>\n",
       "│   Node counts: <span style=\"font-weight: bold\">Category</span>: 1, <span style=\"font-weight: bold\">MultiBinning</span>: 5\n",
       "│   ╭────────────────── ▶ input ──────────────────╮ ╭───── ▶ input ──────╮ ╭────── ▶ input ──────╮\n",
       "│   │ <span style=\"font-weight: bold\">syst</span> (string)                               │ │ <span style=\"font-weight: bold\">eta</span> (real)         │ │ <span style=\"font-weight: bold\">pt</span> (real)           │\n",
       "│   │ syst                                        │ │ eta                │ │ pt                  │\n",
       "│   │ Values: eff, stat_d, stat_u, syst_d, syst_u │ │ Range: [-2.5, 2.5) │ │ Range: [0.0, 200.0) │\n",
       "│   ╰─────────────────────────────────────────────╯ ╰────────────────────╯ ╰─────────────────────╯\n",
       "│   ╭─── ◀ output ───╮\n",
       "│   │ <span style=\"font-weight: bold\">out</span> (real)     │\n",
       "│   │ <span style=\"font-style: italic\">No description</span> │\n",
       "│   ╰────────────────╯\n",
       "├── 📈 <span style=\"font-weight: bold\">MC_DoubleEleLegLowPt</span> (v0)\n",
       "│   <span style=\"font-style: italic\">No description</span>\n",
       "│   Node counts: <span style=\"font-weight: bold\">Category</span>: 1, <span style=\"font-weight: bold\">MultiBinning</span>: 5\n",
       "│   ╭────────────────── ▶ input ──────────────────╮ ╭───── ▶ input ──────╮ ╭────── ▶ input ──────╮\n",
       "│   │ <span style=\"font-weight: bold\">syst</span> (string)                               │ │ <span style=\"font-weight: bold\">eta</span> (real)         │ │ <span style=\"font-weight: bold\">pt</span> (real)           │\n",
       "│   │ syst                                        │ │ eta                │ │ pt                  │\n",
       "│   │ Values: eff, stat_d, stat_u, syst_d, syst_u │ │ Range: [-2.5, 2.5) │ │ Range: [0.0, 200.0) │\n",
       "│   ╰─────────────────────────────────────────────╯ ╰────────────────────╯ ╰─────────────────────╯\n",
       "│   ╭─── ◀ output ───╮\n",
       "│   │ <span style=\"font-weight: bold\">out</span> (real)     │\n",
       "│   │ <span style=\"font-style: italic\">No description</span> │\n",
       "│   ╰────────────────╯\n",
       "├── 📈 <span style=\"font-weight: bold\">MC_SingleEle</span> (v0)\n",
       "│   <span style=\"font-style: italic\">No description</span>\n",
       "│   Node counts: <span style=\"font-weight: bold\">Category</span>: 1, <span style=\"font-weight: bold\">MultiBinning</span>: 5\n",
       "│   ╭────────────────── ▶ input ──────────────────╮ ╭───── ▶ input ──────╮ ╭────── ▶ input ──────╮\n",
       "│   │ <span style=\"font-weight: bold\">syst</span> (string)                               │ │ <span style=\"font-weight: bold\">eta</span> (real)         │ │ <span style=\"font-weight: bold\">pt</span> (real)           │\n",
       "│   │ syst                                        │ │ eta                │ │ pt                  │\n",
       "│   │ Values: eff, stat_d, stat_u, syst_d, syst_u │ │ Range: [-2.5, 2.5) │ │ Range: [0.0, 200.0) │\n",
       "│   ╰─────────────────────────────────────────────╯ ╰────────────────────╯ ╰─────────────────────╯\n",
       "│   ╭─── ◀ output ───╮\n",
       "│   │ <span style=\"font-weight: bold\">out</span> (real)     │\n",
       "│   │ <span style=\"font-style: italic\">No description</span> │\n",
       "│   ╰────────────────╯\n",
       "├── 📈 <span style=\"font-weight: bold\">MC_DoubleMuLegHigPt</span> (v0)\n",
       "│   <span style=\"font-style: italic\">No description</span>\n",
       "│   Node counts: <span style=\"font-weight: bold\">Category</span>: 1, <span style=\"font-weight: bold\">MultiBinning</span>: 5\n",
       "│   ╭────────────────── ▶ input ──────────────────╮ ╭───── ▶ input ──────╮ ╭────── ▶ input ──────╮\n",
       "│   │ <span style=\"font-weight: bold\">syst</span> (string)                               │ │ <span style=\"font-weight: bold\">eta</span> (real)         │ │ <span style=\"font-weight: bold\">pt</span> (real)           │\n",
       "│   │ syst                                        │ │ eta                │ │ pt                  │\n",
       "│   │ Values: eff, stat_d, stat_u, syst_d, syst_u │ │ Range: [-2.4, 2.4) │ │ Range: [0.0, 200.0) │\n",
       "│   ╰─────────────────────────────────────────────╯ ╰────────────────────╯ ╰─────────────────────╯\n",
       "│   ╭─── ◀ output ───╮\n",
       "│   │ <span style=\"font-weight: bold\">out</span> (real)     │\n",
       "│   │ <span style=\"font-style: italic\">No description</span> │\n",
       "│   ╰────────────────╯\n",
       "├── 📈 <span style=\"font-weight: bold\">MC_DoubleMuLegLowPt</span> (v0)\n",
       "│   <span style=\"font-style: italic\">No description</span>\n",
       "│   Node counts: <span style=\"font-weight: bold\">Category</span>: 1, <span style=\"font-weight: bold\">MultiBinning</span>: 5\n",
       "│   ╭────────────────── ▶ input ──────────────────╮ ╭───── ▶ input ──────╮ ╭────── ▶ input ──────╮\n",
       "│   │ <span style=\"font-weight: bold\">syst</span> (string)                               │ │ <span style=\"font-weight: bold\">eta</span> (real)         │ │ <span style=\"font-weight: bold\">pt</span> (real)           │\n",
       "│   │ syst                                        │ │ eta                │ │ pt                  │\n",
       "│   │ Values: eff, stat_d, stat_u, syst_d, syst_u │ │ Range: [-2.4, 2.4) │ │ Range: [0.0, 200.0) │\n",
       "│   ╰─────────────────────────────────────────────╯ ╰────────────────────╯ ╰─────────────────────╯\n",
       "│   ╭─── ◀ output ───╮\n",
       "│   │ <span style=\"font-weight: bold\">out</span> (real)     │\n",
       "│   │ <span style=\"font-style: italic\">No description</span> │\n",
       "│   ╰────────────────╯\n",
       "├── 📈 <span style=\"font-weight: bold\">MC_SingleMu</span> (v0)\n",
       "│   <span style=\"font-style: italic\">No description</span>\n",
       "│   Node counts: <span style=\"font-weight: bold\">Category</span>: 1, <span style=\"font-weight: bold\">MultiBinning</span>: 5\n",
       "│   ╭────────────────── ▶ input ──────────────────╮ ╭───── ▶ input ──────╮ ╭────── ▶ input ──────╮\n",
       "│   │ <span style=\"font-weight: bold\">syst</span> (string)                               │ │ <span style=\"font-weight: bold\">eta</span> (real)         │ │ <span style=\"font-weight: bold\">pt</span> (real)           │\n",
       "│   │ syst                                        │ │ eta                │ │ pt                  │\n",
       "│   │ Values: eff, stat_d, stat_u, syst_d, syst_u │ │ Range: [-2.4, 2.4) │ │ Range: [0.0, 200.0) │\n",
       "│   ╰─────────────────────────────────────────────╯ ╰────────────────────╯ ╰─────────────────────╯\n",
       "│   ╭─── ◀ output ───╮\n",
       "│   │ <span style=\"font-weight: bold\">out</span> (real)     │\n",
       "│   │ <span style=\"font-style: italic\">No description</span> │\n",
       "│   ╰────────────────╯\n",
       "├── 📈 <span style=\"font-weight: bold\">MC_MuEleLegHigPt</span> (v0)\n",
       "│   <span style=\"font-style: italic\">No description</span>\n",
       "│   Node counts: <span style=\"font-weight: bold\">Category</span>: 1, <span style=\"font-weight: bold\">MultiBinning</span>: 5\n",
       "│   ╭────────────────── ▶ input ──────────────────╮ ╭───── ▶ input ──────╮ ╭────── ▶ input ──────╮\n",
       "│   │ <span style=\"font-weight: bold\">syst</span> (string)                               │ │ <span style=\"font-weight: bold\">eta</span> (real)         │ │ <span style=\"font-weight: bold\">pt</span> (real)           │\n",
       "│   │ syst                                        │ │ eta                │ │ pt                  │\n",
       "│   │ Values: eff, stat_d, stat_u, syst_d, syst_u │ │ Range: [-2.4, 2.4) │ │ Range: [0.0, 200.0) │\n",
       "│   ╰─────────────────────────────────────────────╯ ╰────────────────────╯ ╰─────────────────────╯\n",
       "│   ╭─── ◀ output ───╮\n",
       "│   │ <span style=\"font-weight: bold\">out</span> (real)     │\n",
       "│   │ <span style=\"font-style: italic\">No description</span> │\n",
       "│   ╰────────────────╯\n",
       "├── 📈 <span style=\"font-weight: bold\">MC_MuEleLegLowPt</span> (v0)\n",
       "│   <span style=\"font-style: italic\">No description</span>\n",
       "│   Node counts: <span style=\"font-weight: bold\">Category</span>: 1, <span style=\"font-weight: bold\">MultiBinning</span>: 5\n",
       "│   ╭────────────────── ▶ input ──────────────────╮ ╭───── ▶ input ──────╮ ╭────── ▶ input ──────╮\n",
       "│   │ <span style=\"font-weight: bold\">syst</span> (string)                               │ │ <span style=\"font-weight: bold\">eta</span> (real)         │ │ <span style=\"font-weight: bold\">pt</span> (real)           │\n",
       "│   │ syst                                        │ │ eta                │ │ pt                  │\n",
       "│   │ Values: eff, stat_d, stat_u, syst_d, syst_u │ │ Range: [-2.5, 2.5) │ │ Range: [0.0, 200.0) │\n",
       "│   ╰─────────────────────────────────────────────╯ ╰────────────────────╯ ╰─────────────────────╯\n",
       "│   ╭─── ◀ output ───╮\n",
       "│   │ <span style=\"font-weight: bold\">out</span> (real)     │\n",
       "│   │ <span style=\"font-style: italic\">No description</span> │\n",
       "│   ╰────────────────╯\n",
       "├── 📈 <span style=\"font-weight: bold\">MC_EleMuLegHigPt</span> (v0)\n",
       "│   <span style=\"font-style: italic\">No description</span>\n",
       "│   Node counts: <span style=\"font-weight: bold\">Category</span>: 1, <span style=\"font-weight: bold\">MultiBinning</span>: 5\n",
       "│   ╭────────────────── ▶ input ──────────────────╮ ╭───── ▶ input ──────╮ ╭────── ▶ input ──────╮\n",
       "│   │ <span style=\"font-weight: bold\">syst</span> (string)                               │ │ <span style=\"font-weight: bold\">eta</span> (real)         │ │ <span style=\"font-weight: bold\">pt</span> (real)           │\n",
       "│   │ syst                                        │ │ eta                │ │ pt                  │\n",
       "│   │ Values: eff, stat_d, stat_u, syst_d, syst_u │ │ Range: [-2.5, 2.5) │ │ Range: [0.0, 200.0) │\n",
       "│   ╰─────────────────────────────────────────────╯ ╰────────────────────╯ ╰─────────────────────╯\n",
       "│   ╭─── ◀ output ───╮\n",
       "│   │ <span style=\"font-weight: bold\">out</span> (real)     │\n",
       "│   │ <span style=\"font-style: italic\">No description</span> │\n",
       "│   ╰────────────────╯\n",
       "└── 📈 <span style=\"font-weight: bold\">MC_EleMuLegLowPt</span> (v0)\n",
       "    <span style=\"font-style: italic\">No description</span>\n",
       "    Node counts: <span style=\"font-weight: bold\">Category</span>: 1, <span style=\"font-weight: bold\">MultiBinning</span>: 5\n",
       "    ╭────────────────── ▶ input ──────────────────╮ ╭───── ▶ input ──────╮ ╭────── ▶ input ──────╮\n",
       "    │ <span style=\"font-weight: bold\">syst</span> (string)                               │ │ <span style=\"font-weight: bold\">eta</span> (real)         │ │ <span style=\"font-weight: bold\">pt</span> (real)           │\n",
       "    │ syst                                        │ │ eta                │ │ pt                  │\n",
       "    │ Values: eff, stat_d, stat_u, syst_d, syst_u │ │ Range: [-2.4, 2.4) │ │ Range: [0.0, 200.0) │\n",
       "    ╰─────────────────────────────────────────────╯ ╰────────────────────╯ ╰─────────────────────╯\n",
       "    ╭─── ◀ output ───╮\n",
       "    │ <span style=\"font-weight: bold\">out</span> (real)     │\n",
       "    │ <span style=\"font-style: italic\">No description</span> │\n",
       "    ╰────────────────╯\n",
       "</pre>\n"
      ],
      "text/plain": [
       "\u001b[1mCorrectionSet\u001b[0m (\u001b[3mschema v2\u001b[0m)\n",
       "\u001b[3mNo description\u001b[0m\n",
       "📂\n",
       "├── 📈 \u001b[1mData_DoubleEleLegHigPt\u001b[0m (v0)\n",
       "│   \u001b[3mNo description\u001b[0m\n",
       "│   Node counts: \u001b[1mCategory\u001b[0m: 1, \u001b[1mMultiBinning\u001b[0m: 5\n",
       "│   ╭────────────────── ▶ input ──────────────────╮ ╭───── ▶ input ──────╮ ╭────── ▶ input ──────╮\n",
       "│   │ \u001b[1msyst\u001b[0m (string)                               │ │ \u001b[1meta\u001b[0m (real)         │ │ \u001b[1mpt\u001b[0m (real)           │\n",
       "│   │ syst                                        │ │ eta                │ │ pt                  │\n",
       "│   │ Values: eff, stat_d, stat_u, syst_d, syst_u │ │ Range: [-2.5, 2.5) │ │ Range: [0.0, 200.0) │\n",
       "│   ╰─────────────────────────────────────────────╯ ╰────────────────────╯ ╰─────────────────────╯\n",
       "│   ╭─── ◀ output ───╮\n",
       "│   │ \u001b[1mout\u001b[0m (real)     │\n",
       "│   │ \u001b[3mNo description\u001b[0m │\n",
       "│   ╰────────────────╯\n",
       "├── 📈 \u001b[1mData_DoubleEleLegLowPt\u001b[0m (v0)\n",
       "│   \u001b[3mNo description\u001b[0m\n",
       "│   Node counts: \u001b[1mCategory\u001b[0m: 1, \u001b[1mMultiBinning\u001b[0m: 5\n",
       "│   ╭────────────────── ▶ input ──────────────────╮ ╭───── ▶ input ──────╮ ╭────── ▶ input ──────╮\n",
       "│   │ \u001b[1msyst\u001b[0m (string)                               │ │ \u001b[1meta\u001b[0m (real)         │ │ \u001b[1mpt\u001b[0m (real)           │\n",
       "│   │ syst                                        │ │ eta                │ │ pt                  │\n",
       "│   │ Values: eff, stat_d, stat_u, syst_d, syst_u │ │ Range: [-2.5, 2.5) │ │ Range: [0.0, 200.0) │\n",
       "│   ╰─────────────────────────────────────────────╯ ╰────────────────────╯ ╰─────────────────────╯\n",
       "│   ╭─── ◀ output ───╮\n",
       "│   │ \u001b[1mout\u001b[0m (real)     │\n",
       "│   │ \u001b[3mNo description\u001b[0m │\n",
       "│   ╰────────────────╯\n",
       "├── 📈 \u001b[1mData_SingleEle\u001b[0m (v0)\n",
       "│   \u001b[3mNo description\u001b[0m\n",
       "│   Node counts: \u001b[1mCategory\u001b[0m: 1, \u001b[1mMultiBinning\u001b[0m: 5\n",
       "│   ╭────────────────── ▶ input ──────────────────╮ ╭───── ▶ input ──────╮ ╭────── ▶ input ──────╮\n",
       "│   │ \u001b[1msyst\u001b[0m (string)                               │ │ \u001b[1meta\u001b[0m (real)         │ │ \u001b[1mpt\u001b[0m (real)           │\n",
       "│   │ syst                                        │ │ eta                │ │ pt                  │\n",
       "│   │ Values: eff, stat_d, stat_u, syst_d, syst_u │ │ Range: [-2.5, 2.5) │ │ Range: [0.0, 200.0) │\n",
       "│   ╰─────────────────────────────────────────────╯ ╰────────────────────╯ ╰─────────────────────╯\n",
       "│   ╭─── ◀ output ───╮\n",
       "│   │ \u001b[1mout\u001b[0m (real)     │\n",
       "│   │ \u001b[3mNo description\u001b[0m │\n",
       "│   ╰────────────────╯\n",
       "├── 📈 \u001b[1mData_DoubleMuLegHigPt\u001b[0m (v0)\n",
       "│   \u001b[3mNo description\u001b[0m\n",
       "│   Node counts: \u001b[1mCategory\u001b[0m: 1, \u001b[1mMultiBinning\u001b[0m: 5\n",
       "│   ╭────────────────── ▶ input ──────────────────╮ ╭───── ▶ input ──────╮ ╭────── ▶ input ──────╮\n",
       "│   │ \u001b[1msyst\u001b[0m (string)                               │ │ \u001b[1meta\u001b[0m (real)         │ │ \u001b[1mpt\u001b[0m (real)           │\n",
       "│   │ syst                                        │ │ eta                │ │ pt                  │\n",
       "│   │ Values: eff, stat_d, stat_u, syst_d, syst_u │ │ Range: [-2.4, 2.4) │ │ Range: [0.0, 200.0) │\n",
       "│   ╰─────────────────────────────────────────────╯ ╰────────────────────╯ ╰─────────────────────╯\n",
       "│   ╭─── ◀ output ───╮\n",
       "│   │ \u001b[1mout\u001b[0m (real)     │\n",
       "│   │ \u001b[3mNo description\u001b[0m │\n",
       "│   ╰────────────────╯\n",
       "├── 📈 \u001b[1mData_DoubleMuLegLowPt\u001b[0m (v0)\n",
       "│   \u001b[3mNo description\u001b[0m\n",
       "│   Node counts: \u001b[1mCategory\u001b[0m: 1, \u001b[1mMultiBinning\u001b[0m: 5\n",
       "│   ╭────────────────── ▶ input ──────────────────╮ ╭───── ▶ input ──────╮ ╭────── ▶ input ──────╮\n",
       "│   │ \u001b[1msyst\u001b[0m (string)                               │ │ \u001b[1meta\u001b[0m (real)         │ │ \u001b[1mpt\u001b[0m (real)           │\n",
       "│   │ syst                                        │ │ eta                │ │ pt                  │\n",
       "│   │ Values: eff, stat_d, stat_u, syst_d, syst_u │ │ Range: [-2.4, 2.4) │ │ Range: [0.0, 200.0) │\n",
       "│   ╰─────────────────────────────────────────────╯ ╰────────────────────╯ ╰─────────────────────╯\n",
       "│   ╭─── ◀ output ───╮\n",
       "│   │ \u001b[1mout\u001b[0m (real)     │\n",
       "│   │ \u001b[3mNo description\u001b[0m │\n",
       "│   ╰────────────────╯\n",
       "├── 📈 \u001b[1mData_SingleMu\u001b[0m (v0)\n",
       "│   \u001b[3mNo description\u001b[0m\n",
       "│   Node counts: \u001b[1mCategory\u001b[0m: 1, \u001b[1mMultiBinning\u001b[0m: 5\n",
       "│   ╭────────────────── ▶ input ──────────────────╮ ╭───── ▶ input ──────╮ ╭────── ▶ input ──────╮\n",
       "│   │ \u001b[1msyst\u001b[0m (string)                               │ │ \u001b[1meta\u001b[0m (real)         │ │ \u001b[1mpt\u001b[0m (real)           │\n",
       "│   │ syst                                        │ │ eta                │ │ pt                  │\n",
       "│   │ Values: eff, stat_d, stat_u, syst_d, syst_u │ │ Range: [-2.4, 2.4) │ │ Range: [0.0, 200.0) │\n",
       "│   ╰─────────────────────────────────────────────╯ ╰────────────────────╯ ╰─────────────────────╯\n",
       "│   ╭─── ◀ output ───╮\n",
       "│   │ \u001b[1mout\u001b[0m (real)     │\n",
       "│   │ \u001b[3mNo description\u001b[0m │\n",
       "│   ╰────────────────╯\n",
       "├── 📈 \u001b[1mData_MuEleLegHigPt\u001b[0m (v0)\n",
       "│   \u001b[3mNo description\u001b[0m\n",
       "│   Node counts: \u001b[1mCategory\u001b[0m: 1, \u001b[1mMultiBinning\u001b[0m: 5\n",
       "│   ╭────────────────── ▶ input ──────────────────╮ ╭───── ▶ input ──────╮ ╭────── ▶ input ──────╮\n",
       "│   │ \u001b[1msyst\u001b[0m (string)                               │ │ \u001b[1meta\u001b[0m (real)         │ │ \u001b[1mpt\u001b[0m (real)           │\n",
       "│   │ syst                                        │ │ eta                │ │ pt                  │\n",
       "│   │ Values: eff, stat_d, stat_u, syst_d, syst_u │ │ Range: [-2.4, 2.4) │ │ Range: [0.0, 200.0) │\n",
       "│   ╰─────────────────────────────────────────────╯ ╰────────────────────╯ ╰─────────────────────╯\n",
       "│   ╭─── ◀ output ───╮\n",
       "│   │ \u001b[1mout\u001b[0m (real)     │\n",
       "│   │ \u001b[3mNo description\u001b[0m │\n",
       "│   ╰────────────────╯\n",
       "├── 📈 \u001b[1mData_MuEleLegLowPt\u001b[0m (v0)\n",
       "│   \u001b[3mNo description\u001b[0m\n",
       "│   Node counts: \u001b[1mCategory\u001b[0m: 1, \u001b[1mMultiBinning\u001b[0m: 5\n",
       "│   ╭────────────────── ▶ input ──────────────────╮ ╭───── ▶ input ──────╮ ╭────── ▶ input ──────╮\n",
       "│   │ \u001b[1msyst\u001b[0m (string)                               │ │ \u001b[1meta\u001b[0m (real)         │ │ \u001b[1mpt\u001b[0m (real)           │\n",
       "│   │ syst                                        │ │ eta                │ │ pt                  │\n",
       "│   │ Values: eff, stat_d, stat_u, syst_d, syst_u │ │ Range: [-2.5, 2.5) │ │ Range: [0.0, 200.0) │\n",
       "│   ╰─────────────────────────────────────────────╯ ╰────────────────────╯ ╰─────────────────────╯\n",
       "│   ╭─── ◀ output ───╮\n",
       "│   │ \u001b[1mout\u001b[0m (real)     │\n",
       "│   │ \u001b[3mNo description\u001b[0m │\n",
       "│   ╰────────────────╯\n",
       "├── 📈 \u001b[1mData_EleMuLegHigPt\u001b[0m (v0)\n",
       "│   \u001b[3mNo description\u001b[0m\n",
       "│   Node counts: \u001b[1mCategory\u001b[0m: 1, \u001b[1mMultiBinning\u001b[0m: 5\n",
       "│   ╭────────────────── ▶ input ──────────────────╮ ╭───── ▶ input ──────╮ ╭────── ▶ input ──────╮\n",
       "│   │ \u001b[1msyst\u001b[0m (string)                               │ │ \u001b[1meta\u001b[0m (real)         │ │ \u001b[1mpt\u001b[0m (real)           │\n",
       "│   │ syst                                        │ │ eta                │ │ pt                  │\n",
       "│   │ Values: eff, stat_d, stat_u, syst_d, syst_u │ │ Range: [-2.5, 2.5) │ │ Range: [0.0, 200.0) │\n",
       "│   ╰─────────────────────────────────────────────╯ ╰────────────────────╯ ╰─────────────────────╯\n",
       "│   ╭─── ◀ output ───╮\n",
       "│   │ \u001b[1mout\u001b[0m (real)     │\n",
       "│   │ \u001b[3mNo description\u001b[0m │\n",
       "│   ╰────────────────╯\n",
       "├── 📈 \u001b[1mData_EleMuLegLowPt\u001b[0m (v0)\n",
       "│   \u001b[3mNo description\u001b[0m\n",
       "│   Node counts: \u001b[1mCategory\u001b[0m: 1, \u001b[1mMultiBinning\u001b[0m: 5\n",
       "│   ╭────────────────── ▶ input ──────────────────╮ ╭───── ▶ input ──────╮ ╭────── ▶ input ──────╮\n",
       "│   │ \u001b[1msyst\u001b[0m (string)                               │ │ \u001b[1meta\u001b[0m (real)         │ │ \u001b[1mpt\u001b[0m (real)           │\n",
       "│   │ syst                                        │ │ eta                │ │ pt                  │\n",
       "│   │ Values: eff, stat_d, stat_u, syst_d, syst_u │ │ Range: [-2.4, 2.4) │ │ Range: [0.0, 200.0) │\n",
       "│   ╰─────────────────────────────────────────────╯ ╰────────────────────╯ ╰─────────────────────╯\n",
       "│   ╭─── ◀ output ───╮\n",
       "│   │ \u001b[1mout\u001b[0m (real)     │\n",
       "│   │ \u001b[3mNo description\u001b[0m │\n",
       "│   ╰────────────────╯\n",
       "├── 📈 \u001b[1mMC_DoubleEleLegHigPt\u001b[0m (v0)\n",
       "│   \u001b[3mNo description\u001b[0m\n",
       "│   Node counts: \u001b[1mCategory\u001b[0m: 1, \u001b[1mMultiBinning\u001b[0m: 5\n",
       "│   ╭────────────────── ▶ input ──────────────────╮ ╭───── ▶ input ──────╮ ╭────── ▶ input ──────╮\n",
       "│   │ \u001b[1msyst\u001b[0m (string)                               │ │ \u001b[1meta\u001b[0m (real)         │ │ \u001b[1mpt\u001b[0m (real)           │\n",
       "│   │ syst                                        │ │ eta                │ │ pt                  │\n",
       "│   │ Values: eff, stat_d, stat_u, syst_d, syst_u │ │ Range: [-2.5, 2.5) │ │ Range: [0.0, 200.0) │\n",
       "│   ╰─────────────────────────────────────────────╯ ╰────────────────────╯ ╰─────────────────────╯\n",
       "│   ╭─── ◀ output ───╮\n",
       "│   │ \u001b[1mout\u001b[0m (real)     │\n",
       "│   │ \u001b[3mNo description\u001b[0m │\n",
       "│   ╰────────────────╯\n",
       "├── 📈 \u001b[1mMC_DoubleEleLegLowPt\u001b[0m (v0)\n",
       "│   \u001b[3mNo description\u001b[0m\n",
       "│   Node counts: \u001b[1mCategory\u001b[0m: 1, \u001b[1mMultiBinning\u001b[0m: 5\n",
       "│   ╭────────────────── ▶ input ──────────────────╮ ╭───── ▶ input ──────╮ ╭────── ▶ input ──────╮\n",
       "│   │ \u001b[1msyst\u001b[0m (string)                               │ │ \u001b[1meta\u001b[0m (real)         │ │ \u001b[1mpt\u001b[0m (real)           │\n",
       "│   │ syst                                        │ │ eta                │ │ pt                  │\n",
       "│   │ Values: eff, stat_d, stat_u, syst_d, syst_u │ │ Range: [-2.5, 2.5) │ │ Range: [0.0, 200.0) │\n",
       "│   ╰─────────────────────────────────────────────╯ ╰────────────────────╯ ╰─────────────────────╯\n",
       "│   ╭─── ◀ output ───╮\n",
       "│   │ \u001b[1mout\u001b[0m (real)     │\n",
       "│   │ \u001b[3mNo description\u001b[0m │\n",
       "│   ╰────────────────╯\n",
       "├── 📈 \u001b[1mMC_SingleEle\u001b[0m (v0)\n",
       "│   \u001b[3mNo description\u001b[0m\n",
       "│   Node counts: \u001b[1mCategory\u001b[0m: 1, \u001b[1mMultiBinning\u001b[0m: 5\n",
       "│   ╭────────────────── ▶ input ──────────────────╮ ╭───── ▶ input ──────╮ ╭────── ▶ input ──────╮\n",
       "│   │ \u001b[1msyst\u001b[0m (string)                               │ │ \u001b[1meta\u001b[0m (real)         │ │ \u001b[1mpt\u001b[0m (real)           │\n",
       "│   │ syst                                        │ │ eta                │ │ pt                  │\n",
       "│   │ Values: eff, stat_d, stat_u, syst_d, syst_u │ │ Range: [-2.5, 2.5) │ │ Range: [0.0, 200.0) │\n",
       "│   ╰─────────────────────────────────────────────╯ ╰────────────────────╯ ╰─────────────────────╯\n",
       "│   ╭─── ◀ output ───╮\n",
       "│   │ \u001b[1mout\u001b[0m (real)     │\n",
       "│   │ \u001b[3mNo description\u001b[0m │\n",
       "│   ╰────────────────╯\n",
       "├── 📈 \u001b[1mMC_DoubleMuLegHigPt\u001b[0m (v0)\n",
       "│   \u001b[3mNo description\u001b[0m\n",
       "│   Node counts: \u001b[1mCategory\u001b[0m: 1, \u001b[1mMultiBinning\u001b[0m: 5\n",
       "│   ╭────────────────── ▶ input ──────────────────╮ ╭───── ▶ input ──────╮ ╭────── ▶ input ──────╮\n",
       "│   │ \u001b[1msyst\u001b[0m (string)                               │ │ \u001b[1meta\u001b[0m (real)         │ │ \u001b[1mpt\u001b[0m (real)           │\n",
       "│   │ syst                                        │ │ eta                │ │ pt                  │\n",
       "│   │ Values: eff, stat_d, stat_u, syst_d, syst_u │ │ Range: [-2.4, 2.4) │ │ Range: [0.0, 200.0) │\n",
       "│   ╰─────────────────────────────────────────────╯ ╰────────────────────╯ ╰─────────────────────╯\n",
       "│   ╭─── ◀ output ───╮\n",
       "│   │ \u001b[1mout\u001b[0m (real)     │\n",
       "│   │ \u001b[3mNo description\u001b[0m │\n",
       "│   ╰────────────────╯\n",
       "├── 📈 \u001b[1mMC_DoubleMuLegLowPt\u001b[0m (v0)\n",
       "│   \u001b[3mNo description\u001b[0m\n",
       "│   Node counts: \u001b[1mCategory\u001b[0m: 1, \u001b[1mMultiBinning\u001b[0m: 5\n",
       "│   ╭────────────────── ▶ input ──────────────────╮ ╭───── ▶ input ──────╮ ╭────── ▶ input ──────╮\n",
       "│   │ \u001b[1msyst\u001b[0m (string)                               │ │ \u001b[1meta\u001b[0m (real)         │ │ \u001b[1mpt\u001b[0m (real)           │\n",
       "│   │ syst                                        │ │ eta                │ │ pt                  │\n",
       "│   │ Values: eff, stat_d, stat_u, syst_d, syst_u │ │ Range: [-2.4, 2.4) │ │ Range: [0.0, 200.0) │\n",
       "│   ╰─────────────────────────────────────────────╯ ╰────────────────────╯ ╰─────────────────────╯\n",
       "│   ╭─── ◀ output ───╮\n",
       "│   │ \u001b[1mout\u001b[0m (real)     │\n",
       "│   │ \u001b[3mNo description\u001b[0m │\n",
       "│   ╰────────────────╯\n",
       "├── 📈 \u001b[1mMC_SingleMu\u001b[0m (v0)\n",
       "│   \u001b[3mNo description\u001b[0m\n",
       "│   Node counts: \u001b[1mCategory\u001b[0m: 1, \u001b[1mMultiBinning\u001b[0m: 5\n",
       "│   ╭────────────────── ▶ input ──────────────────╮ ╭───── ▶ input ──────╮ ╭────── ▶ input ──────╮\n",
       "│   │ \u001b[1msyst\u001b[0m (string)                               │ │ \u001b[1meta\u001b[0m (real)         │ │ \u001b[1mpt\u001b[0m (real)           │\n",
       "│   │ syst                                        │ │ eta                │ │ pt                  │\n",
       "│   │ Values: eff, stat_d, stat_u, syst_d, syst_u │ │ Range: [-2.4, 2.4) │ │ Range: [0.0, 200.0) │\n",
       "│   ╰─────────────────────────────────────────────╯ ╰────────────────────╯ ╰─────────────────────╯\n",
       "│   ╭─── ◀ output ───╮\n",
       "│   │ \u001b[1mout\u001b[0m (real)     │\n",
       "│   │ \u001b[3mNo description\u001b[0m │\n",
       "│   ╰────────────────╯\n",
       "├── 📈 \u001b[1mMC_MuEleLegHigPt\u001b[0m (v0)\n",
       "│   \u001b[3mNo description\u001b[0m\n",
       "│   Node counts: \u001b[1mCategory\u001b[0m: 1, \u001b[1mMultiBinning\u001b[0m: 5\n",
       "│   ╭────────────────── ▶ input ──────────────────╮ ╭───── ▶ input ──────╮ ╭────── ▶ input ──────╮\n",
       "│   │ \u001b[1msyst\u001b[0m (string)                               │ │ \u001b[1meta\u001b[0m (real)         │ │ \u001b[1mpt\u001b[0m (real)           │\n",
       "│   │ syst                                        │ │ eta                │ │ pt                  │\n",
       "│   │ Values: eff, stat_d, stat_u, syst_d, syst_u │ │ Range: [-2.4, 2.4) │ │ Range: [0.0, 200.0) │\n",
       "│   ╰─────────────────────────────────────────────╯ ╰────────────────────╯ ╰─────────────────────╯\n",
       "│   ╭─── ◀ output ───╮\n",
       "│   │ \u001b[1mout\u001b[0m (real)     │\n",
       "│   │ \u001b[3mNo description\u001b[0m │\n",
       "│   ╰────────────────╯\n",
       "├── 📈 \u001b[1mMC_MuEleLegLowPt\u001b[0m (v0)\n",
       "│   \u001b[3mNo description\u001b[0m\n",
       "│   Node counts: \u001b[1mCategory\u001b[0m: 1, \u001b[1mMultiBinning\u001b[0m: 5\n",
       "│   ╭────────────────── ▶ input ──────────────────╮ ╭───── ▶ input ──────╮ ╭────── ▶ input ──────╮\n",
       "│   │ \u001b[1msyst\u001b[0m (string)                               │ │ \u001b[1meta\u001b[0m (real)         │ │ \u001b[1mpt\u001b[0m (real)           │\n",
       "│   │ syst                                        │ │ eta                │ │ pt                  │\n",
       "│   │ Values: eff, stat_d, stat_u, syst_d, syst_u │ │ Range: [-2.5, 2.5) │ │ Range: [0.0, 200.0) │\n",
       "│   ╰─────────────────────────────────────────────╯ ╰────────────────────╯ ╰─────────────────────╯\n",
       "│   ╭─── ◀ output ───╮\n",
       "│   │ \u001b[1mout\u001b[0m (real)     │\n",
       "│   │ \u001b[3mNo description\u001b[0m │\n",
       "│   ╰────────────────╯\n",
       "├── 📈 \u001b[1mMC_EleMuLegHigPt\u001b[0m (v0)\n",
       "│   \u001b[3mNo description\u001b[0m\n",
       "│   Node counts: \u001b[1mCategory\u001b[0m: 1, \u001b[1mMultiBinning\u001b[0m: 5\n",
       "│   ╭────────────────── ▶ input ──────────────────╮ ╭───── ▶ input ──────╮ ╭────── ▶ input ──────╮\n",
       "│   │ \u001b[1msyst\u001b[0m (string)                               │ │ \u001b[1meta\u001b[0m (real)         │ │ \u001b[1mpt\u001b[0m (real)           │\n",
       "│   │ syst                                        │ │ eta                │ │ pt                  │\n",
       "│   │ Values: eff, stat_d, stat_u, syst_d, syst_u │ │ Range: [-2.5, 2.5) │ │ Range: [0.0, 200.0) │\n",
       "│   ╰─────────────────────────────────────────────╯ ╰────────────────────╯ ╰─────────────────────╯\n",
       "│   ╭─── ◀ output ───╮\n",
       "│   │ \u001b[1mout\u001b[0m (real)     │\n",
       "│   │ \u001b[3mNo description\u001b[0m │\n",
       "│   ╰────────────────╯\n",
       "└── 📈 \u001b[1mMC_EleMuLegLowPt\u001b[0m (v0)\n",
       "    \u001b[3mNo description\u001b[0m\n",
       "    Node counts: \u001b[1mCategory\u001b[0m: 1, \u001b[1mMultiBinning\u001b[0m: 5\n",
       "    ╭────────────────── ▶ input ──────────────────╮ ╭───── ▶ input ──────╮ ╭────── ▶ input ──────╮\n",
       "    │ \u001b[1msyst\u001b[0m (string)                               │ │ \u001b[1meta\u001b[0m (real)         │ │ \u001b[1mpt\u001b[0m (real)           │\n",
       "    │ syst                                        │ │ eta                │ │ pt                  │\n",
       "    │ Values: eff, stat_d, stat_u, syst_d, syst_u │ │ Range: [-2.4, 2.4) │ │ Range: [0.0, 200.0) │\n",
       "    ╰─────────────────────────────────────────────╯ ╰────────────────────╯ ╰─────────────────────╯\n",
       "    ╭─── ◀ output ───╮\n",
       "    │ \u001b[1mout\u001b[0m (real)     │\n",
       "    │ \u001b[3mNo description\u001b[0m │\n",
       "    ╰────────────────╯\n"
      ]
     },
     "metadata": {},
     "output_type": "display_data"
    }
   ],
   "source": [
    "rich.print(cset)"
   ]
  },
  {
   "cell_type": "code",
   "execution_count": null,
   "id": "6e5a7229-3568-47b5-9320-53afb880dd37",
   "metadata": {},
   "outputs": [],
   "source": [
    "csets[1]"
   ]
  },
  {
   "cell_type": "code",
   "execution_count": null,
   "id": "0b629672-5616-4a94-ad5b-6ddc4bff8953",
   "metadata": {},
   "outputs": [],
   "source": []
  },
  {
   "cell_type": "code",
   "execution_count": null,
   "id": "df60f1ad-cff3-42e2-b8e8-5bfad430b6ca",
   "metadata": {},
   "outputs": [
    {
     "data": {
      "text/html": [
       "<pre style=\"white-space:pre;overflow-x:auto;line-height:normal;font-family:Menlo,'DejaVu Sans Mono',consolas,'Courier New',monospace\">📈 <span style=\"font-weight: bold\">DoubleEleLegHigPt</span> <span style=\"font-weight: bold\">(</span>v0<span style=\"font-weight: bold\">)</span>\n",
       "<span style=\"font-style: italic\">No description</span>\n",
       "Node counts: <span style=\"font-weight: bold\">Category</span>: <span style=\"color: #008080; text-decoration-color: #008080; font-weight: bold\">1</span>, <span style=\"font-weight: bold\">MultiBinning</span>: <span style=\"color: #008080; text-decoration-color: #008080; font-weight: bold\">5</span>\n",
       "╭────────────────── ▶ input ──────────────────╮ ╭───── ▶ input ──────╮ ╭────── ▶ input ──────╮\n",
       "│ <span style=\"font-weight: bold\">syst</span> (string)                               │ │ <span style=\"font-weight: bold\">eta</span> (real)         │ │ <span style=\"font-weight: bold\">pt</span> (real)           │\n",
       "│ syst                                        │ │ eta                │ │ pt                  │\n",
       "│ Values: eff, stat_d, stat_u, syst_d, syst_u │ │ Range: [-2.5, 2.5) │ │ Range: [0.0, 200.0) │\n",
       "╰─────────────────────────────────────────────╯ ╰────────────────────╯ ╰─────────────────────╯\n",
       "╭─── ◀ output ───╮\n",
       "│ <span style=\"font-weight: bold\">out</span> (real)     │\n",
       "│ <span style=\"font-style: italic\">No description</span> │\n",
       "╰────────────────╯\n",
       "</pre>\n"
      ],
      "text/plain": [
       "📈 \u001b[1mDoubleEleLegHigPt\u001b[0m \u001b[1m(\u001b[0mv0\u001b[1m)\u001b[0m\n",
       "\u001b[3mNo description\u001b[0m\n",
       "Node counts: \u001b[1mCategory\u001b[0m: \u001b[1;36m1\u001b[0m, \u001b[1mMultiBinning\u001b[0m: \u001b[1;36m5\u001b[0m\n",
       "╭────────────────── ▶ input ──────────────────╮ ╭───── ▶ input ──────╮ ╭────── ▶ input ──────╮\n",
       "│ \u001b[1msyst\u001b[0m (string)                               │ │ \u001b[1meta\u001b[0m (real)         │ │ \u001b[1mpt\u001b[0m (real)           │\n",
       "│ syst                                        │ │ eta                │ │ pt                  │\n",
       "│ Values: eff, stat_d, stat_u, syst_d, syst_u │ │ Range: [-2.5, 2.5) │ │ Range: [0.0, 200.0) │\n",
       "╰─────────────────────────────────────────────╯ ╰────────────────────╯ ╰─────────────────────╯\n",
       "╭─── ◀ output ───╮\n",
       "│ \u001b[1mout\u001b[0m (real)     │\n",
       "│ \u001b[3mNo description\u001b[0m │\n",
       "╰────────────────╯\n"
      ]
     },
     "metadata": {},
     "output_type": "display_data"
    }
   ],
   "source": [
    "rich.print(cset)"
   ]
  },
  {
   "cell_type": "code",
   "execution_count": null,
   "id": "b253bd06-04d9-4913-be8f-1af4c65be018",
   "metadata": {},
   "outputs": [
    {
     "name": "stdout",
     "output_type": "stream",
     "text": [
      "0.985\n",
      "12\n",
      "0.985\n"
     ]
    }
   ],
   "source": [
    "ceval = cset.to_evaluator()\n",
    "vpt = 100.0\n",
    "veta = -2.3\n",
    "syst = \"eff\"\n",
    "print(ceval.evaluate(syst, veta, vpt))\n",
    "for i, (ipt, ieta) in enumerate(list(zip(list(df[\"pt\"]), list(df[\"eta\"])))):\n",
    "    if ieta[0] <= veta < ieta[1] and ipt[0] <= vpt < ipt[1]:\n",
    "        print(i)\n",
    "        print(df[syst][i])"
   ]
  },
  {
   "cell_type": "code",
   "execution_count": null,
   "id": "e2240662-4184-4208-99dd-0004f92d2a04",
   "metadata": {},
   "outputs": [],
   "source": []
  },
  {
   "cell_type": "code",
   "execution_count": null,
   "id": "51a1189b-8d6b-4112-8d46-61caace14c94",
   "metadata": {},
   "outputs": [],
   "source": []
  },
  {
   "cell_type": "code",
   "execution_count": null,
   "id": "628637e9-32f4-4e71-8bc0-84b11733f853",
   "metadata": {},
   "outputs": [],
   "source": []
  },
  {
   "cell_type": "code",
   "execution_count": null,
   "id": "6cf74ca6-f396-45ad-a269-04a2b75a2b5a",
   "metadata": {},
   "outputs": [],
   "source": []
  },
  {
   "cell_type": "code",
   "execution_count": null,
   "id": "8f5d27b7-4d29-47bb-bf09-7b41afae1be0",
   "metadata": {},
   "outputs": [],
   "source": []
  },
  {
   "cell_type": "code",
   "execution_count": null,
   "id": "49b428d5-6ea0-450d-9b67-db5e90ef1436",
   "metadata": {},
   "outputs": [],
   "source": [
    "cset = correctionlib.convert.from_txt(\"test_sf.root:h_Ele_signal_pt_eta_bin\")"
   ]
  },
  {
   "cell_type": "code",
   "execution_count": null,
   "id": "aac1a4b7-9078-4e2d-8285-fa04b7f37f73",
   "metadata": {},
   "outputs": [],
   "source": []
  },
  {
   "cell_type": "code",
   "execution_count": null,
   "id": "15dc047f-5efa-4ccf-9ee0-0c959a586315",
   "metadata": {},
   "outputs": [
    {
     "data": {
      "text/plain": [
       "0.8799667219594568"
      ]
     },
     "execution_count": 3,
     "metadata": {},
     "output_type": "execute_result"
    }
   ],
   "source": [
    "url_base = \"https://github.com/latinos/LatinoAnalysis/raw/UL_production/NanoGardener/python/data/\"\n",
    "url = \"fake_prompt_rates/Full2018v9/mvaFall17V2Iso_WP90/ElePR.root\"\n",
    "with open(\"test_sf.root\", \"wb\") as file:\n",
    "    file.write(requests.get(url_base + url).content)\n",
    "\n",
    "cset = correctionlib.convert.from_uproot_THx(\"test_sf.root:h_Ele_signal_pt_eta_bin\")\n",
    "\n",
    "ceval = cset.to_evaluator()\n",
    "\n",
    "ceval.evaluate(17.0, 0.0)"
   ]
  },
  {
   "cell_type": "code",
   "execution_count": null,
   "id": "f8aa9717-53b8-43f2-a5f7-a8d2674ac248",
   "metadata": {},
   "outputs": [
    {
     "name": "stdout",
     "output_type": "stream",
     "text": [
      "start reading\n",
      "created events\n"
     ]
    }
   ],
   "source": [
    "fname = \"root://ccxrdcms.in2p3.fr:1094/pnfs/in2p3.fr/data/cms/disk/data//store/mc/RunIISummer20UL18NanoAODv9/EWK_LLJJ_MLL-50_MJJ-120_TuneCP5_13TeV-madgraph-pythia8_dipole/NANOAODSIM/106X_upgrade2018_realistic_v16_L1v1-v1/40000/3BF5756A-131F-8C4C-9CFC-71B15EDB9351.root\"\n",
    "events = read_events(fname, stop=10_000, read_form=forms[\"mc\"])"
   ]
  },
  {
   "cell_type": "code",
   "execution_count": null,
   "id": "3aa9a63c",
   "metadata": {},
   "outputs": [],
   "source": []
  },
  {
   "cell_type": "code",
   "execution_count": null,
   "id": "3a4f4eaa",
   "metadata": {},
   "outputs": [],
   "source": []
  },
  {
   "cell_type": "code",
   "execution_count": 6,
   "id": "f2152fbd",
   "metadata": {},
   "outputs": [],
   "source": []
  },
  {
   "cell_type": "code",
   "execution_count": 2,
   "id": "7b6d4279",
   "metadata": {},
   "outputs": [],
   "source": [
    "import gzip\n",
    "import json\n",
    "import correctionlib\n",
    "import correctionlib.convert\n",
    "import numpy as np\n",
    "import hist\n",
    "import uproot\n",
    "import rich\n",
    "import requests\n",
    "import pandas as pd"
   ]
  },
  {
   "cell_type": "code",
   "execution_count": 3,
   "id": "51b87f27",
   "metadata": {},
   "outputs": [],
   "source": [
    "fname = '/cvmfs/cms.cern.ch/rsync/cms-nanoAOD/jsonpog-integration/POG/EGM/2018_UL/electron.json.gz'"
   ]
  },
  {
   "cell_type": "code",
   "execution_count": 4,
   "id": "075e0446",
   "metadata": {},
   "outputs": [],
   "source": [
    "ceval = correctionlib.CorrectionSet.from_file(\n",
    "fname\n",
    ")"
   ]
  },
  {
   "cell_type": "markdown",
   "id": "3a9b15a6",
   "metadata": {},
   "source": [
    "## Explore correctionlib json file"
   ]
  },
  {
   "cell_type": "code",
   "execution_count": 5,
   "id": "12c9b354",
   "metadata": {},
   "outputs": [],
   "source": [
    "with gzip.open(fname) as file:\n",
    "    corr = json.load(file)"
   ]
  },
  {
   "cell_type": "code",
   "execution_count": 6,
   "id": "826b6253",
   "metadata": {},
   "outputs": [],
   "source": [
    "def find_key(key: str, l: list):\n",
    "    for i in range(len(l)):\n",
    "        if l[i][\"key\"] == key:\n",
    "            return i\n",
    "\n",
    "\n",
    "def print_keys(l: list):\n",
    "    for i in range(len(l)):\n",
    "        print(l[i][\"key\"])"
   ]
  },
  {
   "cell_type": "code",
   "execution_count": 12,
   "id": "0bfa9ae9",
   "metadata": {},
   "outputs": [
    {
     "data": {
      "text/plain": [
       "'ValType'"
      ]
     },
     "execution_count": 12,
     "metadata": {},
     "output_type": "execute_result"
    }
   ],
   "source": [
    "corr[\"corrections\"][0][\"data\"][\"content\"][0][\"value\"][\"input\"]"
   ]
  },
  {
   "cell_type": "code",
   "execution_count": 13,
   "id": "41291abe",
   "metadata": {},
   "outputs": [],
   "source": [
    "real_content = corr[\"corrections\"][0][\"data\"][\"content\"][0][\"value\"][\"content\"]"
   ]
  },
  {
   "cell_type": "code",
   "execution_count": 14,
   "id": "d0749d9d",
   "metadata": {},
   "outputs": [
    {
     "name": "stdout",
     "output_type": "stream",
     "text": [
      "sf\n",
      "sfup\n",
      "sfdown\n"
     ]
    }
   ],
   "source": [
    "print_keys(real_content)"
   ]
  },
  {
   "cell_type": "code",
   "execution_count": 15,
   "id": "48a9b458",
   "metadata": {},
   "outputs": [
    {
     "data": {
      "text/plain": [
       "0"
      ]
     },
     "execution_count": 15,
     "metadata": {},
     "output_type": "execute_result"
    }
   ],
   "source": [
    "find_key(\"sf\", real_content)"
   ]
  },
  {
   "cell_type": "code",
   "execution_count": 16,
   "id": "0913b12b",
   "metadata": {},
   "outputs": [
    {
     "data": {
      "text/plain": [
       "('WorkingPoint', dict_keys(['nodetype', 'input', 'content']))"
      ]
     },
     "execution_count": 16,
     "metadata": {},
     "output_type": "execute_result"
    }
   ],
   "source": [
    "sf = real_content[0][\"value\"]\n",
    "sf[\"input\"], sf.keys()"
   ]
  },
  {
   "cell_type": "code",
   "execution_count": 17,
   "id": "247b7375",
   "metadata": {},
   "outputs": [
    {
     "name": "stdout",
     "output_type": "stream",
     "text": [
      "RecoBelow20\n",
      "RecoAbove20\n",
      "Veto\n",
      "Loose\n",
      "Medium\n",
      "Tight\n",
      "wp80iso\n",
      "wp80noiso\n",
      "wp90iso\n",
      "wp90noiso\n"
     ]
    }
   ],
   "source": [
    "print_keys(sf[\"content\"])"
   ]
  },
  {
   "cell_type": "code",
   "execution_count": 18,
   "id": "bd68bf0e",
   "metadata": {},
   "outputs": [
    {
     "data": {
      "text/plain": [
       "0"
      ]
     },
     "execution_count": 18,
     "metadata": {},
     "output_type": "execute_result"
    }
   ],
   "source": [
    "find_key(\"RecoBelow20\", sf[\"content\"])"
   ]
  },
  {
   "cell_type": "markdown",
   "id": "5c9ea738",
   "metadata": {},
   "source": [
    "# Electron SF"
   ]
  },
  {
   "cell_type": "code",
   "execution_count": 7,
   "id": "02be0e98",
   "metadata": {},
   "outputs": [],
   "source": [
    "def get_cset_electron(era, wp, return_histo=False):\n",
    "    real_content = corr[\"corrections\"][0][\"data\"][\"content\"][0][\"value\"][\"content\"]\n",
    "    content_syst = []\n",
    "    for valType in [\"sf\", \"sfdown\", \"sfup\"]:\n",
    "        sf_ind = find_key(valType, real_content)\n",
    "        sf = real_content[sf_ind][\"value\"][\"content\"]\n",
    "\n",
    "        wp_ind = find_key(wp, sf)\n",
    "        obj = sf[wp_ind][\"value\"]\n",
    "        content = np.array(obj[\"content\"])\n",
    "        content_syst.append(content)\n",
    "        axis = [\n",
    "            hist.axis.Variable(edges, name=name)\n",
    "            for edges, name in zip(obj[\"edges\"], obj[\"inputs\"])\n",
    "        ]\n",
    "    content_syst = np.array(content_syst)\n",
    "    shape = [ax.edges.shape[0] - 1 for ax in axis]\n",
    "    content_syst = content_syst.reshape(3, *shape)\n",
    "    syst = [\"nominal\", \"syst_down\", \"syst_up\"]\n",
    "    # syst = ['sf', 'sfdown', 'sfup']\n",
    "    h = hist.Hist(\n",
    "        hist.axis.StrCategory(syst, name=\"syst\"),\n",
    "        *axis,\n",
    "        hist.storage.Double(),\n",
    "        data=content_syst,\n",
    "    )\n",
    "    h.name = \"Electron_RecoSF_\" + wp\n",
    "    h.label = \"out\"\n",
    "    cset = correctionlib.convert.from_histogram(h)\n",
    "    # a = h.view()\n",
    "    # print(a.shape)\n",
    "    # print(content.shape)\n",
    "    # a[:, :] = content.reshape(a.shape)\n",
    "    if return_histo:\n",
    "        return h, cset\n",
    "    return cset"
   ]
  },
  {
   "cell_type": "code",
   "execution_count": 8,
   "id": "2b70f484",
   "metadata": {},
   "outputs": [],
   "source": [
    "def rand_in_axis(axis):\n",
    "    min = axis[0] if axis[0] > -np.inf else axis[1] - (axis[2] - axis[1]) / 2\n",
    "    max = axis[-1] if axis[-1] < np.inf else axis[-2] + (axis[-2] - axis[-3]) / 2\n",
    "    return np.random.uniform(min, max)"
   ]
  },
  {
   "cell_type": "code",
   "execution_count": 9,
   "id": "b6bcad68",
   "metadata": {},
   "outputs": [],
   "source": [
    "def rand_in_histos(h, nrands=10):\n",
    "    result = []\n",
    "    for i in range(nrands):\n",
    "        r = []\n",
    "        for j in range(len(h.axes)):\n",
    "            r.append(rand_in_axis(h.axes[j].edges))\n",
    "        result.append(r)\n",
    "    return result"
   ]
  },
  {
   "cell_type": "code",
   "execution_count": 10,
   "id": "e4306cfc",
   "metadata": {},
   "outputs": [],
   "source": [
    "def different_val(a, b):\n",
    "    precision = 1e-10\n",
    "    if a == b:\n",
    "        return False\n",
    "    if abs(a) < precision and abs(b) < precision:\n",
    "        return False\n",
    "    d = abs(a - b)\n",
    "    if d < precision:\n",
    "        return False\n",
    "    return True"
   ]
  },
  {
   "cell_type": "code",
   "execution_count": 11,
   "id": "e0a9b66b",
   "metadata": {},
   "outputs": [
    {
     "name": "stdout",
     "output_type": "stream",
     "text": [
      "Everything ok for RecoBelow20\n",
      "Everything ok for RecoAbove20\n"
     ]
    }
   ],
   "source": [
    "for wp in ['RecoBelow20', 'RecoAbove20']:\n",
    "    valTypes = [\"sf\", \"sfdown\", \"sfup\"]\n",
    "    systs = [\"nominal\", \"syst_down\", \"syst_up\"]\n",
    "    h, cset = get_cset_electron(\"2018\", wp, return_histo=True)\n",
    "    ceval_new = cset.to_evaluator()\n",
    "    l = [h.axes[i].centers for i in range(1, len(h.axes))]\n",
    "    rand_inputs = np.transpose([np.tile(l[0], len(l[1])), np.repeat(l[1], len(l[0]))])\n",
    "    rand_inputs[rand_inputs == np.inf] = 100\n",
    "    rand_inputs[rand_inputs == -np.inf] = -100\n",
    "    # rand_inputs = rand_in_histos(h, nrands=100)\n",
    "    for syst, valType in zip(systs, valTypes):\n",
    "        for eta, pt in rand_inputs:\n",
    "            # new_val = h[hist.loc(syst), hist.loc(eta), hist.loc(pt)]\n",
    "            new_val = ceval_new.evaluate(syst, eta, pt)\n",
    "            old_val = ceval[\"UL-Electron-ID-SF\"].evaluate(\"2018\", valType, wp, eta, pt)\n",
    "            if different_val(new_val, old_val):\n",
    "                raise Exception(\"Different values for eta\", eta, \"pt\", pt, old_val, new_val)\n",
    "    print(\"Everything ok for\", wp)"
   ]
  },
  {
   "cell_type": "code",
   "execution_count": 12,
   "id": "8798244c",
   "metadata": {},
   "outputs": [
    {
     "data": {
      "text/html": [
       "<pre style=\"white-space:pre;overflow-x:auto;line-height:normal;font-family:Menlo,'DejaVu Sans Mono',consolas,'Courier New',monospace\">📈 <span style=\"font-weight: bold\">Electron_RecoSF_RecoBelow20</span> <span style=\"font-weight: bold\">(</span>v0<span style=\"font-weight: bold\">)</span>\n",
       "<span style=\"font-style: italic\">No description</span>\n",
       "Node counts: <span style=\"font-weight: bold\">Category</span>: <span style=\"color: #008080; text-decoration-color: #008080; font-weight: bold\">1</span>, <span style=\"font-weight: bold\">MultiBinning</span>: <span style=\"color: #008080; text-decoration-color: #008080; font-weight: bold\">3</span>\n",
       "╭────────────── ▶ input ──────────────╮ ╭───── ▶ input ──────╮ ╭────── ▶ input ──────╮\n",
       "│ <span style=\"font-weight: bold\">syst</span> (string)                       │ │ <span style=\"font-weight: bold\">eta</span> (real)         │ │ <span style=\"font-weight: bold\">pt</span> (real)           │\n",
       "│ syst                                │ │ eta                │ │ pt                  │\n",
       "│ Values: nominal, syst_down, syst_up │ │ Range: [-inf, inf) │ │ Range: [10.0, 20.0) │\n",
       "╰─────────────────────────────────────╯ ╰────────────────────╯ ╰─────────────────────╯\n",
       "╭─── ◀ output ───╮\n",
       "│ <span style=\"font-weight: bold\">out</span> (real)     │\n",
       "│ <span style=\"font-style: italic\">No description</span> │\n",
       "╰────────────────╯\n",
       "</pre>\n"
      ],
      "text/plain": [
       "📈 \u001b[1mElectron_RecoSF_RecoBelow20\u001b[0m \u001b[1m(\u001b[0mv0\u001b[1m)\u001b[0m\n",
       "\u001b[3mNo description\u001b[0m\n",
       "Node counts: \u001b[1mCategory\u001b[0m: \u001b[1;36m1\u001b[0m, \u001b[1mMultiBinning\u001b[0m: \u001b[1;36m3\u001b[0m\n",
       "╭────────────── ▶ input ──────────────╮ ╭───── ▶ input ──────╮ ╭────── ▶ input ──────╮\n",
       "│ \u001b[1msyst\u001b[0m (string)                       │ │ \u001b[1meta\u001b[0m (real)         │ │ \u001b[1mpt\u001b[0m (real)           │\n",
       "│ syst                                │ │ eta                │ │ pt                  │\n",
       "│ Values: nominal, syst_down, syst_up │ │ Range: [-inf, inf) │ │ Range: [10.0, 20.0) │\n",
       "╰─────────────────────────────────────╯ ╰────────────────────╯ ╰─────────────────────╯\n",
       "╭─── ◀ output ───╮\n",
       "│ \u001b[1mout\u001b[0m (real)     │\n",
       "│ \u001b[3mNo description\u001b[0m │\n",
       "╰────────────────╯\n"
      ]
     },
     "metadata": {},
     "output_type": "display_data"
    },
    {
     "data": {
      "text/html": [
       "<pre style=\"white-space:pre;overflow-x:auto;line-height:normal;font-family:Menlo,'DejaVu Sans Mono',consolas,'Courier New',monospace\">📈 <span style=\"font-weight: bold\">Electron_RecoSF_RecoAbove20</span> <span style=\"font-weight: bold\">(</span>v0<span style=\"font-weight: bold\">)</span>\n",
       "<span style=\"font-style: italic\">No description</span>\n",
       "Node counts: <span style=\"font-weight: bold\">Category</span>: <span style=\"color: #008080; text-decoration-color: #008080; font-weight: bold\">1</span>, <span style=\"font-weight: bold\">MultiBinning</span>: <span style=\"color: #008080; text-decoration-color: #008080; font-weight: bold\">3</span>\n",
       "╭────────────── ▶ input ──────────────╮ ╭───── ▶ input ──────╮ ╭───── ▶ input ──────╮\n",
       "│ <span style=\"font-weight: bold\">syst</span> (string)                       │ │ <span style=\"font-weight: bold\">eta</span> (real)         │ │ <span style=\"font-weight: bold\">pt</span> (real)          │\n",
       "│ syst                                │ │ eta                │ │ pt                 │\n",
       "│ Values: nominal, syst_down, syst_up │ │ Range: [-inf, inf) │ │ Range: [20.0, inf) │\n",
       "╰─────────────────────────────────────╯ ╰────────────────────╯ ╰────────────────────╯\n",
       "╭─── ◀ output ───╮\n",
       "│ <span style=\"font-weight: bold\">out</span> (real)     │\n",
       "│ <span style=\"font-style: italic\">No description</span> │\n",
       "╰────────────────╯\n",
       "</pre>\n"
      ],
      "text/plain": [
       "📈 \u001b[1mElectron_RecoSF_RecoAbove20\u001b[0m \u001b[1m(\u001b[0mv0\u001b[1m)\u001b[0m\n",
       "\u001b[3mNo description\u001b[0m\n",
       "Node counts: \u001b[1mCategory\u001b[0m: \u001b[1;36m1\u001b[0m, \u001b[1mMultiBinning\u001b[0m: \u001b[1;36m3\u001b[0m\n",
       "╭────────────── ▶ input ──────────────╮ ╭───── ▶ input ──────╮ ╭───── ▶ input ──────╮\n",
       "│ \u001b[1msyst\u001b[0m (string)                       │ │ \u001b[1meta\u001b[0m (real)         │ │ \u001b[1mpt\u001b[0m (real)          │\n",
       "│ syst                                │ │ eta                │ │ pt                 │\n",
       "│ Values: nominal, syst_down, syst_up │ │ Range: [-inf, inf) │ │ Range: [20.0, inf) │\n",
       "╰─────────────────────────────────────╯ ╰────────────────────╯ ╰────────────────────╯\n",
       "╭─── ◀ output ───╮\n",
       "│ \u001b[1mout\u001b[0m (real)     │\n",
       "│ \u001b[3mNo description\u001b[0m │\n",
       "╰────────────────╯\n"
      ]
     },
     "metadata": {},
     "output_type": "display_data"
    }
   ],
   "source": [
    "csets = []\n",
    "for wp in [\"RecoBelow20\", \"RecoAbove20\"]:\n",
    "    csets.append(get_cset_electron(\"2018\", wp))\n",
    "    rich.print(csets[-1])"
   ]
  },
  {
   "cell_type": "code",
   "execution_count": 13,
   "id": "6b5c14b2-ecee-453d-8ea7-94917c7f00e2",
   "metadata": {},
   "outputs": [],
   "source": [
    "def get_cset_electron_wp():\n",
    "    with open(\"test_sf.txt\", \"w\") as file:\n",
    "        file.write(\n",
    "            requests.get(\n",
    "                \"https://raw.githubusercontent.com/latinos/LatinoAnalysis/UL_production/NanoGardener/python/data/scale_factor/Full2018v9/egammaEffi_TightHWW_2018.txt\"\n",
    "            ).text\n",
    "        )\n",
    "    columns = \"effData statErrData systErrData effMC statErrMC systErrMC effDataAltBkg effDataAltSig effMCAltMC effMCTagSel\"\n",
    "    columns = columns.split(\" \")\n",
    "    df = pd.read_csv(\n",
    "        \"test_sf.txt\",\n",
    "        sep=\"\\t\",\n",
    "        skiprows=3,\n",
    "        header=None,\n",
    "        names=[\"eta_l\", \"eta_h\", \"pt_l\", \"pt_h\"] + columns,\n",
    "    )\n",
    "    df\n",
    "    for var in [\"eta\", \"pt\"]:\n",
    "        df[var] = list(zip(df[var + \"_l\"], df[var + \"_h\"]))\n",
    "        del df[var + \"_l\"]\n",
    "        del df[var + \"_h\"]\n",
    "\n",
    "    df[\"sf\"] = df[\"effData\"] / df[\"effMC\"]\n",
    "    df[\"sf_err\"] = (\n",
    "        np.sqrt(\n",
    "            (df[\"statErrData\"] / df[\"effData\"]) ** 2\n",
    "            + (df[\"statErrMC\"] / df[\"effMC\"]) ** 2\n",
    "        )\n",
    "        * df[\"sf\"]\n",
    "    )\n",
    "    df[\"sf_syst\"] = (\n",
    "        np.sqrt(\n",
    "            (df[\"systErrData\"] / df[\"effData\"]) ** 2\n",
    "            + (df[\"systErrMC\"] / df[\"effMC\"]) ** 2\n",
    "        )\n",
    "        * df[\"sf\"]\n",
    "    )\n",
    "    eta_bin = np.array(\n",
    "        list(map(lambda k: k[0], np.unique(df[\"eta\"]))) + [np.unique(df[\"eta\"])[-1][-1]]\n",
    "    )\n",
    "    pt_bin = np.array(\n",
    "        list(map(lambda k: k[0], np.unique(df[\"pt\"]))) + [np.unique(df[\"pt\"])[-1][-1]]\n",
    "    )\n",
    "    h = hist.Hist(\n",
    "        hist.axis.StrCategory([\"nominal\", \"stat\", \"syst\"], name=\"syst\"),\n",
    "        hist.axis.Variable(eta_bin, name=\"eta\"),\n",
    "        hist.axis.Variable(pt_bin, name=\"pt\"),\n",
    "        hist.storage.Double(),\n",
    "    )\n",
    "    for syst, sf_name in zip([\"nominal\", \"stat\", \"syst\"], [\"sf\", \"sf_err\", \"sf_syst\"]):\n",
    "        for pt_c in (pt_bin[1:] + pt_bin[:-1]) / 2:\n",
    "            for eta_c in (eta_bin[1:] + eta_bin[:-1]) / 2:\n",
    "                for i, (ipt, ieta) in enumerate(\n",
    "                    list(zip(list(df[\"pt\"]), list(df[\"eta\"])))\n",
    "                ):\n",
    "                    if ieta[0] <= eta_c < ieta[1] and ipt[0] <= pt_c < ipt[1]:\n",
    "                        # print(i)\n",
    "                        # print(df['sf'][i], df['sf_err'][i])\n",
    "                        h[hist.loc(syst), hist.loc(eta_c), hist.loc(pt_c)] = df[\n",
    "                            sf_name\n",
    "                        ][i]\n",
    "\n",
    "    h.name = \"Electron_WP_SF\"\n",
    "    h.label = \"out\"\n",
    "    return correctionlib.convert.from_histogram(h)"
   ]
  },
  {
   "cell_type": "code",
   "execution_count": 14,
   "id": "f434780b-0b6e-43fc-b57f-c7c17a447612",
   "metadata": {},
   "outputs": [
    {
     "data": {
      "text/html": [
       "<pre style=\"white-space:pre;overflow-x:auto;line-height:normal;font-family:Menlo,'DejaVu Sans Mono',consolas,'Courier New',monospace\">📈 <span style=\"font-weight: bold\">Electron_WP_SF</span> <span style=\"font-weight: bold\">(</span>v0<span style=\"font-weight: bold\">)</span>\n",
       "<span style=\"font-style: italic\">No description</span>\n",
       "Node counts: <span style=\"font-weight: bold\">Category</span>: <span style=\"color: #008080; text-decoration-color: #008080; font-weight: bold\">1</span>, <span style=\"font-weight: bold\">MultiBinning</span>: <span style=\"color: #008080; text-decoration-color: #008080; font-weight: bold\">3</span>\n",
       "╭────────── ▶ input ──────────╮ ╭───── ▶ input ──────╮ ╭────── ▶ input ───────╮\n",
       "│ <span style=\"font-weight: bold\">syst</span> (string)               │ │ <span style=\"font-weight: bold\">eta</span> (real)         │ │ <span style=\"font-weight: bold\">pt</span> (real)            │\n",
       "│ syst                        │ │ eta                │ │ pt                   │\n",
       "│ Values: nominal, stat, syst │ │ Range: [-2.5, 2.5) │ │ Range: [10.0, 500.0) │\n",
       "╰─────────────────────────────╯ ╰────────────────────╯ ╰──────────────────────╯\n",
       "╭─── ◀ output ───╮\n",
       "│ <span style=\"font-weight: bold\">out</span> (real)     │\n",
       "│ <span style=\"font-style: italic\">No description</span> │\n",
       "╰────────────────╯\n",
       "</pre>\n"
      ],
      "text/plain": [
       "📈 \u001b[1mElectron_WP_SF\u001b[0m \u001b[1m(\u001b[0mv0\u001b[1m)\u001b[0m\n",
       "\u001b[3mNo description\u001b[0m\n",
       "Node counts: \u001b[1mCategory\u001b[0m: \u001b[1;36m1\u001b[0m, \u001b[1mMultiBinning\u001b[0m: \u001b[1;36m3\u001b[0m\n",
       "╭────────── ▶ input ──────────╮ ╭───── ▶ input ──────╮ ╭────── ▶ input ───────╮\n",
       "│ \u001b[1msyst\u001b[0m (string)               │ │ \u001b[1meta\u001b[0m (real)         │ │ \u001b[1mpt\u001b[0m (real)            │\n",
       "│ syst                        │ │ eta                │ │ pt                   │\n",
       "│ Values: nominal, stat, syst │ │ Range: [-2.5, 2.5) │ │ Range: [10.0, 500.0) │\n",
       "╰─────────────────────────────╯ ╰────────────────────╯ ╰──────────────────────╯\n",
       "╭─── ◀ output ───╮\n",
       "│ \u001b[1mout\u001b[0m (real)     │\n",
       "│ \u001b[3mNo description\u001b[0m │\n",
       "╰────────────────╯\n"
      ]
     },
     "metadata": {},
     "output_type": "display_data"
    }
   ],
   "source": [
    "csets.append(get_cset_electron_wp())\n",
    "rich.print(csets[-1])"
   ]
  },
  {
   "cell_type": "markdown",
   "id": "ade81ada",
   "metadata": {},
   "source": [
    "# Muons SF"
   ]
  },
  {
   "cell_type": "code",
   "execution_count": 15,
   "id": "a317fd10",
   "metadata": {},
   "outputs": [],
   "source": [
    "corrections = {\n",
    "    \"Muon_IdSF\": \"NUM_TightHWW_DEN_TrackerMuons_eta_pt\",\n",
    "    \"Muon_IsoSF\": \"NUM_TightHWW_ISO_DEN_TightHWW_eta_pt\",\n",
    "}"
   ]
  },
  {
   "cell_type": "code",
   "execution_count": 16,
   "id": "9b00b0e8-997d-4a92-8eda-63ec60e00a82",
   "metadata": {},
   "outputs": [],
   "source": [
    "def get_muon_cset(corrName, histoName):\n",
    "    url = f\"https://github.com/latinos/LatinoAnalysis/raw/UL_production/NanoGardener/python/data/scale_factor/Full2018v9/{histoName}.root\"\n",
    "    with open(\"test_sf.root\", \"wb\") as file:\n",
    "        file.write(requests.get(url).content)\n",
    "    f = uproot.open(\"test_sf.root\")\n",
    "    h = f[histoName].to_hist()\n",
    "    axis = [\n",
    "        hist.axis.Variable(axis.edges, name=name)\n",
    "        for axis, name in zip(h.axes, [\"eta\", \"pt\"])\n",
    "    ]\n",
    "    data = np.array([h.values(), np.sqrt(h.variances())])\n",
    "    h_sf = hist.Hist(\n",
    "        hist.axis.StrCategory([\"nominal\", \"syst\"], name=\"syst\"), *axis, data=data\n",
    "    )\n",
    "    h_sf.name = corrName\n",
    "    h_sf.label = \"out\"\n",
    "    cset = correctionlib.convert.from_histogram(h_sf)\n",
    "    return cset"
   ]
  },
  {
   "cell_type": "code",
   "execution_count": 17,
   "id": "e34c637c",
   "metadata": {},
   "outputs": [
    {
     "data": {
      "text/html": [
       "<pre style=\"white-space:pre;overflow-x:auto;line-height:normal;font-family:Menlo,'DejaVu Sans Mono',consolas,'Courier New',monospace\">📈 <span style=\"font-weight: bold\">Muon_IdSF</span> <span style=\"font-weight: bold\">(</span>v0<span style=\"font-weight: bold\">)</span>\n",
       "<span style=\"font-style: italic\">No description</span>\n",
       "Node counts: <span style=\"font-weight: bold\">Category</span>: <span style=\"color: #008080; text-decoration-color: #008080; font-weight: bold\">1</span>, <span style=\"font-weight: bold\">MultiBinning</span>: <span style=\"color: #008080; text-decoration-color: #008080; font-weight: bold\">2</span>\n",
       "╭─────── ▶ input ───────╮ ╭───── ▶ input ──────╮ ╭────── ▶ input ───────╮\n",
       "│ <span style=\"font-weight: bold\">syst</span> (string)         │ │ <span style=\"font-weight: bold\">eta</span> (real)         │ │ <span style=\"font-weight: bold\">pt</span> (real)            │\n",
       "│ syst                  │ │ eta                │ │ pt                   │\n",
       "│ Values: nominal, syst │ │ Range: [-2.4, 2.4) │ │ Range: [10.0, 200.0) │\n",
       "╰───────────────────────╯ ╰────────────────────╯ ╰──────────────────────╯\n",
       "╭─── ◀ output ───╮\n",
       "│ <span style=\"font-weight: bold\">out</span> (real)     │\n",
       "│ <span style=\"font-style: italic\">No description</span> │\n",
       "╰────────────────╯\n",
       "</pre>\n"
      ],
      "text/plain": [
       "📈 \u001b[1mMuon_IdSF\u001b[0m \u001b[1m(\u001b[0mv0\u001b[1m)\u001b[0m\n",
       "\u001b[3mNo description\u001b[0m\n",
       "Node counts: \u001b[1mCategory\u001b[0m: \u001b[1;36m1\u001b[0m, \u001b[1mMultiBinning\u001b[0m: \u001b[1;36m2\u001b[0m\n",
       "╭─────── ▶ input ───────╮ ╭───── ▶ input ──────╮ ╭────── ▶ input ───────╮\n",
       "│ \u001b[1msyst\u001b[0m (string)         │ │ \u001b[1meta\u001b[0m (real)         │ │ \u001b[1mpt\u001b[0m (real)            │\n",
       "│ syst                  │ │ eta                │ │ pt                   │\n",
       "│ Values: nominal, syst │ │ Range: [-2.4, 2.4) │ │ Range: [10.0, 200.0) │\n",
       "╰───────────────────────╯ ╰────────────────────╯ ╰──────────────────────╯\n",
       "╭─── ◀ output ───╮\n",
       "│ \u001b[1mout\u001b[0m (real)     │\n",
       "│ \u001b[3mNo description\u001b[0m │\n",
       "╰────────────────╯\n"
      ]
     },
     "metadata": {},
     "output_type": "display_data"
    },
    {
     "data": {
      "text/html": [
       "<pre style=\"white-space:pre;overflow-x:auto;line-height:normal;font-family:Menlo,'DejaVu Sans Mono',consolas,'Courier New',monospace\">📈 <span style=\"font-weight: bold\">Muon_IsoSF</span> <span style=\"font-weight: bold\">(</span>v0<span style=\"font-weight: bold\">)</span>\n",
       "<span style=\"font-style: italic\">No description</span>\n",
       "Node counts: <span style=\"font-weight: bold\">Category</span>: <span style=\"color: #008080; text-decoration-color: #008080; font-weight: bold\">1</span>, <span style=\"font-weight: bold\">MultiBinning</span>: <span style=\"color: #008080; text-decoration-color: #008080; font-weight: bold\">2</span>\n",
       "╭─────── ▶ input ───────╮ ╭───── ▶ input ──────╮ ╭────── ▶ input ───────╮\n",
       "│ <span style=\"font-weight: bold\">syst</span> (string)         │ │ <span style=\"font-weight: bold\">eta</span> (real)         │ │ <span style=\"font-weight: bold\">pt</span> (real)            │\n",
       "│ syst                  │ │ eta                │ │ pt                   │\n",
       "│ Values: nominal, syst │ │ Range: [-2.4, 2.4) │ │ Range: [10.0, 200.0) │\n",
       "╰───────────────────────╯ ╰────────────────────╯ ╰──────────────────────╯\n",
       "╭─── ◀ output ───╮\n",
       "│ <span style=\"font-weight: bold\">out</span> (real)     │\n",
       "│ <span style=\"font-style: italic\">No description</span> │\n",
       "╰────────────────╯\n",
       "</pre>\n"
      ],
      "text/plain": [
       "📈 \u001b[1mMuon_IsoSF\u001b[0m \u001b[1m(\u001b[0mv0\u001b[1m)\u001b[0m\n",
       "\u001b[3mNo description\u001b[0m\n",
       "Node counts: \u001b[1mCategory\u001b[0m: \u001b[1;36m1\u001b[0m, \u001b[1mMultiBinning\u001b[0m: \u001b[1;36m2\u001b[0m\n",
       "╭─────── ▶ input ───────╮ ╭───── ▶ input ──────╮ ╭────── ▶ input ───────╮\n",
       "│ \u001b[1msyst\u001b[0m (string)         │ │ \u001b[1meta\u001b[0m (real)         │ │ \u001b[1mpt\u001b[0m (real)            │\n",
       "│ syst                  │ │ eta                │ │ pt                   │\n",
       "│ Values: nominal, syst │ │ Range: [-2.4, 2.4) │ │ Range: [10.0, 200.0) │\n",
       "╰───────────────────────╯ ╰────────────────────╯ ╰──────────────────────╯\n",
       "╭─── ◀ output ───╮\n",
       "│ \u001b[1mout\u001b[0m (real)     │\n",
       "│ \u001b[3mNo description\u001b[0m │\n",
       "╰────────────────╯\n"
      ]
     },
     "metadata": {},
     "output_type": "display_data"
    }
   ],
   "source": [
    "for corrName, histoName in corrections.items():\n",
    "    csets.append(get_muon_cset(corrName, histoName))\n",
    "    rich.print(csets[-1])"
   ]
  },
  {
   "cell_type": "markdown",
   "id": "82befc9e",
   "metadata": {},
   "source": [
    "# Save everything"
   ]
  },
  {
   "cell_type": "code",
   "execution_count": 18,
   "id": "397245df-1ff8-45dd-aaa1-b58a8bd6c22c",
   "metadata": {},
   "outputs": [],
   "source": [
    "cset = correctionlib.schemav2.CorrectionSet(\n",
    "    schema_version=2, description=\"\", corrections=csets\n",
    ")"
   ]
  },
  {
   "cell_type": "code",
   "execution_count": 19,
   "id": "6dfcc099-948c-423f-901a-cc0baf4fb661",
   "metadata": {},
   "outputs": [
    {
     "data": {
      "text/html": [
       "<pre style=\"white-space:pre;overflow-x:auto;line-height:normal;font-family:Menlo,'DejaVu Sans Mono',consolas,'Courier New',monospace\"><span style=\"font-weight: bold\">CorrectionSet</span> (<span style=\"font-style: italic\">schema v2</span>)\n",
       "<span style=\"font-style: italic\">No description</span>\n",
       "📂\n",
       "├── 📈 <span style=\"font-weight: bold\">Electron_RecoSF_RecoBelow20</span> (v0)\n",
       "│   <span style=\"font-style: italic\">No description</span>\n",
       "│   Node counts: <span style=\"font-weight: bold\">Category</span>: 1, <span style=\"font-weight: bold\">MultiBinning</span>: 3\n",
       "│   ╭────────────── ▶ input ──────────────╮ ╭───── ▶ input ──────╮ ╭────── ▶ input ──────╮\n",
       "│   │ <span style=\"font-weight: bold\">syst</span> (string)                       │ │ <span style=\"font-weight: bold\">eta</span> (real)         │ │ <span style=\"font-weight: bold\">pt</span> (real)           │\n",
       "│   │ syst                                │ │ eta                │ │ pt                  │\n",
       "│   │ Values: nominal, syst_down, syst_up │ │ Range: [-inf, inf) │ │ Range: [10.0, 20.0) │\n",
       "│   ╰─────────────────────────────────────╯ ╰────────────────────╯ ╰─────────────────────╯\n",
       "│   ╭─── ◀ output ───╮\n",
       "│   │ <span style=\"font-weight: bold\">out</span> (real)     │\n",
       "│   │ <span style=\"font-style: italic\">No description</span> │\n",
       "│   ╰────────────────╯\n",
       "├── 📈 <span style=\"font-weight: bold\">Electron_RecoSF_RecoAbove20</span> (v0)\n",
       "│   <span style=\"font-style: italic\">No description</span>\n",
       "│   Node counts: <span style=\"font-weight: bold\">Category</span>: 1, <span style=\"font-weight: bold\">MultiBinning</span>: 3\n",
       "│   ╭────────────── ▶ input ──────────────╮ ╭───── ▶ input ──────╮ ╭───── ▶ input ──────╮\n",
       "│   │ <span style=\"font-weight: bold\">syst</span> (string)                       │ │ <span style=\"font-weight: bold\">eta</span> (real)         │ │ <span style=\"font-weight: bold\">pt</span> (real)          │\n",
       "│   │ syst                                │ │ eta                │ │ pt                 │\n",
       "│   │ Values: nominal, syst_down, syst_up │ │ Range: [-inf, inf) │ │ Range: [20.0, inf) │\n",
       "│   ╰─────────────────────────────────────╯ ╰────────────────────╯ ╰────────────────────╯\n",
       "│   ╭─── ◀ output ───╮\n",
       "│   │ <span style=\"font-weight: bold\">out</span> (real)     │\n",
       "│   │ <span style=\"font-style: italic\">No description</span> │\n",
       "│   ╰────────────────╯\n",
       "├── 📈 <span style=\"font-weight: bold\">Electron_WP_SF</span> (v0)\n",
       "│   <span style=\"font-style: italic\">No description</span>\n",
       "│   Node counts: <span style=\"font-weight: bold\">Category</span>: 1, <span style=\"font-weight: bold\">MultiBinning</span>: 3\n",
       "│   ╭────────── ▶ input ──────────╮ ╭───── ▶ input ──────╮ ╭────── ▶ input ───────╮\n",
       "│   │ <span style=\"font-weight: bold\">syst</span> (string)               │ │ <span style=\"font-weight: bold\">eta</span> (real)         │ │ <span style=\"font-weight: bold\">pt</span> (real)            │\n",
       "│   │ syst                        │ │ eta                │ │ pt                   │\n",
       "│   │ Values: nominal, stat, syst │ │ Range: [-2.5, 2.5) │ │ Range: [10.0, 500.0) │\n",
       "│   ╰─────────────────────────────╯ ╰────────────────────╯ ╰──────────────────────╯\n",
       "│   ╭─── ◀ output ───╮\n",
       "│   │ <span style=\"font-weight: bold\">out</span> (real)     │\n",
       "│   │ <span style=\"font-style: italic\">No description</span> │\n",
       "│   ╰────────────────╯\n",
       "├── 📈 <span style=\"font-weight: bold\">Muon_IdSF</span> (v0)\n",
       "│   <span style=\"font-style: italic\">No description</span>\n",
       "│   Node counts: <span style=\"font-weight: bold\">Category</span>: 1, <span style=\"font-weight: bold\">MultiBinning</span>: 2\n",
       "│   ╭─────── ▶ input ───────╮ ╭───── ▶ input ──────╮ ╭────── ▶ input ───────╮\n",
       "│   │ <span style=\"font-weight: bold\">syst</span> (string)         │ │ <span style=\"font-weight: bold\">eta</span> (real)         │ │ <span style=\"font-weight: bold\">pt</span> (real)            │\n",
       "│   │ syst                  │ │ eta                │ │ pt                   │\n",
       "│   │ Values: nominal, syst │ │ Range: [-2.4, 2.4) │ │ Range: [10.0, 200.0) │\n",
       "│   ╰───────────────────────╯ ╰────────────────────╯ ╰──────────────────────╯\n",
       "│   ╭─── ◀ output ───╮\n",
       "│   │ <span style=\"font-weight: bold\">out</span> (real)     │\n",
       "│   │ <span style=\"font-style: italic\">No description</span> │\n",
       "│   ╰────────────────╯\n",
       "└── 📈 <span style=\"font-weight: bold\">Muon_IsoSF</span> (v0)\n",
       "    <span style=\"font-style: italic\">No description</span>\n",
       "    Node counts: <span style=\"font-weight: bold\">Category</span>: 1, <span style=\"font-weight: bold\">MultiBinning</span>: 2\n",
       "    ╭─────── ▶ input ───────╮ ╭───── ▶ input ──────╮ ╭────── ▶ input ───────╮\n",
       "    │ <span style=\"font-weight: bold\">syst</span> (string)         │ │ <span style=\"font-weight: bold\">eta</span> (real)         │ │ <span style=\"font-weight: bold\">pt</span> (real)            │\n",
       "    │ syst                  │ │ eta                │ │ pt                   │\n",
       "    │ Values: nominal, syst │ │ Range: [-2.4, 2.4) │ │ Range: [10.0, 200.0) │\n",
       "    ╰───────────────────────╯ ╰────────────────────╯ ╰──────────────────────╯\n",
       "    ╭─── ◀ output ───╮\n",
       "    │ <span style=\"font-weight: bold\">out</span> (real)     │\n",
       "    │ <span style=\"font-style: italic\">No description</span> │\n",
       "    ╰────────────────╯\n",
       "</pre>\n"
      ],
      "text/plain": [
       "\u001b[1mCorrectionSet\u001b[0m (\u001b[3mschema v2\u001b[0m)\n",
       "\u001b[3mNo description\u001b[0m\n",
       "📂\n",
       "├── 📈 \u001b[1mElectron_RecoSF_RecoBelow20\u001b[0m (v0)\n",
       "│   \u001b[3mNo description\u001b[0m\n",
       "│   Node counts: \u001b[1mCategory\u001b[0m: 1, \u001b[1mMultiBinning\u001b[0m: 3\n",
       "│   ╭────────────── ▶ input ──────────────╮ ╭───── ▶ input ──────╮ ╭────── ▶ input ──────╮\n",
       "│   │ \u001b[1msyst\u001b[0m (string)                       │ │ \u001b[1meta\u001b[0m (real)         │ │ \u001b[1mpt\u001b[0m (real)           │\n",
       "│   │ syst                                │ │ eta                │ │ pt                  │\n",
       "│   │ Values: nominal, syst_down, syst_up │ │ Range: [-inf, inf) │ │ Range: [10.0, 20.0) │\n",
       "│   ╰─────────────────────────────────────╯ ╰────────────────────╯ ╰─────────────────────╯\n",
       "│   ╭─── ◀ output ───╮\n",
       "│   │ \u001b[1mout\u001b[0m (real)     │\n",
       "│   │ \u001b[3mNo description\u001b[0m │\n",
       "│   ╰────────────────╯\n",
       "├── 📈 \u001b[1mElectron_RecoSF_RecoAbove20\u001b[0m (v0)\n",
       "│   \u001b[3mNo description\u001b[0m\n",
       "│   Node counts: \u001b[1mCategory\u001b[0m: 1, \u001b[1mMultiBinning\u001b[0m: 3\n",
       "│   ╭────────────── ▶ input ──────────────╮ ╭───── ▶ input ──────╮ ╭───── ▶ input ──────╮\n",
       "│   │ \u001b[1msyst\u001b[0m (string)                       │ │ \u001b[1meta\u001b[0m (real)         │ │ \u001b[1mpt\u001b[0m (real)          │\n",
       "│   │ syst                                │ │ eta                │ │ pt                 │\n",
       "│   │ Values: nominal, syst_down, syst_up │ │ Range: [-inf, inf) │ │ Range: [20.0, inf) │\n",
       "│   ╰─────────────────────────────────────╯ ╰────────────────────╯ ╰────────────────────╯\n",
       "│   ╭─── ◀ output ───╮\n",
       "│   │ \u001b[1mout\u001b[0m (real)     │\n",
       "│   │ \u001b[3mNo description\u001b[0m │\n",
       "│   ╰────────────────╯\n",
       "├── 📈 \u001b[1mElectron_WP_SF\u001b[0m (v0)\n",
       "│   \u001b[3mNo description\u001b[0m\n",
       "│   Node counts: \u001b[1mCategory\u001b[0m: 1, \u001b[1mMultiBinning\u001b[0m: 3\n",
       "│   ╭────────── ▶ input ──────────╮ ╭───── ▶ input ──────╮ ╭────── ▶ input ───────╮\n",
       "│   │ \u001b[1msyst\u001b[0m (string)               │ │ \u001b[1meta\u001b[0m (real)         │ │ \u001b[1mpt\u001b[0m (real)            │\n",
       "│   │ syst                        │ │ eta                │ │ pt                   │\n",
       "│   │ Values: nominal, stat, syst │ │ Range: [-2.5, 2.5) │ │ Range: [10.0, 500.0) │\n",
       "│   ╰─────────────────────────────╯ ╰────────────────────╯ ╰──────────────────────╯\n",
       "│   ╭─── ◀ output ───╮\n",
       "│   │ \u001b[1mout\u001b[0m (real)     │\n",
       "│   │ \u001b[3mNo description\u001b[0m │\n",
       "│   ╰────────────────╯\n",
       "├── 📈 \u001b[1mMuon_IdSF\u001b[0m (v0)\n",
       "│   \u001b[3mNo description\u001b[0m\n",
       "│   Node counts: \u001b[1mCategory\u001b[0m: 1, \u001b[1mMultiBinning\u001b[0m: 2\n",
       "│   ╭─────── ▶ input ───────╮ ╭───── ▶ input ──────╮ ╭────── ▶ input ───────╮\n",
       "│   │ \u001b[1msyst\u001b[0m (string)         │ │ \u001b[1meta\u001b[0m (real)         │ │ \u001b[1mpt\u001b[0m (real)            │\n",
       "│   │ syst                  │ │ eta                │ │ pt                   │\n",
       "│   │ Values: nominal, syst │ │ Range: [-2.4, 2.4) │ │ Range: [10.0, 200.0) │\n",
       "│   ╰───────────────────────╯ ╰────────────────────╯ ╰──────────────────────╯\n",
       "│   ╭─── ◀ output ───╮\n",
       "│   │ \u001b[1mout\u001b[0m (real)     │\n",
       "│   │ \u001b[3mNo description\u001b[0m │\n",
       "│   ╰────────────────╯\n",
       "└── 📈 \u001b[1mMuon_IsoSF\u001b[0m (v0)\n",
       "    \u001b[3mNo description\u001b[0m\n",
       "    Node counts: \u001b[1mCategory\u001b[0m: 1, \u001b[1mMultiBinning\u001b[0m: 2\n",
       "    ╭─────── ▶ input ───────╮ ╭───── ▶ input ──────╮ ╭────── ▶ input ───────╮\n",
       "    │ \u001b[1msyst\u001b[0m (string)         │ │ \u001b[1meta\u001b[0m (real)         │ │ \u001b[1mpt\u001b[0m (real)            │\n",
       "    │ syst                  │ │ eta                │ │ pt                   │\n",
       "    │ Values: nominal, syst │ │ Range: [-2.4, 2.4) │ │ Range: [10.0, 200.0) │\n",
       "    ╰───────────────────────╯ ╰────────────────────╯ ╰──────────────────────╯\n",
       "    ╭─── ◀ output ───╮\n",
       "    │ \u001b[1mout\u001b[0m (real)     │\n",
       "    │ \u001b[3mNo description\u001b[0m │\n",
       "    ╰────────────────╯\n"
      ]
     },
     "metadata": {},
     "output_type": "display_data"
    }
   ],
   "source": [
    "rich.print(cset)"
   ]
  },
  {
   "cell_type": "code",
   "execution_count": 20,
   "id": "80105b79",
   "metadata": {},
   "outputs": [],
   "source": [
    "import os\n",
    "\n",
    "os.makedirs(\"../data/2018/\", exist_ok=True)\n",
    "with gzip.open(\"../data/2018/lepton_sf.json.gz\", \"wt\") as fout:\n",
    "    fout.write(cset.json(exclude_unset=True))"
   ]
  },
  {
   "cell_type": "code",
   "execution_count": null,
   "id": "e8af97df",
   "metadata": {},
   "outputs": [],
   "source": []
  },
  {
   "cell_type": "code",
   "execution_count": 72,
   "id": "f4b889d8",
   "metadata": {},
   "outputs": [],
   "source": [
    "ceval_lepton_sf = correctionlib.CorrectionSet.from_file(\n",
    "    \"../data/2018/lepton_sf.json.gz\"\n",
    ")"
   ]
  },
  {
   "cell_type": "code",
   "execution_count": 141,
   "id": "c8b3882e",
   "metadata": {},
   "outputs": [
    {
     "name": "stdout",
     "output_type": "stream",
     "text": [
      "start reading\n",
      "created events\n"
     ]
    }
   ],
   "source": [
    "import uproot\n",
    "import awkward as ak\n",
    "import os\n",
    "import sys\n",
    "sys.path.insert(0, os.path.dirname(os.path.abspath('.')))\n",
    "from framework import read_events\n",
    "import json\n",
    "with open('../data/common/forms.json') as file:\n",
    "    forms = json.load(file)\n",
    "events = read_events('/Users/giorgiopizzati/testcoffea/rootFiles/7B930101-EB91-4F4E-9B90-0861460DBD94.root', 0, 100_000, forms['mc'])"
   ]
  },
  {
   "cell_type": "code",
   "execution_count": 142,
   "id": "04a1c162",
   "metadata": {},
   "outputs": [],
   "source": [
    "with open('../data/cfg.json') as file:\n",
    "    cfg = json.load(file)"
   ]
  },
  {
   "cell_type": "code",
   "execution_count": 143,
   "id": "78dcd9ce",
   "metadata": {},
   "outputs": [],
   "source": [
    "from modules.lepton_sel import createLepton, leptonSel\n",
    "\n",
    "\n",
    "events = createLepton(events)\n",
    "events = leptonSel(events)\n",
    "events[\"Lepton\"] = events.Lepton[events.Lepton.isLoose]\n",
    "events = events[ak.num(events.Lepton) >= 2]\n",
    "events = events[events.Lepton[:, 0].pt >= 8]"
   ]
  },
  {
   "cell_type": "code",
   "execution_count": 144,
   "id": "6f0b7acc",
   "metadata": {},
   "outputs": [],
   "source": [
    "import modules.lepton_sf"
   ]
  },
  {
   "cell_type": "code",
   "execution_count": 145,
   "id": "b8c0656f",
   "metadata": {},
   "outputs": [],
   "source": [
    "from modules.lepton_sf import lepton_sf"
   ]
  },
  {
   "cell_type": "code",
   "execution_count": 146,
   "id": "aa95f97c",
   "metadata": {},
   "outputs": [],
   "source": [
    "import importlib"
   ]
  },
  {
   "cell_type": "code",
   "execution_count": 147,
   "id": "c5a97c9a",
   "metadata": {},
   "outputs": [
    {
     "data": {
      "text/plain": [
       "<module 'modules.lepton_sf' from '/Users/giorgiopizzati/development/cern/my_processor/modules/lepton_sf.py'>"
      ]
     },
     "execution_count": 147,
     "metadata": {},
     "output_type": "execute_result"
    }
   ],
   "source": [
    "importlib.reload(modules.lepton_sf)"
   ]
  },
  {
   "cell_type": "code",
   "execution_count": 148,
   "id": "911fffda",
   "metadata": {},
   "outputs": [
    {
     "name": "stdout",
     "output_type": "stream",
     "text": [
      "[[True, True], [True, True], [True, ...], ..., [False, False], [True, True]]\n",
      "[[0.967, 0.955], [0.955, 0.967], [...], ..., [None, None], [0.957, 0.963]]\n",
      "[[True, True], [True, True], [True, ...], ..., [False, False], [True, True]]\n",
      "[[0.00197, 0.00174], [0.00174, 0.00197], ..., [None, ...], [0.00165, 0.00178]]\n",
      "[[True, True], [True, True], [True, ...], ..., [False, False], [True, True]]\n",
      "[[0.00708, 0.00641], [0.00641, 0.00708], ..., [None, ...], [0.018, 0.00653]]\n",
      "[[False, False], [False, False], [...], ..., [True, True], [False, False]]\n",
      "[[None, None], [None, None], [None, ...], ..., [0.993, 0.994], [None, None]]\n",
      "[[False, False], [False, False], [...], ..., [True, True], [False, False]]\n",
      "[[None, None], [None, None], [...], ..., [0.000593, 0.000707], [None, None]]\n",
      "[[False, False], [False, False], [...], ..., [True, True], [False, False]]\n",
      "[[None, None], [None, None], [None, ...], ..., [0.999, 0.993], [None, None]]\n",
      "[[False, False], [False, False], [...], ..., [True, True], [False, False]]\n",
      "[[None, None], [None, None], [...], ..., [0.000556, 0.00253], [None, None]]\n"
     ]
    }
   ],
   "source": [
    "events, _ = modules.lepton_sf.lepton_sf(events, {}, ceval_lepton_sf, cfg)"
   ]
  },
  {
   "cell_type": "code",
   "execution_count": 149,
   "id": "8e587977",
   "metadata": {},
   "outputs": [
    {
     "data": {
      "text/html": [
       "<pre>[[11, -11],\n",
       " [-11, 11],\n",
       " [-11, 11],\n",
       " [13, -13],\n",
       " [13, -13],\n",
       " [-13, 13],\n",
       " [13, -13],\n",
       " [-13, 13],\n",
       " [13, -13],\n",
       " [-13, 13],\n",
       " ...,\n",
       " [-11, 11],\n",
       " [-13, 13],\n",
       " [-11, 11],\n",
       " [13, -13],\n",
       " [11, -11],\n",
       " [-13, 13],\n",
       " [-13, 13],\n",
       " [-13, 13],\n",
       " [11, -11]]\n",
       "-------------------------\n",
       "type: 23275 * var * int32</pre>"
      ],
      "text/plain": [
       "<Array [[11, -11], [-11, 11], ..., [...], [11, -11]] type='23275 * var * int32'>"
      ]
     },
     "execution_count": 149,
     "metadata": {},
     "output_type": "execute_result"
    }
   ],
   "source": [
    "events.Lepton.pdgId"
   ]
  },
  {
   "cell_type": "code",
   "execution_count": 150,
   "id": "0b7dc128",
   "metadata": {},
   "outputs": [
    {
     "data": {
      "text/html": [
       "<pre>[[],\n",
       " [],\n",
       " [],\n",
       " [0.993, 0.974],\n",
       " [0.992, 0.988],\n",
       " [0.989, 0.99],\n",
       " [0.989, 0.991],\n",
       " [0.994, 0.99],\n",
       " [0.998, 0.981],\n",
       " [0.971, 0.992],\n",
       " ...,\n",
       " [],\n",
       " [0.979, 0.979],\n",
       " [],\n",
       " [0.991, 1],\n",
       " [],\n",
       " [0.986, 0.99],\n",
       " [0.979, 0.992],\n",
       " [0.992, 0.987],\n",
       " []]\n",
       "----------------------------\n",
       "type: 23275 * var * ?float64</pre>"
      ],
      "text/plain": [
       "<Array [[], [], [], ..., [0.992, 0.987], []] type='23275 * var * ?float64'>"
      ]
     },
     "execution_count": 150,
     "metadata": {},
     "output_type": "execute_result"
    }
   ],
   "source": [
    "events.Lepton.TightSF[events.Lepton['isTightMuon_'+ cfg['muWP']]]"
   ]
  },
  {
   "cell_type": "code",
   "execution_count": 151,
   "id": "833610a9",
   "metadata": {},
   "outputs": [
    {
     "data": {
      "text/html": [
       "<pre>[[0.967, 0.955],\n",
       " [0.955, 0.967],\n",
       " [0.962],\n",
       " [],\n",
       " [],\n",
       " [],\n",
       " [],\n",
       " [],\n",
       " [],\n",
       " [],\n",
       " ...,\n",
       " [0.967, 0.963],\n",
       " [],\n",
       " [0.982, 0.955],\n",
       " [],\n",
       " [0.954, 0.963],\n",
       " [],\n",
       " [],\n",
       " [],\n",
       " [0.957, 0.963]]\n",
       "----------------------------\n",
       "type: 23275 * var * ?float64</pre>"
      ],
      "text/plain": [
       "<Array [[0.967, 0.955], ..., [0.957, 0.963]] type='23275 * var * ?float64'>"
      ]
     },
     "execution_count": 151,
     "metadata": {},
     "output_type": "execute_result"
    }
   ],
   "source": [
    "events.Lepton.TightSF[events.Lepton['isTightElectron_'+ cfg['eleWP']]]"
   ]
  },
  {
   "cell_type": "code",
   "execution_count": 152,
   "id": "9b4c86af",
   "metadata": {},
   "outputs": [],
   "source": [
    "h = hist.Hist(\n",
    "    hist.axis.StrCategory(['weight', 'reco_sf', 'tight_sf'], name='syst'),\n",
    "    hist.axis.StrCategory(['e', 'm'], name='cat'),\n",
    "    hist.axis.Regular(30, 10, 100, name='pt'),\n",
    "    hist.storage.Weight())"
   ]
  },
  {
   "cell_type": "code",
   "execution_count": 153,
   "id": "c822adab",
   "metadata": {},
   "outputs": [],
   "source": [
    "events = events[ak.num(events.Lepton) >= 2]\n",
    "events['weight'] = events.genWeight\n",
    "events['reco_sf'] = events.weight * events.Lepton.RecoSF[:, 0] * events.Lepton.RecoSF[:, 1]\n",
    "events['tight_sf'] = events.reco_sf * events.Lepton.TightSF[:, 0] * events.Lepton.TightSF[:, 1]\n",
    "events['e'] = abs(events.Lepton[:, 0].pdgId) == 11\n",
    "events['m'] = abs(events.Lepton[:, 0].pdgId) == 13\n"
   ]
  },
  {
   "cell_type": "code",
   "execution_count": 154,
   "id": "9705c795",
   "metadata": {},
   "outputs": [],
   "source": [
    "for variation in ['weight', 'reco_sf', 'tight_sf']:\n",
    "    for cat in ['e', 'm']:\n",
    "        mask = events[cat]\n",
    "        h.fill(syst=variation, cat=cat, pt=events.Lepton.pt[:, 0][mask], weight=events[variation][mask])"
   ]
  },
  {
   "cell_type": "code",
   "execution_count": null,
   "id": "2a2cf6b2",
   "metadata": {},
   "outputs": [],
   "source": []
  },
  {
   "cell_type": "code",
   "execution_count": 155,
   "id": "99539436",
   "metadata": {},
   "outputs": [],
   "source": [
    "ax_ind = 2\n",
    "x = h.axes[ax_ind].centers\n",
    "edges = h.axes[ax_ind].edges"
   ]
  },
  {
   "cell_type": "code",
   "execution_count": 156,
   "id": "2089fac9",
   "metadata": {},
   "outputs": [],
   "source": [
    "import matplotlib.pyplot as plt"
   ]
  },
  {
   "cell_type": "code",
   "execution_count": 157,
   "id": "29d4450a",
   "metadata": {},
   "outputs": [
    {
     "data": {
      "image/png": "[encoded data removed]",
      "text/plain": [
       "<Figure size 640x480 with 1 Axes>"
      ]
     },
     "metadata": {},
     "output_type": "display_data"
    },
    {
     "data": {
      "image/png": "[encoded data removed]",
      "text/plain": [
       "<Figure size 640x480 with 1 Axes>"
      ]
     },
     "metadata": {},
     "output_type": "display_data"
    }
   ],
   "source": [
    "for cat in ['e', 'm']:\n",
    "    values = []\n",
    "    for variation in ['weight', 'reco_sf', 'tight_sf']:\n",
    "        values.append(h[hist.loc(variation), hist.loc(cat), :].values())\n",
    "    plt.figure()\n",
    "    plt.title(cat)\n",
    "    plt.stairs(values[2]/values[0], edges, baseline=1.0, label='Tight')\n",
    "    plt.stairs(values[1]/values[0], edges, baseline=1.0, label='Reco')\n",
    "    plt.stairs(np.ones_like(x), edges, baseline=1, color='black')\n",
    "    plt.legend()"
   ]
  },
  {
   "cell_type": "code",
   "execution_count": null,
   "id": "4dd9be73",
   "metadata": {},
   "outputs": [],
   "source": []
  },
  {
   "cell_type": "code",
   "execution_count": null,
   "id": "8dbe0a1b",
   "metadata": {},
   "outputs": [],
   "source": []
  },
  {
   "cell_type": "code",
   "execution_count": null,
   "id": "ad1d60c2-4e88-4303-907e-08a1b2ddf0dc",
   "metadata": {},
   "outputs": [
    {
     "name": "stdout",
     "output_type": "stream",
     "text": [
      "0.9943716526031494 0.0020353191106662998\n",
      "0.9943716526031494 0.0020353191106663\n"
     ]
    }
   ],
   "source": [
    "ceval = cset.to_evaluator()\n",
    "veta = 1.5\n",
    "vpt = 15.0\n",
    "point = h[hist.loc(veta), hist.loc(vpt)]\n",
    "print(point.value, np.sqrt(point.variance))\n",
    "args = (veta, vpt)\n",
    "print(ceval.evaluate(\"nominal\", *args), ceval.evaluate(\"syst\", *args))"
   ]
  },
  {
   "cell_type": "code",
   "execution_count": null,
   "id": "9727c81e-9de4-4be3-9b8a-221bc99926fb",
   "metadata": {},
   "outputs": [],
   "source": [
    "cset_muon = cset"
   ]
  },
  {
   "cell_type": "code",
   "execution_count": null,
   "id": "ba2a6a23-528d-4fd7-a97d-ad3102ead703",
   "metadata": {},
   "outputs": [],
   "source": []
  },
  {
   "cell_type": "code",
   "execution_count": null,
   "id": "2855d1e0-a53c-47b5-978e-74c7c018d893",
   "metadata": {},
   "outputs": [
    {
     "name": "stdout",
     "output_type": "stream",
     "text": [
      "[-2.5   -2.    -1.566 -1.442 -0.8    0.     0.8    1.442  1.566  2.\n",
      "  2.5  ]\n",
      "[ 10.  15.  20.  35.  50.  90. 150. 500.]\n"
     ]
    }
   ],
   "source": [
    "eta_bin = np.array(\n",
    "    list(map(lambda k: k[0], np.unique(df[\"eta\"]))) + [np.unique(df[\"eta\"])[-1][-1]]\n",
    ")\n",
    "pt_bin = np.array(\n",
    "    list(map(lambda k: k[0], np.unique(df[\"pt\"]))) + [np.unique(df[\"pt\"])[-1][-1]]\n",
    ")\n",
    "print(eta_bin)\n",
    "print(pt_bin)"
   ]
  },
  {
   "cell_type": "code",
   "execution_count": null,
   "id": "e04f1bf4-bbc0-4025-844a-cf74036b7025",
   "metadata": {},
   "outputs": [],
   "source": [
    "h = hist.Hist(\n",
    "    hist.axis.StrCategory([\"nominal\", \"stat\", \"syst\"], name=\"syst\"),\n",
    "    hist.axis.Variable(eta_bin, name=\"eta\"),\n",
    "    hist.axis.Variable(pt_bin, name=\"pt\"),\n",
    "    hist.storage.Double(),\n",
    ")"
   ]
  },
  {
   "cell_type": "code",
   "execution_count": null,
   "id": "b8f329c1-fd75-4d2a-93c0-a97aa8f2136b",
   "metadata": {},
   "outputs": [],
   "source": [
    "for syst, sf_name in zip([\"nominal\", \"stat\", \"syst\"], [\"sf\", \"sf_err\", \"sf_syst\"]):\n",
    "    for pt_c in (pt_bin[1:] + pt_bin[:-1]) / 2:\n",
    "        for eta_c in (eta_bin[1:] + eta_bin[:-1]) / 2:\n",
    "            for i, (ipt, ieta) in enumerate(list(zip(list(df[\"pt\"]), list(df[\"eta\"])))):\n",
    "                if ieta[0] <= eta_c < ieta[1] and ipt[0] <= pt_c < ipt[1]:\n",
    "                    # print(i)\n",
    "                    # print(df['sf'][i], df['sf_err'][i])\n",
    "                    h[hist.loc(syst), hist.loc(eta_c), hist.loc(pt_c)] = df[sf_name][i]"
   ]
  },
  {
   "cell_type": "raw",
   "id": "c22cce1a-29ee-47f3-9106-314fcb5c1a08",
   "metadata": {},
   "source": [
    "pt_bin\n",
    "\n",
    "h[hist.loc('nominal'), hist.loc(2.0), hist.loc(15)] = 5\n",
    "\n",
    "h[hist.loc('nominal'), hist.loc(2.0), hist.loc(15)]\n",
    "\n",
    "#shape = (len(eta_bin)-1, len(pt_bin)-1)\n",
    "shape = (len(pt_bin)-1, len(eta_bin)-1)\n",
    "data = []\n",
    "for sf in ['sf', 'sf_err', 'sf_syst']:\n",
    "    data.append(np.array(df[sf]).reshape(shape).T)\n",
    "data = np.array(data)\n",
    "\n",
    "h = hist.Hist(\n",
    "    hist.axis.StrCategory(['nominal', 'stat', 'syst'], name='syst'),\n",
    "    hist.axis.Variable(eta_bin, name='eta'),\n",
    "    hist.axis.Variable(pt_bin, name='pt'),\n",
    "    data=data)\n",
    "\n",
    "h.values().shape\n",
    "\n",
    "shape"
   ]
  },
  {
   "cell_type": "code",
   "execution_count": null,
   "id": "f5469b59-33f3-4646-9a68-19af049b4dd8",
   "metadata": {},
   "outputs": [],
   "source": [
    "h.name = \"Electron SF\"\n",
    "h.label = \"out\""
   ]
  },
  {
   "cell_type": "code",
   "execution_count": null,
   "id": "e4005bc9-258d-4250-ab0e-679e0173d78e",
   "metadata": {},
   "outputs": [],
   "source": []
  },
  {
   "cell_type": "code",
   "execution_count": null,
   "id": "cd20bf32-adfb-428e-a71d-adea1f4c93e8",
   "metadata": {},
   "outputs": [],
   "source": [
    "cset = correctionlib.convert.from_histogram(h)"
   ]
  },
  {
   "cell_type": "code",
   "execution_count": null,
   "id": "6aa2fda8-3aac-43b4-a4d9-e91f3913e29a",
   "metadata": {},
   "outputs": [
    {
     "data": {
      "text/html": [
       "<pre style=\"white-space:pre;overflow-x:auto;line-height:normal;font-family:Menlo,'DejaVu Sans Mono',consolas,'Courier New',monospace\">📈 <span style=\"font-weight: bold\">Electron SF</span> <span style=\"font-weight: bold\">(</span>v0<span style=\"font-weight: bold\">)</span>\n",
       "<span style=\"font-style: italic\">No description</span>\n",
       "Node counts: <span style=\"font-weight: bold\">Category</span>: <span style=\"color: #008080; text-decoration-color: #008080; font-weight: bold\">1</span>, <span style=\"font-weight: bold\">MultiBinning</span>: <span style=\"color: #008080; text-decoration-color: #008080; font-weight: bold\">3</span>\n",
       "╭────────── ▶ input ──────────╮ ╭───── ▶ input ──────╮ ╭────── ▶ input ───────╮\n",
       "│ <span style=\"font-weight: bold\">syst</span> (string)               │ │ <span style=\"font-weight: bold\">eta</span> (real)         │ │ <span style=\"font-weight: bold\">pt</span> (real)            │\n",
       "│ syst                        │ │ eta                │ │ pt                   │\n",
       "│ Values: nominal, stat, syst │ │ Range: [-2.5, 2.5) │ │ Range: [10.0, 500.0) │\n",
       "╰─────────────────────────────╯ ╰────────────────────╯ ╰──────────────────────╯\n",
       "╭─── ◀ output ───╮\n",
       "│ <span style=\"font-weight: bold\">out</span> (real)     │\n",
       "│ <span style=\"font-style: italic\">No description</span> │\n",
       "╰────────────────╯\n",
       "</pre>\n"
      ],
      "text/plain": [
       "📈 \u001b[1mElectron SF\u001b[0m \u001b[1m(\u001b[0mv0\u001b[1m)\u001b[0m\n",
       "\u001b[3mNo description\u001b[0m\n",
       "Node counts: \u001b[1mCategory\u001b[0m: \u001b[1;36m1\u001b[0m, \u001b[1mMultiBinning\u001b[0m: \u001b[1;36m3\u001b[0m\n",
       "╭────────── ▶ input ──────────╮ ╭───── ▶ input ──────╮ ╭────── ▶ input ───────╮\n",
       "│ \u001b[1msyst\u001b[0m (string)               │ │ \u001b[1meta\u001b[0m (real)         │ │ \u001b[1mpt\u001b[0m (real)            │\n",
       "│ syst                        │ │ eta                │ │ pt                   │\n",
       "│ Values: nominal, stat, syst │ │ Range: [-2.5, 2.5) │ │ Range: [10.0, 500.0) │\n",
       "╰─────────────────────────────╯ ╰────────────────────╯ ╰──────────────────────╯\n",
       "╭─── ◀ output ───╮\n",
       "│ \u001b[1mout\u001b[0m (real)     │\n",
       "│ \u001b[3mNo description\u001b[0m │\n",
       "╰────────────────╯\n"
      ]
     },
     "metadata": {},
     "output_type": "display_data"
    }
   ],
   "source": [
    "rich.print(cset)"
   ]
  },
  {
   "cell_type": "code",
   "execution_count": null,
   "id": "39ddfb67-2b71-4ddf-9022-aab238a2081b",
   "metadata": {},
   "outputs": [],
   "source": []
  },
  {
   "cell_type": "code",
   "execution_count": null,
   "id": "3f9341f0-1731-493b-bfdc-319a47a21e94",
   "metadata": {},
   "outputs": [],
   "source": []
  },
  {
   "cell_type": "code",
   "execution_count": null,
   "id": "30c8e4bc-3bdf-4210-80b8-f966a9320cb9",
   "metadata": {},
   "outputs": [
    {
     "name": "stdout",
     "output_type": "stream",
     "text": [
      "0.9565217391304348 0.0020055236878184692\n",
      "25\n",
      "0.9565217391304349 0.0020055236878184692\n"
     ]
    }
   ],
   "source": [
    "ceval = cset.to_evaluator()\n",
    "vpt = 23.0\n",
    "veta = +0.1\n",
    "print(ceval.evaluate(\"nominal\", veta, vpt), ceval.evaluate(\"stat\", veta, vpt))\n",
    "for i, (ipt, ieta) in enumerate(list(zip(list(df[\"pt\"]), list(df[\"eta\"])))):\n",
    "    if ieta[0] <= veta < ieta[1] and ipt[0] <= vpt < ipt[1]:\n",
    "        print(i)\n",
    "        print(df[\"sf\"][i], df[\"sf_err\"][i])"
   ]
  },
  {
   "cell_type": "code",
   "execution_count": null,
   "id": "f00d8388-866e-4cbd-8643-973a1637da81",
   "metadata": {},
   "outputs": [],
   "source": [
    "cset_electron = cset"
   ]
  },
  {
   "cell_type": "code",
   "execution_count": null,
   "id": "c1bfb5bc-7e68-435a-8cd6-75cd859a1bef",
   "metadata": {},
   "outputs": [],
   "source": [
    "cset = correctionlib.schemav2.CorrectionSet(\n",
    "    schema_version=2,\n",
    "    description=\"\",\n",
    "    corrections=[cset_muon, cset_electron],\n",
    ")"
   ]
  },
  {
   "cell_type": "code",
   "execution_count": null,
   "id": "6d91c166-97d1-4a0a-ac2e-03dc834bc34f",
   "metadata": {},
   "outputs": [
    {
     "data": {
      "text/html": [
       "<pre style=\"white-space:pre;overflow-x:auto;line-height:normal;font-family:Menlo,'DejaVu Sans Mono',consolas,'Courier New',monospace\"><span style=\"font-weight: bold\">CorrectionSet</span> (<span style=\"font-style: italic\">schema v2</span>)\n",
       "<span style=\"font-style: italic\">No description</span>\n",
       "📂\n",
       "├── 📈 <span style=\"font-weight: bold\">Muon SF</span> (v0)\n",
       "│   <span style=\"font-style: italic\">No description</span>\n",
       "│   Node counts: <span style=\"font-weight: bold\">Category</span>: 1, <span style=\"font-weight: bold\">MultiBinning</span>: 2\n",
       "│   ╭─────── ▶ input ───────╮ ╭───── ▶ input ──────╮ ╭────── ▶ input ───────╮\n",
       "│   │ <span style=\"font-weight: bold\">syst</span> (string)         │ │ <span style=\"font-weight: bold\">eta</span> (real)         │ │ <span style=\"font-weight: bold\">pt</span> (real)            │\n",
       "│   │ syst                  │ │ eta                │ │ pt                   │\n",
       "│   │ Values: nominal, syst │ │ Range: [-2.4, 2.4) │ │ Range: [10.0, 200.0) │\n",
       "│   ╰───────────────────────╯ ╰────────────────────╯ ╰──────────────────────╯\n",
       "│   ╭─── ◀ output ───╮\n",
       "│   │ <span style=\"font-weight: bold\">out</span> (real)     │\n",
       "│   │ <span style=\"font-style: italic\">No description</span> │\n",
       "│   ╰────────────────╯\n",
       "└── 📈 <span style=\"font-weight: bold\">Electron SF</span> (v0)\n",
       "    <span style=\"font-style: italic\">No description</span>\n",
       "    Node counts: <span style=\"font-weight: bold\">Category</span>: 1, <span style=\"font-weight: bold\">MultiBinning</span>: 3\n",
       "    ╭────────── ▶ input ──────────╮ ╭───── ▶ input ──────╮ ╭────── ▶ input ───────╮\n",
       "    │ <span style=\"font-weight: bold\">syst</span> (string)               │ │ <span style=\"font-weight: bold\">eta</span> (real)         │ │ <span style=\"font-weight: bold\">pt</span> (real)            │\n",
       "    │ syst                        │ │ eta                │ │ pt                   │\n",
       "    │ Values: nominal, stat, syst │ │ Range: [-2.5, 2.5) │ │ Range: [10.0, 500.0) │\n",
       "    ╰─────────────────────────────╯ ╰────────────────────╯ ╰──────────────────────╯\n",
       "    ╭─── ◀ output ───╮\n",
       "    │ <span style=\"font-weight: bold\">out</span> (real)     │\n",
       "    │ <span style=\"font-style: italic\">No description</span> │\n",
       "    ╰────────────────╯\n",
       "</pre>\n"
      ],
      "text/plain": [
       "\u001b[1mCorrectionSet\u001b[0m (\u001b[3mschema v2\u001b[0m)\n",
       "\u001b[3mNo description\u001b[0m\n",
       "📂\n",
       "├── 📈 \u001b[1mMuon SF\u001b[0m (v0)\n",
       "│   \u001b[3mNo description\u001b[0m\n",
       "│   Node counts: \u001b[1mCategory\u001b[0m: 1, \u001b[1mMultiBinning\u001b[0m: 2\n",
       "│   ╭─────── ▶ input ───────╮ ╭───── ▶ input ──────╮ ╭────── ▶ input ───────╮\n",
       "│   │ \u001b[1msyst\u001b[0m (string)         │ │ \u001b[1meta\u001b[0m (real)         │ │ \u001b[1mpt\u001b[0m (real)            │\n",
       "│   │ syst                  │ │ eta                │ │ pt                   │\n",
       "│   │ Values: nominal, syst │ │ Range: [-2.4, 2.4) │ │ Range: [10.0, 200.0) │\n",
       "│   ╰───────────────────────╯ ╰────────────────────╯ ╰──────────────────────╯\n",
       "│   ╭─── ◀ output ───╮\n",
       "│   │ \u001b[1mout\u001b[0m (real)     │\n",
       "│   │ \u001b[3mNo description\u001b[0m │\n",
       "│   ╰────────────────╯\n",
       "└── 📈 \u001b[1mElectron SF\u001b[0m (v0)\n",
       "    \u001b[3mNo description\u001b[0m\n",
       "    Node counts: \u001b[1mCategory\u001b[0m: 1, \u001b[1mMultiBinning\u001b[0m: 3\n",
       "    ╭────────── ▶ input ──────────╮ ╭───── ▶ input ──────╮ ╭────── ▶ input ───────╮\n",
       "    │ \u001b[1msyst\u001b[0m (string)               │ │ \u001b[1meta\u001b[0m (real)         │ │ \u001b[1mpt\u001b[0m (real)            │\n",
       "    │ syst                        │ │ eta                │ │ pt                   │\n",
       "    │ Values: nominal, stat, syst │ │ Range: [-2.5, 2.5) │ │ Range: [10.0, 500.0) │\n",
       "    ╰─────────────────────────────╯ ╰────────────────────╯ ╰──────────────────────╯\n",
       "    ╭─── ◀ output ───╮\n",
       "    │ \u001b[1mout\u001b[0m (real)     │\n",
       "    │ \u001b[3mNo description\u001b[0m │\n",
       "    ╰────────────────╯\n"
      ]
     },
     "metadata": {},
     "output_type": "display_data"
    }
   ],
   "source": [
    "rich.print(cset)"
   ]
  },
  {
   "cell_type": "code",
   "execution_count": null,
   "id": "d73c339c-85ff-4b72-9070-6e2bc64fea8d",
   "metadata": {},
   "outputs": [
    {
     "name": "stdout",
     "output_type": "stream",
     "text": [
      "/gwpool/users/gpizzati\n"
     ]
    }
   ],
   "source": [
    "!pwd"
   ]
  },
  {
   "cell_type": "code",
   "execution_count": null,
   "id": "2793cd9a-6ea5-427b-ba8f-68809243e1a2",
   "metadata": {},
   "outputs": [
    {
     "name": "stdout",
     "output_type": "stream",
     "text": [
      "btagging.json\n",
      "btagging.json.gz\n",
      "egamma.ea.txt\n",
      "EGM_ScaleUnc.json.gz\n",
      "electron.json.gz\n",
      "jmar.json.gz\n",
      "muon_Z.json.gz\n",
      "new_unc.junc.txt\n",
      "new_unc.txt\n",
      "puWeights.json.gz\n",
      "Regrouped_Summer19UL17_V5_MC_UncertaintySources_AK4PFchs.junc.txt\n",
      "Summer19UL18_JRV2_MC_PtResolution_AK4PFchs.jr.txt\n",
      "Summer19UL18_JRV2_MC_SF_AK4PFchs.jersf.txt\n",
      "Summer19UL18_V5_MC_L1FastJet_AK4PFchs.jec.txt\n",
      "Summer19UL18_V5_MC_L2L3Residual_AK4PFchs.jec.txt\n",
      "Summer19UL18_V5_MC_L2Relative_AK4PFchs.jec.txt\n",
      "Summer19UL18_V5_MC_L3Absolute_AK4PFchs.jec.txt\n",
      "Summer19UL18_V5_MC_Uncertainty_AK4PFchs.junc.txt\n"
     ]
    }
   ],
   "source": [
    "!ls testcoffea/AJJ_coffea_DNN/ajj/data/2018"
   ]
  },
  {
   "cell_type": "code",
   "execution_count": null,
   "id": "2e34e9d6-562c-434e-89c2-1fed1c581316",
   "metadata": {},
   "outputs": [],
   "source": [
    "import gzip\n",
    "\n",
    "with gzip.open(\n",
    "    \"/gwpool/users/gpizzati/testcoffea/AJJ_coffea_DNN/ajj/data/2018/lepton_sf.json.gz\",\n",
    "    \"wt\",\n",
    ") as fout:\n",
    "    fout.write(cset.json(exclude_unset=True))"
   ]
  },
  {
   "cell_type": "code",
   "execution_count": null,
   "id": "d6767f4e-c8c3-4531-b727-84a0d45a2f7d",
   "metadata": {},
   "outputs": [
    {
     "data": {
      "text/plain": [
       "correctionlib.schemav2.CorrectionSet"
      ]
     },
     "execution_count": 43,
     "metadata": {},
     "output_type": "execute_result"
    }
   ],
   "source": [
    "type(cset)"
   ]
  },
  {
   "cell_type": "code",
   "execution_count": null,
   "id": "6f465d4b-e9f3-446f-9dd5-6b8b3142747b",
   "metadata": {},
   "outputs": [
    {
     "ename": "AttributeError",
     "evalue": "module 'correctionlib.schemav2' has no attribute 'from_file'",
     "output_type": "error",
     "traceback": [
      "\u001b[0;31m---------------------------------------------------------------------------\u001b[0m",
      "\u001b[0;31mAttributeError\u001b[0m                            Traceback (most recent call last)",
      "Cell \u001b[0;32mIn[46], line 1\u001b[0m\n\u001b[0;32m----> 1\u001b[0m \u001b[43mcorrectionlib\u001b[49m\u001b[38;5;241;43m.\u001b[39;49m\u001b[43mschemav2\u001b[49m\u001b[38;5;241;43m.\u001b[39;49m\u001b[43mfrom_file\u001b[49m\n",
      "\u001b[0;31mAttributeError\u001b[0m: module 'correctionlib.schemav2' has no attribute 'from_file'"
     ]
    }
   ],
   "source": [
    "correctionlib.schemav2.from_file"
   ]
  },
  {
   "cell_type": "code",
   "execution_count": null,
   "id": "266d42e7-fcce-4717-85d2-eaa43df8a3b9",
   "metadata": {},
   "outputs": [],
   "source": [
    "import json\n",
    "\n",
    "string = \"\"\"\n",
    "{\n",
    "    \"data\": {\n",
    "        \"Jet\": {\n",
    "            \"branches\": [\n",
    "                \"pt\",\n",
    "                \"eta\",\n",
    "                \"phi\",\n",
    "                \"mass\",\n",
    "                \"jetId\",\n",
    "                \"puId\",\n",
    "                \"rawFactor\",\n",
    "                \"area\",\n",
    "                \"btagDeepFlavB\"\n",
    "            ],\n",
    "            \"with_name\": \"Momentum4D\"\n",
    "        },\n",
    "        \"Electron\": {\n",
    "            \"branches\": [\n",
    "                \"pt\",\n",
    "                \"eta\",\n",
    "                \"phi\",\n",
    "                \"pdgId\",\n",
    "                \"mvaFall17V2Iso_WP90\",\n",
    "                \"convVeto\",\n",
    "                \"pfRelIso03_all\",\n",
    "                \"dxy\",\n",
    "                \"dz\"\n",
    "            ],\n",
    "            \"with_name\": \"Momentum4D\"\n",
    "        },\n",
    "        \"Muon\": {\n",
    "            \"branches\": [\n",
    "                \"pt\",\n",
    "                \"eta\",\n",
    "                \"phi\",\n",
    "                \"pdgId\",\n",
    "                \"tightId\",\n",
    "                \"pfRelIso04_all\",\n",
    "                \"dxy\",\n",
    "                \"dz\"\n",
    "            ],\n",
    "            \"with_name\": \"Momentum4D\"\n",
    "        },\n",
    "        \"fixedGridRhoFastjetAll\": {\n",
    "            \"branches\": [],\n",
    "            \"with_name\": null\n",
    "        },\n",
    "        \"HLT\": {\n",
    "            \"branches\": [\n",
    "                \"Mu23_TrkIsoVVL_Ele12_CaloIdL_TrackIdL_IsoVL\",\n",
    "                \"Mu12_TrkIsoVVL_Ele23_CaloIdL_TrackIdL_IsoVL_DZ\",\n",
    "                \"Mu17_TrkIsoVVL_Mu8_TrkIsoVVL_DZ_Mass3p8\",\n",
    "                \"IsoMu24\",\n",
    "                \"Ele23_Ele12_CaloIdL_TrackIdL_IsoVL\",\n",
    "                \"Ele32_WPTight_Gsf\"\n",
    "            ],\n",
    "            \"with_name\": null\n",
    "        },\n",
    "        \"Flag\": {\n",
    "            \"branches\": [\n",
    "                \"goodVertices\",\n",
    "                \"globalSuperTightHalo2016Filter\",\n",
    "                \"HBHENoiseFilter\",\n",
    "                \"HBHENoiseIsoFilter\",\n",
    "                \"EcalDeadCellTriggerPrimitiveFilter\",\n",
    "                \"BadPFMuonFilter\",\n",
    "                \"BadPFMuonDzFilter\",\n",
    "                \"ecalBadCalibFilter\",\n",
    "                \"eeBadScFilter\"\n",
    "            ],\n",
    "            \"with_name\": null\n",
    "        },\n",
    "        \"run\": {\n",
    "            \"branches\": [],\n",
    "            \"with_name\": null\n",
    "        },\n",
    "        \"luminosityBlock\": {\n",
    "            \"branches\": [],\n",
    "            \"with_name\": null\n",
    "        }\n",
    "    },\n",
    "    \"mc\": {\n",
    "        \"Jet\": {\n",
    "            \"branches\": [\n",
    "                \"pt\",\n",
    "                \"eta\",\n",
    "                \"phi\",\n",
    "                \"mass\",\n",
    "                \"jetId\",\n",
    "                \"puId\",\n",
    "                \"genJetIdx\",\n",
    "                \"rawFactor\",\n",
    "                \"area\",\n",
    "                \"btagDeepFlavB\",\n",
    "                \"hadronFlavour\"\n",
    "            ],\n",
    "            \"with_name\": \"Momentum4D\"\n",
    "        },\n",
    "        \"GenPart\": {\n",
    "            \"branches\": [\n",
    "                \"pt\",\n",
    "                \"eta\",\n",
    "                \"phi\",\n",
    "                \"mass\",\n",
    "                \"pdgId\",\n",
    "                \"status\",\n",
    "                \"genPartIdxMother\",\n",
    "                \"statusFlags\"\n",
    "            ],\n",
    "            \"with_name\": \"Momentum4D\"\n",
    "        },\n",
    "        \"GenJet\": {\n",
    "            \"branches\": [\n",
    "                \"pt\",\n",
    "                \"eta\",\n",
    "                \"phi\",\n",
    "                \"mass\"\n",
    "            ],\n",
    "            \"with_name\": \"Momentum4D\"\n",
    "        },\n",
    "        \"Electron\": {\n",
    "            \"branches\": [\n",
    "                \"pt\",\n",
    "                \"eta\",\n",
    "                \"phi\",\n",
    "                \"pdgId\",\n",
    "                \"mvaFall17V2Iso_WP90\",\n",
    "                \"convVeto\",\n",
    "                \"pfRelIso03_all\",\n",
    "                \"dxy\",\n",
    "                \"dz\"\n",
    "            ],\n",
    "            \"with_name\": \"Momentum4D\"\n",
    "        },\n",
    "        \"Muon\": {\n",
    "            \"branches\": [\n",
    "                \"pt\",\n",
    "                \"eta\",\n",
    "                \"phi\",\n",
    "                \"pdgId\",\n",
    "                \"tightId\",\n",
    "                \"pfRelIso04_all\",\n",
    "                \"dxy\",\n",
    "                \"dz\"\n",
    "            ],\n",
    "            \"with_name\": \"Momentum4D\"\n",
    "        },\n",
    "        \"fixedGridRhoFastjetAll\": {\n",
    "            \"branches\": [],\n",
    "            \"with_name\": null\n",
    "        },\n",
    "        \"genWeight\": {\n",
    "            \"branches\": [],\n",
    "            \"with_name\": null\n",
    "        },\n",
    "        \"LHEScaleWeight\": {\n",
    "            \"branches\": [],\n",
    "            \"with_name\": null\n",
    "        },\n",
    "        \"LHEPdfWeight\": {\n",
    "            \"branches\": [],\n",
    "            \"with_name\": null\n",
    "        },\n",
    "        \"HLT\": {\n",
    "            \"branches\": [\n",
    "                \"Mu23_TrkIsoVVL_Ele12_CaloIdL_TrackIdL_IsoVL\",\n",
    "                \"Mu12_TrkIsoVVL_Ele23_CaloIdL_TrackIdL_IsoVL_DZ\",\n",
    "                \"Mu17_TrkIsoVVL_Mu8_TrkIsoVVL_DZ_Mass3p8\",\n",
    "                \"IsoMu24\",\n",
    "                \"Ele23_Ele12_CaloIdL_TrackIdL_IsoVL\",\n",
    "                \"Ele32_WPTight_Gsf\"\n",
    "            ],\n",
    "            \"with_name\": null\n",
    "        },\n",
    "        \"Flag\": {\n",
    "            \"branches\": [\n",
    "                \"goodVertices\",\n",
    "                \"globalSuperTightHalo2016Filter\",\n",
    "                \"HBHENoiseFilter\",\n",
    "                \"HBHENoiseIsoFilter\",\n",
    "                \"EcalDeadCellTriggerPrimitiveFilter\",\n",
    "                \"BadPFMuonFilter\",\n",
    "                \"BadPFMuonDzFilter\",\n",
    "                \"ecalBadCalibFilter\",\n",
    "                \"eeBadScFilter\"\n",
    "            ],\n",
    "            \"with_name\": null\n",
    "        },\n",
    "        \"Pileup\": {\n",
    "            \"branches\": [\n",
    "                \"nTrueInt\"\n",
    "            ],\n",
    "            \"with_name\": null\n",
    "        }\n",
    "    }\n",
    "}\n",
    "\"\"\"\n",
    "forms = json.loads(string)"
   ]
  },
  {
   "cell_type": "code",
   "execution_count": null,
   "id": "38c9da64-1731-406a-ae8f-b05d3d034ebe",
   "metadata": {},
   "outputs": [],
   "source": []
  }
 ],
 "metadata": {
  "kernelspec": {
   "display_name": "Python 3 (ipykernel)",
   "language": "python",
   "name": "python3"
  },
  "language_info": {
   "codemirror_mode": {
    "name": "ipython",
    "version": 3
   },
   "file_extension": ".py",
   "mimetype": "text/x-python",
   "name": "python",
   "nbconvert_exporter": "python",
   "pygments_lexer": "ipython3",
   "version": "3.10.13"
  }
 },
 "nbformat": 4,
 "nbformat_minor": 5
}
