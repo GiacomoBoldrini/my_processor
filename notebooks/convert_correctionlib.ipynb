{
 "cells": [
  {
   "cell_type": "code",
   "execution_count": null,
   "id": "5ffec115-71d8-4e9a-9c01-99a50da5c535",
   "metadata": {},
   "outputs": [],
   "source": []
  },
  {
   "cell_type": "code",
   "execution_count": 1,
   "id": "2943d8e0-1d35-41db-b1d8-09c69904a823",
   "metadata": {},
   "outputs": [],
   "source": [
    "import correctionlib\n",
    "import pandas as pd\n",
    "import numpy as np\n",
    "import correctionlib.schemav2 as cs\n",
    "import hist\n",
    "import correctionlib.convert\n",
    "import rich\n",
    "\n",
    "import uproot\n",
    "\n",
    "import requests"
   ]
  },
  {
   "cell_type": "code",
   "execution_count": null,
   "id": "85fa816e-cb58-47f6-8622-ba0798ec7575",
   "metadata": {},
   "outputs": [],
   "source": []
  },
  {
   "cell_type": "code",
   "execution_count": 2,
   "id": "18801d70-6be0-4d39-a9bc-b8d2ff88efd0",
   "metadata": {},
   "outputs": [],
   "source": []
  },
  {
   "cell_type": "code",
   "execution_count": 5,
   "id": "ec223973-a36a-40d1-972a-dd80f3f88ea7",
   "metadata": {},
   "outputs": [],
   "source": []
  },
  {
   "cell_type": "code",
   "execution_count": 47,
   "id": "f01fd279-788b-420f-8f56-039aa8bfa978",
   "metadata": {},
   "outputs": [],
   "source": [
    "\n",
    "def get_cset(name, url):\n",
    "    base_url = 'https://raw.githubusercontent.com/latinos/LatinoAnalysis/UL_production/NanoGardener/python/data/trigger/'\n",
    "    \n",
    "    with open('test_sf.txt', 'wb') as file:\n",
    "        file.write(requests.get(base_url + url).content)\n",
    "    columns = 'eff stat_d stat_u syst_d syst_u'\n",
    "    columns = columns.split(' ')\n",
    "    df = pd.read_csv('test_sf.txt', sep='\\t', skiprows=0, header=None, names=['eta_l', 'eta_h', 'pt_l', 'pt_h'] + columns)\n",
    "    for var in ['eta', 'pt']:\n",
    "        df[var] = list(zip(df[var + '_l'], df[var + '_h']))\n",
    "        del df[var + '_l']\n",
    "        del df[var + '_h']\n",
    "    eta_bin = np.array(list(map(lambda k: k[0], np.unique(df['eta']))) + [np.unique(df['eta'])[-1][-1]])\n",
    "    pt_bin = np.array(list(map(lambda k: k[0], np.unique(df['pt']))) + [np.unique(df['pt'])[-1][-1]])\n",
    "    h = hist.Hist(\n",
    "        hist.axis.StrCategory(columns, name='syst'),\n",
    "        hist.axis.Variable(eta_bin, name='eta'),\n",
    "        hist.axis.Variable(pt_bin, name='pt'),\n",
    "        hist.storage.Double()\n",
    "    )\n",
    "    for syst in columns:\n",
    "        for pt_c in (pt_bin[1:] + pt_bin[:-1])/2:\n",
    "            for eta_c in (eta_bin[1:] + eta_bin[:-1])/2:\n",
    "                for i, (ipt, ieta) in enumerate(list(zip(list(df['pt']), list(df['eta'])))):\n",
    "                    if (\n",
    "                        ieta[0] <= eta_c < ieta[1]\n",
    "                        and ipt[0] <= pt_c < ipt[1]\n",
    "                    ):\n",
    "                        h[hist.loc(syst), hist.loc(eta_c), hist.loc(pt_c)] = df[syst][i]\n",
    "    h.name = name\n",
    "    h.label='out'\n",
    "    cset = correctionlib.convert.from_histogram(h)\n",
    "    return cset"
   ]
  },
  {
   "cell_type": "code",
   "execution_count": 80,
   "id": "f3b49567-9fb4-4705-be4f-63a31470225e",
   "metadata": {},
   "outputs": [],
   "source": [
    "def get_cset_drll(name, trigger_names, urls):\n",
    "    base_url = 'https://raw.githubusercontent.com/latinos/LatinoAnalysis/UL_production/NanoGardener/python/data/trigger/'\n",
    "\n",
    "    for trigger_name, url in zip(trigger_names, urls):\n",
    "        with open(f'test_sf_{trigger_name}.txt', 'wb') as file:\n",
    "            file.write(requests.get(base_url + url).content)\n",
    "        with open(f'test_sf_{trigger_name}.txt') as file:\n",
    "            lines = file.read().split('\\n')\n",
    "        lines = list(map(lambda k: k.strip(), lines))\n",
    "        with open(f'test_sf_{trigger_name}.txt', 'w') as file:\n",
    "            file.write('\\n'.join(lines))\n",
    "    \n",
    "    big_df = {}\n",
    "    for trigger_name in trigger_names:\n",
    "        columns = 'sf'\n",
    "        columns = columns.split(' ')\n",
    "        df = pd.read_csv(f'test_sf_{trigger_name}.txt', sep=' ', index_col=False, skiprows=0, header=None, names=['drll_l', 'drll_h'] + columns)\n",
    "        for var in ['drll']:\n",
    "            df[var] = list(zip(df[var + '_l'], df[var + '_h']))\n",
    "            del df[var + '_l']\n",
    "            del df[var + '_h']\n",
    "        drll_bin = np.array(list(map(lambda k: k[0], np.unique(df['drll']))) + [np.unique(df['drll'])[-1][-1]])\n",
    "        big_df[trigger_name] = df\n",
    "    \n",
    "    h = hist.Hist(\n",
    "        hist.axis.StrCategory(trigger_names, name='Trigger'),\n",
    "        hist.axis.Variable(drll_bin, name='drll'),\n",
    "        hist.storage.Double()\n",
    "    )\n",
    "    \n",
    "    for trigger in trigger_names:\n",
    "        for drll_c in (drll_bin[1:] + drll_bin[:-1])/2:\n",
    "            for i, (idrll) in enumerate(list(df['drll'])):\n",
    "                if (\n",
    "                    idrll[0] <= drll_c < idrll[1]\n",
    "                ):\n",
    "                    h[hist.loc(trigger), hist.loc(drll_c)] = big_df[trigger]['sf'][i]\n",
    "    h.name = name\n",
    "    h.label='out'\n",
    "    cset = correctionlib.convert.from_histogram(h)\n",
    "    return cset"
   ]
  },
  {
   "cell_type": "code",
   "execution_count": 41,
   "id": "ed4698b9-00de-4c67-885c-0f30f2291c1f",
   "metadata": {},
   "outputs": [],
   "source": [
    "import sys"
   ]
  },
  {
   "cell_type": "code",
   "execution_count": 42,
   "id": "745b420a-7e3c-48cf-bfb9-81e938d0a484",
   "metadata": {},
   "outputs": [],
   "source": [
    "sys.path.insert(0, '/gwpool/users/gpizzati/test_processor/my_processor')"
   ]
  },
  {
   "cell_type": "code",
   "execution_count": 43,
   "id": "a092d423-dacf-4730-8156-f93d4d9354cb",
   "metadata": {},
   "outputs": [],
   "source": [
    "from data.common.TrigMaker_cfg import Trigger"
   ]
  },
  {
   "cell_type": "code",
   "execution_count": 79,
   "id": "bab72f45-73d9-4758-b3db-ba46e110b152",
   "metadata": {},
   "outputs": [
    {
     "name": "stdout",
     "output_type": "stream",
     "text": [
      "DoubleEle\n",
      "DoubleMu\n",
      "MuEle\n",
      "EleMu\n"
     ]
    },
    {
     "data": {
      "text/html": [
       "<pre style=\"white-space:pre;overflow-x:auto;line-height:normal;font-family:Menlo,'DejaVu Sans Mono',consolas,'Courier New',monospace\">📈 <span style=\"font-weight: bold\">DRll_SF</span> <span style=\"font-weight: bold\">(</span>v0<span style=\"font-weight: bold\">)</span>\n",
       "<span style=\"font-style: italic\">No description</span>\n",
       "Node counts: <span style=\"font-weight: bold\">Category</span>: <span style=\"color: #008080; text-decoration-color: #008080; font-weight: bold\">1</span>, <span style=\"font-weight: bold\">Binning</span>: <span style=\"color: #008080; text-decoration-color: #008080; font-weight: bold\">4</span>\n",
       "╭───────────────── ▶ input ─────────────────╮ ╭───── ▶ input ──────╮\n",
       "│ <span style=\"font-weight: bold\">Trigger</span> (string)                          │ │ <span style=\"font-weight: bold\">drll</span> (real)        │\n",
       "│ Trigger                                   │ │ drll               │\n",
       "│ Values: DoubleEle, DoubleMu, EleMu, MuEle │ │ Range: [0.0, 20.0) │\n",
       "╰───────────────────────────────────────────╯ ╰────────────────────╯\n",
       "╭─── ◀ output ───╮\n",
       "│ <span style=\"font-weight: bold\">out</span> (real)     │\n",
       "│ <span style=\"font-style: italic\">No description</span> │\n",
       "╰────────────────╯\n",
       "</pre>\n"
      ],
      "text/plain": [
       "📈 \u001b[1mDRll_SF\u001b[0m \u001b[1m(\u001b[0mv0\u001b[1m)\u001b[0m\n",
       "\u001b[3mNo description\u001b[0m\n",
       "Node counts: \u001b[1mCategory\u001b[0m: \u001b[1;36m1\u001b[0m, \u001b[1mBinning\u001b[0m: \u001b[1;36m4\u001b[0m\n",
       "╭───────────────── ▶ input ─────────────────╮ ╭───── ▶ input ──────╮\n",
       "│ \u001b[1mTrigger\u001b[0m (string)                          │ │ \u001b[1mdrll\u001b[0m (real)        │\n",
       "│ Trigger                                   │ │ drll               │\n",
       "│ Values: DoubleEle, DoubleMu, EleMu, MuEle │ │ Range: [0.0, 20.0) │\n",
       "╰───────────────────────────────────────────╯ ╰────────────────────╯\n",
       "╭─── ◀ output ───╮\n",
       "│ \u001b[1mout\u001b[0m (real)     │\n",
       "│ \u001b[3mNo description\u001b[0m │\n",
       "╰────────────────╯\n"
      ]
     },
     "metadata": {},
     "output_type": "display_data"
    }
   ],
   "source": []
  },
  {
   "cell_type": "code",
   "execution_count": null,
   "id": "042c47a2-cd54-4f55-b1ea-82452c8f1361",
   "metadata": {},
   "outputs": [],
   "source": [
    "for name, url in Trigger['Full2018v9'][1]['DRllSF'].items():\n",
    "    csets.append(get_cset_drll('DRll_SF' + name, url))   "
   ]
  },
  {
   "cell_type": "code",
   "execution_count": 51,
   "id": "b4282bc9-b603-43ad-aaea-e5f563ff4aae",
   "metadata": {},
   "outputs": [],
   "source": [
    "csets = []\n",
    "for name, url in Trigger['Full2018v9'][1]['LegEffData'].items():\n",
    "    csets.append(get_cset('LegEffData_' + name, url))   \n",
    "for name, url in Trigger['Full2018v9'][1]['LegEffMC'].items():\n",
    "    csets.append(get_cset('LegEffMC_' + name, url))   \n",
    "    \n",
    "csets.append(get_cset_drll('DRll_SF', list(Trigger['Full2018v9'][1]['DRllSF'].keys()),list(Trigger['Full2018v9'][1]['DRllSF'].values())))"
   ]
  },
  {
   "cell_type": "code",
   "execution_count": 52,
   "id": "476bd5cd-8481-4ee2-9518-8a602929bc58",
   "metadata": {},
   "outputs": [],
   "source": [
    "cset = correctionlib.schemav2.CorrectionSet(\n",
    "    schema_version=2,\n",
    "    description=\"\",\n",
    "    corrections=csets\n",
    ")"
   ]
  },
  {
   "cell_type": "code",
   "execution_count": 53,
   "id": "9b6af8d7-948f-4eac-a455-dec738fd6a98",
   "metadata": {},
   "outputs": [
    {
     "data": {
      "text/html": [
       "<pre style=\"white-space:pre;overflow-x:auto;line-height:normal;font-family:Menlo,'DejaVu Sans Mono',consolas,'Courier New',monospace\"><span style=\"font-weight: bold\">CorrectionSet</span> (<span style=\"font-style: italic\">schema v2</span>)\n",
       "<span style=\"font-style: italic\">No description</span>\n",
       "📂\n",
       "├── 📈 <span style=\"font-weight: bold\">Data_DoubleEleLegHigPt</span> (v0)\n",
       "│   <span style=\"font-style: italic\">No description</span>\n",
       "│   Node counts: <span style=\"font-weight: bold\">Category</span>: 1, <span style=\"font-weight: bold\">MultiBinning</span>: 5\n",
       "│   ╭────────────────── ▶ input ──────────────────╮ ╭───── ▶ input ──────╮ ╭────── ▶ input ──────╮\n",
       "│   │ <span style=\"font-weight: bold\">syst</span> (string)                               │ │ <span style=\"font-weight: bold\">eta</span> (real)         │ │ <span style=\"font-weight: bold\">pt</span> (real)           │\n",
       "│   │ syst                                        │ │ eta                │ │ pt                  │\n",
       "│   │ Values: eff, stat_d, stat_u, syst_d, syst_u │ │ Range: [-2.5, 2.5) │ │ Range: [0.0, 200.0) │\n",
       "│   ╰─────────────────────────────────────────────╯ ╰────────────────────╯ ╰─────────────────────╯\n",
       "│   ╭─── ◀ output ───╮\n",
       "│   │ <span style=\"font-weight: bold\">out</span> (real)     │\n",
       "│   │ <span style=\"font-style: italic\">No description</span> │\n",
       "│   ╰────────────────╯\n",
       "├── 📈 <span style=\"font-weight: bold\">Data_DoubleEleLegLowPt</span> (v0)\n",
       "│   <span style=\"font-style: italic\">No description</span>\n",
       "│   Node counts: <span style=\"font-weight: bold\">Category</span>: 1, <span style=\"font-weight: bold\">MultiBinning</span>: 5\n",
       "│   ╭────────────────── ▶ input ──────────────────╮ ╭───── ▶ input ──────╮ ╭────── ▶ input ──────╮\n",
       "│   │ <span style=\"font-weight: bold\">syst</span> (string)                               │ │ <span style=\"font-weight: bold\">eta</span> (real)         │ │ <span style=\"font-weight: bold\">pt</span> (real)           │\n",
       "│   │ syst                                        │ │ eta                │ │ pt                  │\n",
       "│   │ Values: eff, stat_d, stat_u, syst_d, syst_u │ │ Range: [-2.5, 2.5) │ │ Range: [0.0, 200.0) │\n",
       "│   ╰─────────────────────────────────────────────╯ ╰────────────────────╯ ╰─────────────────────╯\n",
       "│   ╭─── ◀ output ───╮\n",
       "│   │ <span style=\"font-weight: bold\">out</span> (real)     │\n",
       "│   │ <span style=\"font-style: italic\">No description</span> │\n",
       "│   ╰────────────────╯\n",
       "├── 📈 <span style=\"font-weight: bold\">Data_SingleEle</span> (v0)\n",
       "│   <span style=\"font-style: italic\">No description</span>\n",
       "│   Node counts: <span style=\"font-weight: bold\">Category</span>: 1, <span style=\"font-weight: bold\">MultiBinning</span>: 5\n",
       "│   ╭────────────────── ▶ input ──────────────────╮ ╭───── ▶ input ──────╮ ╭────── ▶ input ──────╮\n",
       "│   │ <span style=\"font-weight: bold\">syst</span> (string)                               │ │ <span style=\"font-weight: bold\">eta</span> (real)         │ │ <span style=\"font-weight: bold\">pt</span> (real)           │\n",
       "│   │ syst                                        │ │ eta                │ │ pt                  │\n",
       "│   │ Values: eff, stat_d, stat_u, syst_d, syst_u │ │ Range: [-2.5, 2.5) │ │ Range: [0.0, 200.0) │\n",
       "│   ╰─────────────────────────────────────────────╯ ╰────────────────────╯ ╰─────────────────────╯\n",
       "│   ╭─── ◀ output ───╮\n",
       "│   │ <span style=\"font-weight: bold\">out</span> (real)     │\n",
       "│   │ <span style=\"font-style: italic\">No description</span> │\n",
       "│   ╰────────────────╯\n",
       "├── 📈 <span style=\"font-weight: bold\">Data_DoubleMuLegHigPt</span> (v0)\n",
       "│   <span style=\"font-style: italic\">No description</span>\n",
       "│   Node counts: <span style=\"font-weight: bold\">Category</span>: 1, <span style=\"font-weight: bold\">MultiBinning</span>: 5\n",
       "│   ╭────────────────── ▶ input ──────────────────╮ ╭───── ▶ input ──────╮ ╭────── ▶ input ──────╮\n",
       "│   │ <span style=\"font-weight: bold\">syst</span> (string)                               │ │ <span style=\"font-weight: bold\">eta</span> (real)         │ │ <span style=\"font-weight: bold\">pt</span> (real)           │\n",
       "│   │ syst                                        │ │ eta                │ │ pt                  │\n",
       "│   │ Values: eff, stat_d, stat_u, syst_d, syst_u │ │ Range: [-2.4, 2.4) │ │ Range: [0.0, 200.0) │\n",
       "│   ╰─────────────────────────────────────────────╯ ╰────────────────────╯ ╰─────────────────────╯\n",
       "│   ╭─── ◀ output ───╮\n",
       "│   │ <span style=\"font-weight: bold\">out</span> (real)     │\n",
       "│   │ <span style=\"font-style: italic\">No description</span> │\n",
       "│   ╰────────────────╯\n",
       "├── 📈 <span style=\"font-weight: bold\">Data_DoubleMuLegLowPt</span> (v0)\n",
       "│   <span style=\"font-style: italic\">No description</span>\n",
       "│   Node counts: <span style=\"font-weight: bold\">Category</span>: 1, <span style=\"font-weight: bold\">MultiBinning</span>: 5\n",
       "│   ╭────────────────── ▶ input ──────────────────╮ ╭───── ▶ input ──────╮ ╭────── ▶ input ──────╮\n",
       "│   │ <span style=\"font-weight: bold\">syst</span> (string)                               │ │ <span style=\"font-weight: bold\">eta</span> (real)         │ │ <span style=\"font-weight: bold\">pt</span> (real)           │\n",
       "│   │ syst                                        │ │ eta                │ │ pt                  │\n",
       "│   │ Values: eff, stat_d, stat_u, syst_d, syst_u │ │ Range: [-2.4, 2.4) │ │ Range: [0.0, 200.0) │\n",
       "│   ╰─────────────────────────────────────────────╯ ╰────────────────────╯ ╰─────────────────────╯\n",
       "│   ╭─── ◀ output ───╮\n",
       "│   │ <span style=\"font-weight: bold\">out</span> (real)     │\n",
       "│   │ <span style=\"font-style: italic\">No description</span> │\n",
       "│   ╰────────────────╯\n",
       "├── 📈 <span style=\"font-weight: bold\">Data_SingleMu</span> (v0)\n",
       "│   <span style=\"font-style: italic\">No description</span>\n",
       "│   Node counts: <span style=\"font-weight: bold\">Category</span>: 1, <span style=\"font-weight: bold\">MultiBinning</span>: 5\n",
       "│   ╭────────────────── ▶ input ──────────────────╮ ╭───── ▶ input ──────╮ ╭────── ▶ input ──────╮\n",
       "│   │ <span style=\"font-weight: bold\">syst</span> (string)                               │ │ <span style=\"font-weight: bold\">eta</span> (real)         │ │ <span style=\"font-weight: bold\">pt</span> (real)           │\n",
       "│   │ syst                                        │ │ eta                │ │ pt                  │\n",
       "│   │ Values: eff, stat_d, stat_u, syst_d, syst_u │ │ Range: [-2.4, 2.4) │ │ Range: [0.0, 200.0) │\n",
       "│   ╰─────────────────────────────────────────────╯ ╰────────────────────╯ ╰─────────────────────╯\n",
       "│   ╭─── ◀ output ───╮\n",
       "│   │ <span style=\"font-weight: bold\">out</span> (real)     │\n",
       "│   │ <span style=\"font-style: italic\">No description</span> │\n",
       "│   ╰────────────────╯\n",
       "├── 📈 <span style=\"font-weight: bold\">Data_MuEleLegHigPt</span> (v0)\n",
       "│   <span style=\"font-style: italic\">No description</span>\n",
       "│   Node counts: <span style=\"font-weight: bold\">Category</span>: 1, <span style=\"font-weight: bold\">MultiBinning</span>: 5\n",
       "│   ╭────────────────── ▶ input ──────────────────╮ ╭───── ▶ input ──────╮ ╭────── ▶ input ──────╮\n",
       "│   │ <span style=\"font-weight: bold\">syst</span> (string)                               │ │ <span style=\"font-weight: bold\">eta</span> (real)         │ │ <span style=\"font-weight: bold\">pt</span> (real)           │\n",
       "│   │ syst                                        │ │ eta                │ │ pt                  │\n",
       "│   │ Values: eff, stat_d, stat_u, syst_d, syst_u │ │ Range: [-2.4, 2.4) │ │ Range: [0.0, 200.0) │\n",
       "│   ╰─────────────────────────────────────────────╯ ╰────────────────────╯ ╰─────────────────────╯\n",
       "│   ╭─── ◀ output ───╮\n",
       "│   │ <span style=\"font-weight: bold\">out</span> (real)     │\n",
       "│   │ <span style=\"font-style: italic\">No description</span> │\n",
       "│   ╰────────────────╯\n",
       "├── 📈 <span style=\"font-weight: bold\">Data_MuEleLegLowPt</span> (v0)\n",
       "│   <span style=\"font-style: italic\">No description</span>\n",
       "│   Node counts: <span style=\"font-weight: bold\">Category</span>: 1, <span style=\"font-weight: bold\">MultiBinning</span>: 5\n",
       "│   ╭────────────────── ▶ input ──────────────────╮ ╭───── ▶ input ──────╮ ╭────── ▶ input ──────╮\n",
       "│   │ <span style=\"font-weight: bold\">syst</span> (string)                               │ │ <span style=\"font-weight: bold\">eta</span> (real)         │ │ <span style=\"font-weight: bold\">pt</span> (real)           │\n",
       "│   │ syst                                        │ │ eta                │ │ pt                  │\n",
       "│   │ Values: eff, stat_d, stat_u, syst_d, syst_u │ │ Range: [-2.5, 2.5) │ │ Range: [0.0, 200.0) │\n",
       "│   ╰─────────────────────────────────────────────╯ ╰────────────────────╯ ╰─────────────────────╯\n",
       "│   ╭─── ◀ output ───╮\n",
       "│   │ <span style=\"font-weight: bold\">out</span> (real)     │\n",
       "│   │ <span style=\"font-style: italic\">No description</span> │\n",
       "│   ╰────────────────╯\n",
       "├── 📈 <span style=\"font-weight: bold\">Data_EleMuLegHigPt</span> (v0)\n",
       "│   <span style=\"font-style: italic\">No description</span>\n",
       "│   Node counts: <span style=\"font-weight: bold\">Category</span>: 1, <span style=\"font-weight: bold\">MultiBinning</span>: 5\n",
       "│   ╭────────────────── ▶ input ──────────────────╮ ╭───── ▶ input ──────╮ ╭────── ▶ input ──────╮\n",
       "│   │ <span style=\"font-weight: bold\">syst</span> (string)                               │ │ <span style=\"font-weight: bold\">eta</span> (real)         │ │ <span style=\"font-weight: bold\">pt</span> (real)           │\n",
       "│   │ syst                                        │ │ eta                │ │ pt                  │\n",
       "│   │ Values: eff, stat_d, stat_u, syst_d, syst_u │ │ Range: [-2.5, 2.5) │ │ Range: [0.0, 200.0) │\n",
       "│   ╰─────────────────────────────────────────────╯ ╰────────────────────╯ ╰─────────────────────╯\n",
       "│   ╭─── ◀ output ───╮\n",
       "│   │ <span style=\"font-weight: bold\">out</span> (real)     │\n",
       "│   │ <span style=\"font-style: italic\">No description</span> │\n",
       "│   ╰────────────────╯\n",
       "├── 📈 <span style=\"font-weight: bold\">Data_EleMuLegLowPt</span> (v0)\n",
       "│   <span style=\"font-style: italic\">No description</span>\n",
       "│   Node counts: <span style=\"font-weight: bold\">Category</span>: 1, <span style=\"font-weight: bold\">MultiBinning</span>: 5\n",
       "│   ╭────────────────── ▶ input ──────────────────╮ ╭───── ▶ input ──────╮ ╭────── ▶ input ──────╮\n",
       "│   │ <span style=\"font-weight: bold\">syst</span> (string)                               │ │ <span style=\"font-weight: bold\">eta</span> (real)         │ │ <span style=\"font-weight: bold\">pt</span> (real)           │\n",
       "│   │ syst                                        │ │ eta                │ │ pt                  │\n",
       "│   │ Values: eff, stat_d, stat_u, syst_d, syst_u │ │ Range: [-2.4, 2.4) │ │ Range: [0.0, 200.0) │\n",
       "│   ╰─────────────────────────────────────────────╯ ╰────────────────────╯ ╰─────────────────────╯\n",
       "│   ╭─── ◀ output ───╮\n",
       "│   │ <span style=\"font-weight: bold\">out</span> (real)     │\n",
       "│   │ <span style=\"font-style: italic\">No description</span> │\n",
       "│   ╰────────────────╯\n",
       "├── 📈 <span style=\"font-weight: bold\">MC_DoubleEleLegHigPt</span> (v0)\n",
       "│   <span style=\"font-style: italic\">No description</span>\n",
       "│   Node counts: <span style=\"font-weight: bold\">Category</span>: 1, <span style=\"font-weight: bold\">MultiBinning</span>: 5\n",
       "│   ╭────────────────── ▶ input ──────────────────╮ ╭───── ▶ input ──────╮ ╭────── ▶ input ──────╮\n",
       "│   │ <span style=\"font-weight: bold\">syst</span> (string)                               │ │ <span style=\"font-weight: bold\">eta</span> (real)         │ │ <span style=\"font-weight: bold\">pt</span> (real)           │\n",
       "│   │ syst                                        │ │ eta                │ │ pt                  │\n",
       "│   │ Values: eff, stat_d, stat_u, syst_d, syst_u │ │ Range: [-2.5, 2.5) │ │ Range: [0.0, 200.0) │\n",
       "│   ╰─────────────────────────────────────────────╯ ╰────────────────────╯ ╰─────────────────────╯\n",
       "│   ╭─── ◀ output ───╮\n",
       "│   │ <span style=\"font-weight: bold\">out</span> (real)     │\n",
       "│   │ <span style=\"font-style: italic\">No description</span> │\n",
       "│   ╰────────────────╯\n",
       "├── 📈 <span style=\"font-weight: bold\">MC_DoubleEleLegLowPt</span> (v0)\n",
       "│   <span style=\"font-style: italic\">No description</span>\n",
       "│   Node counts: <span style=\"font-weight: bold\">Category</span>: 1, <span style=\"font-weight: bold\">MultiBinning</span>: 5\n",
       "│   ╭────────────────── ▶ input ──────────────────╮ ╭───── ▶ input ──────╮ ╭────── ▶ input ──────╮\n",
       "│   │ <span style=\"font-weight: bold\">syst</span> (string)                               │ │ <span style=\"font-weight: bold\">eta</span> (real)         │ │ <span style=\"font-weight: bold\">pt</span> (real)           │\n",
       "│   │ syst                                        │ │ eta                │ │ pt                  │\n",
       "│   │ Values: eff, stat_d, stat_u, syst_d, syst_u │ │ Range: [-2.5, 2.5) │ │ Range: [0.0, 200.0) │\n",
       "│   ╰─────────────────────────────────────────────╯ ╰────────────────────╯ ╰─────────────────────╯\n",
       "│   ╭─── ◀ output ───╮\n",
       "│   │ <span style=\"font-weight: bold\">out</span> (real)     │\n",
       "│   │ <span style=\"font-style: italic\">No description</span> │\n",
       "│   ╰────────────────╯\n",
       "├── 📈 <span style=\"font-weight: bold\">MC_SingleEle</span> (v0)\n",
       "│   <span style=\"font-style: italic\">No description</span>\n",
       "│   Node counts: <span style=\"font-weight: bold\">Category</span>: 1, <span style=\"font-weight: bold\">MultiBinning</span>: 5\n",
       "│   ╭────────────────── ▶ input ──────────────────╮ ╭───── ▶ input ──────╮ ╭────── ▶ input ──────╮\n",
       "│   │ <span style=\"font-weight: bold\">syst</span> (string)                               │ │ <span style=\"font-weight: bold\">eta</span> (real)         │ │ <span style=\"font-weight: bold\">pt</span> (real)           │\n",
       "│   │ syst                                        │ │ eta                │ │ pt                  │\n",
       "│   │ Values: eff, stat_d, stat_u, syst_d, syst_u │ │ Range: [-2.5, 2.5) │ │ Range: [0.0, 200.0) │\n",
       "│   ╰─────────────────────────────────────────────╯ ╰────────────────────╯ ╰─────────────────────╯\n",
       "│   ╭─── ◀ output ───╮\n",
       "│   │ <span style=\"font-weight: bold\">out</span> (real)     │\n",
       "│   │ <span style=\"font-style: italic\">No description</span> │\n",
       "│   ╰────────────────╯\n",
       "├── 📈 <span style=\"font-weight: bold\">MC_DoubleMuLegHigPt</span> (v0)\n",
       "│   <span style=\"font-style: italic\">No description</span>\n",
       "│   Node counts: <span style=\"font-weight: bold\">Category</span>: 1, <span style=\"font-weight: bold\">MultiBinning</span>: 5\n",
       "│   ╭────────────────── ▶ input ──────────────────╮ ╭───── ▶ input ──────╮ ╭────── ▶ input ──────╮\n",
       "│   │ <span style=\"font-weight: bold\">syst</span> (string)                               │ │ <span style=\"font-weight: bold\">eta</span> (real)         │ │ <span style=\"font-weight: bold\">pt</span> (real)           │\n",
       "│   │ syst                                        │ │ eta                │ │ pt                  │\n",
       "│   │ Values: eff, stat_d, stat_u, syst_d, syst_u │ │ Range: [-2.4, 2.4) │ │ Range: [0.0, 200.0) │\n",
       "│   ╰─────────────────────────────────────────────╯ ╰────────────────────╯ ╰─────────────────────╯\n",
       "│   ╭─── ◀ output ───╮\n",
       "│   │ <span style=\"font-weight: bold\">out</span> (real)     │\n",
       "│   │ <span style=\"font-style: italic\">No description</span> │\n",
       "│   ╰────────────────╯\n",
       "├── 📈 <span style=\"font-weight: bold\">MC_DoubleMuLegLowPt</span> (v0)\n",
       "│   <span style=\"font-style: italic\">No description</span>\n",
       "│   Node counts: <span style=\"font-weight: bold\">Category</span>: 1, <span style=\"font-weight: bold\">MultiBinning</span>: 5\n",
       "│   ╭────────────────── ▶ input ──────────────────╮ ╭───── ▶ input ──────╮ ╭────── ▶ input ──────╮\n",
       "│   │ <span style=\"font-weight: bold\">syst</span> (string)                               │ │ <span style=\"font-weight: bold\">eta</span> (real)         │ │ <span style=\"font-weight: bold\">pt</span> (real)           │\n",
       "│   │ syst                                        │ │ eta                │ │ pt                  │\n",
       "│   │ Values: eff, stat_d, stat_u, syst_d, syst_u │ │ Range: [-2.4, 2.4) │ │ Range: [0.0, 200.0) │\n",
       "│   ╰─────────────────────────────────────────────╯ ╰────────────────────╯ ╰─────────────────────╯\n",
       "│   ╭─── ◀ output ───╮\n",
       "│   │ <span style=\"font-weight: bold\">out</span> (real)     │\n",
       "│   │ <span style=\"font-style: italic\">No description</span> │\n",
       "│   ╰────────────────╯\n",
       "├── 📈 <span style=\"font-weight: bold\">MC_SingleMu</span> (v0)\n",
       "│   <span style=\"font-style: italic\">No description</span>\n",
       "│   Node counts: <span style=\"font-weight: bold\">Category</span>: 1, <span style=\"font-weight: bold\">MultiBinning</span>: 5\n",
       "│   ╭────────────────── ▶ input ──────────────────╮ ╭───── ▶ input ──────╮ ╭────── ▶ input ──────╮\n",
       "│   │ <span style=\"font-weight: bold\">syst</span> (string)                               │ │ <span style=\"font-weight: bold\">eta</span> (real)         │ │ <span style=\"font-weight: bold\">pt</span> (real)           │\n",
       "│   │ syst                                        │ │ eta                │ │ pt                  │\n",
       "│   │ Values: eff, stat_d, stat_u, syst_d, syst_u │ │ Range: [-2.4, 2.4) │ │ Range: [0.0, 200.0) │\n",
       "│   ╰─────────────────────────────────────────────╯ ╰────────────────────╯ ╰─────────────────────╯\n",
       "│   ╭─── ◀ output ───╮\n",
       "│   │ <span style=\"font-weight: bold\">out</span> (real)     │\n",
       "│   │ <span style=\"font-style: italic\">No description</span> │\n",
       "│   ╰────────────────╯\n",
       "├── 📈 <span style=\"font-weight: bold\">MC_MuEleLegHigPt</span> (v0)\n",
       "│   <span style=\"font-style: italic\">No description</span>\n",
       "│   Node counts: <span style=\"font-weight: bold\">Category</span>: 1, <span style=\"font-weight: bold\">MultiBinning</span>: 5\n",
       "│   ╭────────────────── ▶ input ──────────────────╮ ╭───── ▶ input ──────╮ ╭────── ▶ input ──────╮\n",
       "│   │ <span style=\"font-weight: bold\">syst</span> (string)                               │ │ <span style=\"font-weight: bold\">eta</span> (real)         │ │ <span style=\"font-weight: bold\">pt</span> (real)           │\n",
       "│   │ syst                                        │ │ eta                │ │ pt                  │\n",
       "│   │ Values: eff, stat_d, stat_u, syst_d, syst_u │ │ Range: [-2.4, 2.4) │ │ Range: [0.0, 200.0) │\n",
       "│   ╰─────────────────────────────────────────────╯ ╰────────────────────╯ ╰─────────────────────╯\n",
       "│   ╭─── ◀ output ───╮\n",
       "│   │ <span style=\"font-weight: bold\">out</span> (real)     │\n",
       "│   │ <span style=\"font-style: italic\">No description</span> │\n",
       "│   ╰────────────────╯\n",
       "├── 📈 <span style=\"font-weight: bold\">MC_MuEleLegLowPt</span> (v0)\n",
       "│   <span style=\"font-style: italic\">No description</span>\n",
       "│   Node counts: <span style=\"font-weight: bold\">Category</span>: 1, <span style=\"font-weight: bold\">MultiBinning</span>: 5\n",
       "│   ╭────────────────── ▶ input ──────────────────╮ ╭───── ▶ input ──────╮ ╭────── ▶ input ──────╮\n",
       "│   │ <span style=\"font-weight: bold\">syst</span> (string)                               │ │ <span style=\"font-weight: bold\">eta</span> (real)         │ │ <span style=\"font-weight: bold\">pt</span> (real)           │\n",
       "│   │ syst                                        │ │ eta                │ │ pt                  │\n",
       "│   │ Values: eff, stat_d, stat_u, syst_d, syst_u │ │ Range: [-2.5, 2.5) │ │ Range: [0.0, 200.0) │\n",
       "│   ╰─────────────────────────────────────────────╯ ╰────────────────────╯ ╰─────────────────────╯\n",
       "│   ╭─── ◀ output ───╮\n",
       "│   │ <span style=\"font-weight: bold\">out</span> (real)     │\n",
       "│   │ <span style=\"font-style: italic\">No description</span> │\n",
       "│   ╰────────────────╯\n",
       "├── 📈 <span style=\"font-weight: bold\">MC_EleMuLegHigPt</span> (v0)\n",
       "│   <span style=\"font-style: italic\">No description</span>\n",
       "│   Node counts: <span style=\"font-weight: bold\">Category</span>: 1, <span style=\"font-weight: bold\">MultiBinning</span>: 5\n",
       "│   ╭────────────────── ▶ input ──────────────────╮ ╭───── ▶ input ──────╮ ╭────── ▶ input ──────╮\n",
       "│   │ <span style=\"font-weight: bold\">syst</span> (string)                               │ │ <span style=\"font-weight: bold\">eta</span> (real)         │ │ <span style=\"font-weight: bold\">pt</span> (real)           │\n",
       "│   │ syst                                        │ │ eta                │ │ pt                  │\n",
       "│   │ Values: eff, stat_d, stat_u, syst_d, syst_u │ │ Range: [-2.5, 2.5) │ │ Range: [0.0, 200.0) │\n",
       "│   ╰─────────────────────────────────────────────╯ ╰────────────────────╯ ╰─────────────────────╯\n",
       "│   ╭─── ◀ output ───╮\n",
       "│   │ <span style=\"font-weight: bold\">out</span> (real)     │\n",
       "│   │ <span style=\"font-style: italic\">No description</span> │\n",
       "│   ╰────────────────╯\n",
       "└── 📈 <span style=\"font-weight: bold\">MC_EleMuLegLowPt</span> (v0)\n",
       "    <span style=\"font-style: italic\">No description</span>\n",
       "    Node counts: <span style=\"font-weight: bold\">Category</span>: 1, <span style=\"font-weight: bold\">MultiBinning</span>: 5\n",
       "    ╭────────────────── ▶ input ──────────────────╮ ╭───── ▶ input ──────╮ ╭────── ▶ input ──────╮\n",
       "    │ <span style=\"font-weight: bold\">syst</span> (string)                               │ │ <span style=\"font-weight: bold\">eta</span> (real)         │ │ <span style=\"font-weight: bold\">pt</span> (real)           │\n",
       "    │ syst                                        │ │ eta                │ │ pt                  │\n",
       "    │ Values: eff, stat_d, stat_u, syst_d, syst_u │ │ Range: [-2.4, 2.4) │ │ Range: [0.0, 200.0) │\n",
       "    ╰─────────────────────────────────────────────╯ ╰────────────────────╯ ╰─────────────────────╯\n",
       "    ╭─── ◀ output ───╮\n",
       "    │ <span style=\"font-weight: bold\">out</span> (real)     │\n",
       "    │ <span style=\"font-style: italic\">No description</span> │\n",
       "    ╰────────────────╯\n",
       "</pre>\n"
      ],
      "text/plain": [
       "\u001b[1mCorrectionSet\u001b[0m (\u001b[3mschema v2\u001b[0m)\n",
       "\u001b[3mNo description\u001b[0m\n",
       "📂\n",
       "├── 📈 \u001b[1mData_DoubleEleLegHigPt\u001b[0m (v0)\n",
       "│   \u001b[3mNo description\u001b[0m\n",
       "│   Node counts: \u001b[1mCategory\u001b[0m: 1, \u001b[1mMultiBinning\u001b[0m: 5\n",
       "│   ╭────────────────── ▶ input ──────────────────╮ ╭───── ▶ input ──────╮ ╭────── ▶ input ──────╮\n",
       "│   │ \u001b[1msyst\u001b[0m (string)                               │ │ \u001b[1meta\u001b[0m (real)         │ │ \u001b[1mpt\u001b[0m (real)           │\n",
       "│   │ syst                                        │ │ eta                │ │ pt                  │\n",
       "│   │ Values: eff, stat_d, stat_u, syst_d, syst_u │ │ Range: [-2.5, 2.5) │ │ Range: [0.0, 200.0) │\n",
       "│   ╰─────────────────────────────────────────────╯ ╰────────────────────╯ ╰─────────────────────╯\n",
       "│   ╭─── ◀ output ───╮\n",
       "│   │ \u001b[1mout\u001b[0m (real)     │\n",
       "│   │ \u001b[3mNo description\u001b[0m │\n",
       "│   ╰────────────────╯\n",
       "├── 📈 \u001b[1mData_DoubleEleLegLowPt\u001b[0m (v0)\n",
       "│   \u001b[3mNo description\u001b[0m\n",
       "│   Node counts: \u001b[1mCategory\u001b[0m: 1, \u001b[1mMultiBinning\u001b[0m: 5\n",
       "│   ╭────────────────── ▶ input ──────────────────╮ ╭───── ▶ input ──────╮ ╭────── ▶ input ──────╮\n",
       "│   │ \u001b[1msyst\u001b[0m (string)                               │ │ \u001b[1meta\u001b[0m (real)         │ │ \u001b[1mpt\u001b[0m (real)           │\n",
       "│   │ syst                                        │ │ eta                │ │ pt                  │\n",
       "│   │ Values: eff, stat_d, stat_u, syst_d, syst_u │ │ Range: [-2.5, 2.5) │ │ Range: [0.0, 200.0) │\n",
       "│   ╰─────────────────────────────────────────────╯ ╰────────────────────╯ ╰─────────────────────╯\n",
       "│   ╭─── ◀ output ───╮\n",
       "│   │ \u001b[1mout\u001b[0m (real)     │\n",
       "│   │ \u001b[3mNo description\u001b[0m │\n",
       "│   ╰────────────────╯\n",
       "├── 📈 \u001b[1mData_SingleEle\u001b[0m (v0)\n",
       "│   \u001b[3mNo description\u001b[0m\n",
       "│   Node counts: \u001b[1mCategory\u001b[0m: 1, \u001b[1mMultiBinning\u001b[0m: 5\n",
       "│   ╭────────────────── ▶ input ──────────────────╮ ╭───── ▶ input ──────╮ ╭────── ▶ input ──────╮\n",
       "│   │ \u001b[1msyst\u001b[0m (string)                               │ │ \u001b[1meta\u001b[0m (real)         │ │ \u001b[1mpt\u001b[0m (real)           │\n",
       "│   │ syst                                        │ │ eta                │ │ pt                  │\n",
       "│   │ Values: eff, stat_d, stat_u, syst_d, syst_u │ │ Range: [-2.5, 2.5) │ │ Range: [0.0, 200.0) │\n",
       "│   ╰─────────────────────────────────────────────╯ ╰────────────────────╯ ╰─────────────────────╯\n",
       "│   ╭─── ◀ output ───╮\n",
       "│   │ \u001b[1mout\u001b[0m (real)     │\n",
       "│   │ \u001b[3mNo description\u001b[0m │\n",
       "│   ╰────────────────╯\n",
       "├── 📈 \u001b[1mData_DoubleMuLegHigPt\u001b[0m (v0)\n",
       "│   \u001b[3mNo description\u001b[0m\n",
       "│   Node counts: \u001b[1mCategory\u001b[0m: 1, \u001b[1mMultiBinning\u001b[0m: 5\n",
       "│   ╭────────────────── ▶ input ──────────────────╮ ╭───── ▶ input ──────╮ ╭────── ▶ input ──────╮\n",
       "│   │ \u001b[1msyst\u001b[0m (string)                               │ │ \u001b[1meta\u001b[0m (real)         │ │ \u001b[1mpt\u001b[0m (real)           │\n",
       "│   │ syst                                        │ │ eta                │ │ pt                  │\n",
       "│   │ Values: eff, stat_d, stat_u, syst_d, syst_u │ │ Range: [-2.4, 2.4) │ │ Range: [0.0, 200.0) │\n",
       "│   ╰─────────────────────────────────────────────╯ ╰────────────────────╯ ╰─────────────────────╯\n",
       "│   ╭─── ◀ output ───╮\n",
       "│   │ \u001b[1mout\u001b[0m (real)     │\n",
       "│   │ \u001b[3mNo description\u001b[0m │\n",
       "│   ╰────────────────╯\n",
       "├── 📈 \u001b[1mData_DoubleMuLegLowPt\u001b[0m (v0)\n",
       "│   \u001b[3mNo description\u001b[0m\n",
       "│   Node counts: \u001b[1mCategory\u001b[0m: 1, \u001b[1mMultiBinning\u001b[0m: 5\n",
       "│   ╭────────────────── ▶ input ──────────────────╮ ╭───── ▶ input ──────╮ ╭────── ▶ input ──────╮\n",
       "│   │ \u001b[1msyst\u001b[0m (string)                               │ │ \u001b[1meta\u001b[0m (real)         │ │ \u001b[1mpt\u001b[0m (real)           │\n",
       "│   │ syst                                        │ │ eta                │ │ pt                  │\n",
       "│   │ Values: eff, stat_d, stat_u, syst_d, syst_u │ │ Range: [-2.4, 2.4) │ │ Range: [0.0, 200.0) │\n",
       "│   ╰─────────────────────────────────────────────╯ ╰────────────────────╯ ╰─────────────────────╯\n",
       "│   ╭─── ◀ output ───╮\n",
       "│   │ \u001b[1mout\u001b[0m (real)     │\n",
       "│   │ \u001b[3mNo description\u001b[0m │\n",
       "│   ╰────────────────╯\n",
       "├── 📈 \u001b[1mData_SingleMu\u001b[0m (v0)\n",
       "│   \u001b[3mNo description\u001b[0m\n",
       "│   Node counts: \u001b[1mCategory\u001b[0m: 1, \u001b[1mMultiBinning\u001b[0m: 5\n",
       "│   ╭────────────────── ▶ input ──────────────────╮ ╭───── ▶ input ──────╮ ╭────── ▶ input ──────╮\n",
       "│   │ \u001b[1msyst\u001b[0m (string)                               │ │ \u001b[1meta\u001b[0m (real)         │ │ \u001b[1mpt\u001b[0m (real)           │\n",
       "│   │ syst                                        │ │ eta                │ │ pt                  │\n",
       "│   │ Values: eff, stat_d, stat_u, syst_d, syst_u │ │ Range: [-2.4, 2.4) │ │ Range: [0.0, 200.0) │\n",
       "│   ╰─────────────────────────────────────────────╯ ╰────────────────────╯ ╰─────────────────────╯\n",
       "│   ╭─── ◀ output ───╮\n",
       "│   │ \u001b[1mout\u001b[0m (real)     │\n",
       "│   │ \u001b[3mNo description\u001b[0m │\n",
       "│   ╰────────────────╯\n",
       "├── 📈 \u001b[1mData_MuEleLegHigPt\u001b[0m (v0)\n",
       "│   \u001b[3mNo description\u001b[0m\n",
       "│   Node counts: \u001b[1mCategory\u001b[0m: 1, \u001b[1mMultiBinning\u001b[0m: 5\n",
       "│   ╭────────────────── ▶ input ──────────────────╮ ╭───── ▶ input ──────╮ ╭────── ▶ input ──────╮\n",
       "│   │ \u001b[1msyst\u001b[0m (string)                               │ │ \u001b[1meta\u001b[0m (real)         │ │ \u001b[1mpt\u001b[0m (real)           │\n",
       "│   │ syst                                        │ │ eta                │ │ pt                  │\n",
       "│   │ Values: eff, stat_d, stat_u, syst_d, syst_u │ │ Range: [-2.4, 2.4) │ │ Range: [0.0, 200.0) │\n",
       "│   ╰─────────────────────────────────────────────╯ ╰────────────────────╯ ╰─────────────────────╯\n",
       "│   ╭─── ◀ output ───╮\n",
       "│   │ \u001b[1mout\u001b[0m (real)     │\n",
       "│   │ \u001b[3mNo description\u001b[0m │\n",
       "│   ╰────────────────╯\n",
       "├── 📈 \u001b[1mData_MuEleLegLowPt\u001b[0m (v0)\n",
       "│   \u001b[3mNo description\u001b[0m\n",
       "│   Node counts: \u001b[1mCategory\u001b[0m: 1, \u001b[1mMultiBinning\u001b[0m: 5\n",
       "│   ╭────────────────── ▶ input ──────────────────╮ ╭───── ▶ input ──────╮ ╭────── ▶ input ──────╮\n",
       "│   │ \u001b[1msyst\u001b[0m (string)                               │ │ \u001b[1meta\u001b[0m (real)         │ │ \u001b[1mpt\u001b[0m (real)           │\n",
       "│   │ syst                                        │ │ eta                │ │ pt                  │\n",
       "│   │ Values: eff, stat_d, stat_u, syst_d, syst_u │ │ Range: [-2.5, 2.5) │ │ Range: [0.0, 200.0) │\n",
       "│   ╰─────────────────────────────────────────────╯ ╰────────────────────╯ ╰─────────────────────╯\n",
       "│   ╭─── ◀ output ───╮\n",
       "│   │ \u001b[1mout\u001b[0m (real)     │\n",
       "│   │ \u001b[3mNo description\u001b[0m │\n",
       "│   ╰────────────────╯\n",
       "├── 📈 \u001b[1mData_EleMuLegHigPt\u001b[0m (v0)\n",
       "│   \u001b[3mNo description\u001b[0m\n",
       "│   Node counts: \u001b[1mCategory\u001b[0m: 1, \u001b[1mMultiBinning\u001b[0m: 5\n",
       "│   ╭────────────────── ▶ input ──────────────────╮ ╭───── ▶ input ──────╮ ╭────── ▶ input ──────╮\n",
       "│   │ \u001b[1msyst\u001b[0m (string)                               │ │ \u001b[1meta\u001b[0m (real)         │ │ \u001b[1mpt\u001b[0m (real)           │\n",
       "│   │ syst                                        │ │ eta                │ │ pt                  │\n",
       "│   │ Values: eff, stat_d, stat_u, syst_d, syst_u │ │ Range: [-2.5, 2.5) │ │ Range: [0.0, 200.0) │\n",
       "│   ╰─────────────────────────────────────────────╯ ╰────────────────────╯ ╰─────────────────────╯\n",
       "│   ╭─── ◀ output ───╮\n",
       "│   │ \u001b[1mout\u001b[0m (real)     │\n",
       "│   │ \u001b[3mNo description\u001b[0m │\n",
       "│   ╰────────────────╯\n",
       "├── 📈 \u001b[1mData_EleMuLegLowPt\u001b[0m (v0)\n",
       "│   \u001b[3mNo description\u001b[0m\n",
       "│   Node counts: \u001b[1mCategory\u001b[0m: 1, \u001b[1mMultiBinning\u001b[0m: 5\n",
       "│   ╭────────────────── ▶ input ──────────────────╮ ╭───── ▶ input ──────╮ ╭────── ▶ input ──────╮\n",
       "│   │ \u001b[1msyst\u001b[0m (string)                               │ │ \u001b[1meta\u001b[0m (real)         │ │ \u001b[1mpt\u001b[0m (real)           │\n",
       "│   │ syst                                        │ │ eta                │ │ pt                  │\n",
       "│   │ Values: eff, stat_d, stat_u, syst_d, syst_u │ │ Range: [-2.4, 2.4) │ │ Range: [0.0, 200.0) │\n",
       "│   ╰─────────────────────────────────────────────╯ ╰────────────────────╯ ╰─────────────────────╯\n",
       "│   ╭─── ◀ output ───╮\n",
       "│   │ \u001b[1mout\u001b[0m (real)     │\n",
       "│   │ \u001b[3mNo description\u001b[0m │\n",
       "│   ╰────────────────╯\n",
       "├── 📈 \u001b[1mMC_DoubleEleLegHigPt\u001b[0m (v0)\n",
       "│   \u001b[3mNo description\u001b[0m\n",
       "│   Node counts: \u001b[1mCategory\u001b[0m: 1, \u001b[1mMultiBinning\u001b[0m: 5\n",
       "│   ╭────────────────── ▶ input ──────────────────╮ ╭───── ▶ input ──────╮ ╭────── ▶ input ──────╮\n",
       "│   │ \u001b[1msyst\u001b[0m (string)                               │ │ \u001b[1meta\u001b[0m (real)         │ │ \u001b[1mpt\u001b[0m (real)           │\n",
       "│   │ syst                                        │ │ eta                │ │ pt                  │\n",
       "│   │ Values: eff, stat_d, stat_u, syst_d, syst_u │ │ Range: [-2.5, 2.5) │ │ Range: [0.0, 200.0) │\n",
       "│   ╰─────────────────────────────────────────────╯ ╰────────────────────╯ ╰─────────────────────╯\n",
       "│   ╭─── ◀ output ───╮\n",
       "│   │ \u001b[1mout\u001b[0m (real)     │\n",
       "│   │ \u001b[3mNo description\u001b[0m │\n",
       "│   ╰────────────────╯\n",
       "├── 📈 \u001b[1mMC_DoubleEleLegLowPt\u001b[0m (v0)\n",
       "│   \u001b[3mNo description\u001b[0m\n",
       "│   Node counts: \u001b[1mCategory\u001b[0m: 1, \u001b[1mMultiBinning\u001b[0m: 5\n",
       "│   ╭────────────────── ▶ input ──────────────────╮ ╭───── ▶ input ──────╮ ╭────── ▶ input ──────╮\n",
       "│   │ \u001b[1msyst\u001b[0m (string)                               │ │ \u001b[1meta\u001b[0m (real)         │ │ \u001b[1mpt\u001b[0m (real)           │\n",
       "│   │ syst                                        │ │ eta                │ │ pt                  │\n",
       "│   │ Values: eff, stat_d, stat_u, syst_d, syst_u │ │ Range: [-2.5, 2.5) │ │ Range: [0.0, 200.0) │\n",
       "│   ╰─────────────────────────────────────────────╯ ╰────────────────────╯ ╰─────────────────────╯\n",
       "│   ╭─── ◀ output ───╮\n",
       "│   │ \u001b[1mout\u001b[0m (real)     │\n",
       "│   │ \u001b[3mNo description\u001b[0m │\n",
       "│   ╰────────────────╯\n",
       "├── 📈 \u001b[1mMC_SingleEle\u001b[0m (v0)\n",
       "│   \u001b[3mNo description\u001b[0m\n",
       "│   Node counts: \u001b[1mCategory\u001b[0m: 1, \u001b[1mMultiBinning\u001b[0m: 5\n",
       "│   ╭────────────────── ▶ input ──────────────────╮ ╭───── ▶ input ──────╮ ╭────── ▶ input ──────╮\n",
       "│   │ \u001b[1msyst\u001b[0m (string)                               │ │ \u001b[1meta\u001b[0m (real)         │ │ \u001b[1mpt\u001b[0m (real)           │\n",
       "│   │ syst                                        │ │ eta                │ │ pt                  │\n",
       "│   │ Values: eff, stat_d, stat_u, syst_d, syst_u │ │ Range: [-2.5, 2.5) │ │ Range: [0.0, 200.0) │\n",
       "│   ╰─────────────────────────────────────────────╯ ╰────────────────────╯ ╰─────────────────────╯\n",
       "│   ╭─── ◀ output ───╮\n",
       "│   │ \u001b[1mout\u001b[0m (real)     │\n",
       "│   │ \u001b[3mNo description\u001b[0m │\n",
       "│   ╰────────────────╯\n",
       "├── 📈 \u001b[1mMC_DoubleMuLegHigPt\u001b[0m (v0)\n",
       "│   \u001b[3mNo description\u001b[0m\n",
       "│   Node counts: \u001b[1mCategory\u001b[0m: 1, \u001b[1mMultiBinning\u001b[0m: 5\n",
       "│   ╭────────────────── ▶ input ──────────────────╮ ╭───── ▶ input ──────╮ ╭────── ▶ input ──────╮\n",
       "│   │ \u001b[1msyst\u001b[0m (string)                               │ │ \u001b[1meta\u001b[0m (real)         │ │ \u001b[1mpt\u001b[0m (real)           │\n",
       "│   │ syst                                        │ │ eta                │ │ pt                  │\n",
       "│   │ Values: eff, stat_d, stat_u, syst_d, syst_u │ │ Range: [-2.4, 2.4) │ │ Range: [0.0, 200.0) │\n",
       "│   ╰─────────────────────────────────────────────╯ ╰────────────────────╯ ╰─────────────────────╯\n",
       "│   ╭─── ◀ output ───╮\n",
       "│   │ \u001b[1mout\u001b[0m (real)     │\n",
       "│   │ \u001b[3mNo description\u001b[0m │\n",
       "│   ╰────────────────╯\n",
       "├── 📈 \u001b[1mMC_DoubleMuLegLowPt\u001b[0m (v0)\n",
       "│   \u001b[3mNo description\u001b[0m\n",
       "│   Node counts: \u001b[1mCategory\u001b[0m: 1, \u001b[1mMultiBinning\u001b[0m: 5\n",
       "│   ╭────────────────── ▶ input ──────────────────╮ ╭───── ▶ input ──────╮ ╭────── ▶ input ──────╮\n",
       "│   │ \u001b[1msyst\u001b[0m (string)                               │ │ \u001b[1meta\u001b[0m (real)         │ │ \u001b[1mpt\u001b[0m (real)           │\n",
       "│   │ syst                                        │ │ eta                │ │ pt                  │\n",
       "│   │ Values: eff, stat_d, stat_u, syst_d, syst_u │ │ Range: [-2.4, 2.4) │ │ Range: [0.0, 200.0) │\n",
       "│   ╰─────────────────────────────────────────────╯ ╰────────────────────╯ ╰─────────────────────╯\n",
       "│   ╭─── ◀ output ───╮\n",
       "│   │ \u001b[1mout\u001b[0m (real)     │\n",
       "│   │ \u001b[3mNo description\u001b[0m │\n",
       "│   ╰────────────────╯\n",
       "├── 📈 \u001b[1mMC_SingleMu\u001b[0m (v0)\n",
       "│   \u001b[3mNo description\u001b[0m\n",
       "│   Node counts: \u001b[1mCategory\u001b[0m: 1, \u001b[1mMultiBinning\u001b[0m: 5\n",
       "│   ╭────────────────── ▶ input ──────────────────╮ ╭───── ▶ input ──────╮ ╭────── ▶ input ──────╮\n",
       "│   │ \u001b[1msyst\u001b[0m (string)                               │ │ \u001b[1meta\u001b[0m (real)         │ │ \u001b[1mpt\u001b[0m (real)           │\n",
       "│   │ syst                                        │ │ eta                │ │ pt                  │\n",
       "│   │ Values: eff, stat_d, stat_u, syst_d, syst_u │ │ Range: [-2.4, 2.4) │ │ Range: [0.0, 200.0) │\n",
       "│   ╰─────────────────────────────────────────────╯ ╰────────────────────╯ ╰─────────────────────╯\n",
       "│   ╭─── ◀ output ───╮\n",
       "│   │ \u001b[1mout\u001b[0m (real)     │\n",
       "│   │ \u001b[3mNo description\u001b[0m │\n",
       "│   ╰────────────────╯\n",
       "├── 📈 \u001b[1mMC_MuEleLegHigPt\u001b[0m (v0)\n",
       "│   \u001b[3mNo description\u001b[0m\n",
       "│   Node counts: \u001b[1mCategory\u001b[0m: 1, \u001b[1mMultiBinning\u001b[0m: 5\n",
       "│   ╭────────────────── ▶ input ──────────────────╮ ╭───── ▶ input ──────╮ ╭────── ▶ input ──────╮\n",
       "│   │ \u001b[1msyst\u001b[0m (string)                               │ │ \u001b[1meta\u001b[0m (real)         │ │ \u001b[1mpt\u001b[0m (real)           │\n",
       "│   │ syst                                        │ │ eta                │ │ pt                  │\n",
       "│   │ Values: eff, stat_d, stat_u, syst_d, syst_u │ │ Range: [-2.4, 2.4) │ │ Range: [0.0, 200.0) │\n",
       "│   ╰─────────────────────────────────────────────╯ ╰────────────────────╯ ╰─────────────────────╯\n",
       "│   ╭─── ◀ output ───╮\n",
       "│   │ \u001b[1mout\u001b[0m (real)     │\n",
       "│   │ \u001b[3mNo description\u001b[0m │\n",
       "│   ╰────────────────╯\n",
       "├── 📈 \u001b[1mMC_MuEleLegLowPt\u001b[0m (v0)\n",
       "│   \u001b[3mNo description\u001b[0m\n",
       "│   Node counts: \u001b[1mCategory\u001b[0m: 1, \u001b[1mMultiBinning\u001b[0m: 5\n",
       "│   ╭────────────────── ▶ input ──────────────────╮ ╭───── ▶ input ──────╮ ╭────── ▶ input ──────╮\n",
       "│   │ \u001b[1msyst\u001b[0m (string)                               │ │ \u001b[1meta\u001b[0m (real)         │ │ \u001b[1mpt\u001b[0m (real)           │\n",
       "│   │ syst                                        │ │ eta                │ │ pt                  │\n",
       "│   │ Values: eff, stat_d, stat_u, syst_d, syst_u │ │ Range: [-2.5, 2.5) │ │ Range: [0.0, 200.0) │\n",
       "│   ╰─────────────────────────────────────────────╯ ╰────────────────────╯ ╰─────────────────────╯\n",
       "│   ╭─── ◀ output ───╮\n",
       "│   │ \u001b[1mout\u001b[0m (real)     │\n",
       "│   │ \u001b[3mNo description\u001b[0m │\n",
       "│   ╰────────────────╯\n",
       "├── 📈 \u001b[1mMC_EleMuLegHigPt\u001b[0m (v0)\n",
       "│   \u001b[3mNo description\u001b[0m\n",
       "│   Node counts: \u001b[1mCategory\u001b[0m: 1, \u001b[1mMultiBinning\u001b[0m: 5\n",
       "│   ╭────────────────── ▶ input ──────────────────╮ ╭───── ▶ input ──────╮ ╭────── ▶ input ──────╮\n",
       "│   │ \u001b[1msyst\u001b[0m (string)                               │ │ \u001b[1meta\u001b[0m (real)         │ │ \u001b[1mpt\u001b[0m (real)           │\n",
       "│   │ syst                                        │ │ eta                │ │ pt                  │\n",
       "│   │ Values: eff, stat_d, stat_u, syst_d, syst_u │ │ Range: [-2.5, 2.5) │ │ Range: [0.0, 200.0) │\n",
       "│   ╰─────────────────────────────────────────────╯ ╰────────────────────╯ ╰─────────────────────╯\n",
       "│   ╭─── ◀ output ───╮\n",
       "│   │ \u001b[1mout\u001b[0m (real)     │\n",
       "│   │ \u001b[3mNo description\u001b[0m │\n",
       "│   ╰────────────────╯\n",
       "└── 📈 \u001b[1mMC_EleMuLegLowPt\u001b[0m (v0)\n",
       "    \u001b[3mNo description\u001b[0m\n",
       "    Node counts: \u001b[1mCategory\u001b[0m: 1, \u001b[1mMultiBinning\u001b[0m: 5\n",
       "    ╭────────────────── ▶ input ──────────────────╮ ╭───── ▶ input ──────╮ ╭────── ▶ input ──────╮\n",
       "    │ \u001b[1msyst\u001b[0m (string)                               │ │ \u001b[1meta\u001b[0m (real)         │ │ \u001b[1mpt\u001b[0m (real)           │\n",
       "    │ syst                                        │ │ eta                │ │ pt                  │\n",
       "    │ Values: eff, stat_d, stat_u, syst_d, syst_u │ │ Range: [-2.4, 2.4) │ │ Range: [0.0, 200.0) │\n",
       "    ╰─────────────────────────────────────────────╯ ╰────────────────────╯ ╰─────────────────────╯\n",
       "    ╭─── ◀ output ───╮\n",
       "    │ \u001b[1mout\u001b[0m (real)     │\n",
       "    │ \u001b[3mNo description\u001b[0m │\n",
       "    ╰────────────────╯\n"
      ]
     },
     "metadata": {},
     "output_type": "display_data"
    }
   ],
   "source": [
    "rich.print(cset)"
   ]
  },
  {
   "cell_type": "code",
   "execution_count": null,
   "id": "6e5a7229-3568-47b5-9320-53afb880dd37",
   "metadata": {},
   "outputs": [],
   "source": [
    "csets[1])"
   ]
  },
  {
   "cell_type": "code",
   "execution_count": null,
   "id": "0b629672-5616-4a94-ad5b-6ddc4bff8953",
   "metadata": {},
   "outputs": [],
   "source": []
  },
  {
   "cell_type": "code",
   "execution_count": 37,
   "id": "df60f1ad-cff3-42e2-b8e8-5bfad430b6ca",
   "metadata": {},
   "outputs": [
    {
     "data": {
      "text/html": [
       "<pre style=\"white-space:pre;overflow-x:auto;line-height:normal;font-family:Menlo,'DejaVu Sans Mono',consolas,'Courier New',monospace\">📈 <span style=\"font-weight: bold\">DoubleEleLegHigPt</span> <span style=\"font-weight: bold\">(</span>v0<span style=\"font-weight: bold\">)</span>\n",
       "<span style=\"font-style: italic\">No description</span>\n",
       "Node counts: <span style=\"font-weight: bold\">Category</span>: <span style=\"color: #008080; text-decoration-color: #008080; font-weight: bold\">1</span>, <span style=\"font-weight: bold\">MultiBinning</span>: <span style=\"color: #008080; text-decoration-color: #008080; font-weight: bold\">5</span>\n",
       "╭────────────────── ▶ input ──────────────────╮ ╭───── ▶ input ──────╮ ╭────── ▶ input ──────╮\n",
       "│ <span style=\"font-weight: bold\">syst</span> (string)                               │ │ <span style=\"font-weight: bold\">eta</span> (real)         │ │ <span style=\"font-weight: bold\">pt</span> (real)           │\n",
       "│ syst                                        │ │ eta                │ │ pt                  │\n",
       "│ Values: eff, stat_d, stat_u, syst_d, syst_u │ │ Range: [-2.5, 2.5) │ │ Range: [0.0, 200.0) │\n",
       "╰─────────────────────────────────────────────╯ ╰────────────────────╯ ╰─────────────────────╯\n",
       "╭─── ◀ output ───╮\n",
       "│ <span style=\"font-weight: bold\">out</span> (real)     │\n",
       "│ <span style=\"font-style: italic\">No description</span> │\n",
       "╰────────────────╯\n",
       "</pre>\n"
      ],
      "text/plain": [
       "📈 \u001b[1mDoubleEleLegHigPt\u001b[0m \u001b[1m(\u001b[0mv0\u001b[1m)\u001b[0m\n",
       "\u001b[3mNo description\u001b[0m\n",
       "Node counts: \u001b[1mCategory\u001b[0m: \u001b[1;36m1\u001b[0m, \u001b[1mMultiBinning\u001b[0m: \u001b[1;36m5\u001b[0m\n",
       "╭────────────────── ▶ input ──────────────────╮ ╭───── ▶ input ──────╮ ╭────── ▶ input ──────╮\n",
       "│ \u001b[1msyst\u001b[0m (string)                               │ │ \u001b[1meta\u001b[0m (real)         │ │ \u001b[1mpt\u001b[0m (real)           │\n",
       "│ syst                                        │ │ eta                │ │ pt                  │\n",
       "│ Values: eff, stat_d, stat_u, syst_d, syst_u │ │ Range: [-2.5, 2.5) │ │ Range: [0.0, 200.0) │\n",
       "╰─────────────────────────────────────────────╯ ╰────────────────────╯ ╰─────────────────────╯\n",
       "╭─── ◀ output ───╮\n",
       "│ \u001b[1mout\u001b[0m (real)     │\n",
       "│ \u001b[3mNo description\u001b[0m │\n",
       "╰────────────────╯\n"
      ]
     },
     "metadata": {},
     "output_type": "display_data"
    }
   ],
   "source": [
    "rich.print(cset)"
   ]
  },
  {
   "cell_type": "code",
   "execution_count": 26,
   "id": "b253bd06-04d9-4913-be8f-1af4c65be018",
   "metadata": {},
   "outputs": [
    {
     "name": "stdout",
     "output_type": "stream",
     "text": [
      "0.985\n",
      "12\n",
      "0.985\n"
     ]
    }
   ],
   "source": [
    "ceval = cset.to_evaluator()\n",
    "vpt = 100.0\n",
    "veta = -2.3\n",
    "syst = 'eff'\n",
    "print(ceval.evaluate(syst, veta, vpt))\n",
    "for i, (ipt, ieta) in enumerate(list(zip(list(df['pt']), list(df['eta'])))):\n",
    "    if (\n",
    "        ieta[0] <= veta < ieta[1]\n",
    "        and ipt[0] <= vpt < ipt[1]\n",
    "    ):\n",
    "        print(i)\n",
    "        print(df[syst][i])"
   ]
  },
  {
   "cell_type": "code",
   "execution_count": null,
   "id": "e2240662-4184-4208-99dd-0004f92d2a04",
   "metadata": {},
   "outputs": [],
   "source": []
  },
  {
   "cell_type": "code",
   "execution_count": null,
   "id": "51a1189b-8d6b-4112-8d46-61caace14c94",
   "metadata": {},
   "outputs": [],
   "source": []
  },
  {
   "cell_type": "code",
   "execution_count": null,
   "id": "628637e9-32f4-4e71-8bc0-84b11733f853",
   "metadata": {},
   "outputs": [],
   "source": []
  },
  {
   "cell_type": "code",
   "execution_count": null,
   "id": "6cf74ca6-f396-45ad-a269-04a2b75a2b5a",
   "metadata": {},
   "outputs": [],
   "source": []
  },
  {
   "cell_type": "code",
   "execution_count": null,
   "id": "8f5d27b7-4d29-47bb-bf09-7b41afae1be0",
   "metadata": {},
   "outputs": [],
   "source": []
  },
  {
   "cell_type": "code",
   "execution_count": null,
   "id": "49b428d5-6ea0-450d-9b67-db5e90ef1436",
   "metadata": {},
   "outputs": [],
   "source": [
    "cset = correctionlib.convert.from_txt('test_sf.root:h_Ele_signal_pt_eta_bin')"
   ]
  },
  {
   "cell_type": "code",
   "execution_count": null,
   "id": "aac1a4b7-9078-4e2d-8285-fa04b7f37f73",
   "metadata": {},
   "outputs": [],
   "source": []
  },
  {
   "cell_type": "code",
   "execution_count": 3,
   "id": "15dc047f-5efa-4ccf-9ee0-0c959a586315",
   "metadata": {},
   "outputs": [
    {
     "data": {
      "text/plain": [
       "0.8799667219594568"
      ]
     },
     "execution_count": 3,
     "metadata": {},
     "output_type": "execute_result"
    }
   ],
   "source": [
    "url_base = 'https://github.com/latinos/LatinoAnalysis/raw/UL_production/NanoGardener/python/data/'\n",
    "url = 'fake_prompt_rates/Full2018v9/mvaFall17V2Iso_WP90/ElePR.root'\n",
    "with open('test_sf.root', 'wb') as file:\n",
    "    file.write(requests.get(url_base + url).content)\n",
    "\n",
    "cset = correctionlib.convert.from_uproot_THx('test_sf.root:h_Ele_signal_pt_eta_bin')\n",
    "\n",
    "ceval = cset.to_evaluator()\n",
    "\n",
    "ceval.evaluate(17.0, 0.0)"
   ]
  },
  {
   "cell_type": "code",
   "execution_count": null,
   "id": "0ba70b62-92b8-4d8b-aaca-3eede568bdf6",
   "metadata": {},
   "outputs": [],
   "source": [
    "dir(uproot.source.xrootd.XRootDSource)"
   ]
  },
  {
   "cell_type": "code",
   "execution_count": 10,
   "id": "6b3b99c1-783d-4fda-a268-c7e73aede5df",
   "metadata": {},
   "outputs": [],
   "source": [
    "fname = 'root://ccxrdcms.in2p3.fr:1094/pnfs/in2p3.fr/data/cms/disk/data//store/mc/RunIISummer20UL18NanoAODv9/EWK_LLJJ_MLL-50_MJJ-120_TuneCP5_13TeV-madgraph-pythia8_dipole/NANOAODSIM/106X_upgrade2018_realistic_v16_L1v1-v1/40000/3BF5756A-131F-8C4C-9CFC-71B15EDB9351.root'\n",
    "tree = uproot.open(fname, handler=uproot.source.xrootd.XRootDSource, num_workers=2)['Events']\n",
    "def branch(name):\n",
    "    return tree[name].array(entry_stop=10_000)\n",
    "\n",
    "branch('EMTFbug_veto')"
   ]
  },
  {
   "cell_type": "code",
   "execution_count": 16,
   "id": "748f87d5-9a2f-4b5d-89e6-d261568315da",
   "metadata": {},
   "outputs": [],
   "source": [
    "import uproot\n",
    "import awkward as ak\n",
    "from copy import deepcopy\n",
    "import sys\n",
    "import time\n",
    "import gc\n",
    "\n",
    "\n",
    "def read_array(tree, branch_name, start, stop):\n",
    "    interp = tree[branch_name].interpretation\n",
    "    interp._forth = True\n",
    "    return tree[branch_name].array(\n",
    "        interp,\n",
    "        entry_start=start,\n",
    "        entry_stop=stop,\n",
    "        decompression_executor=uproot.source.futures.TrivialExecutor(),\n",
    "        interpretation_executor=uproot.source.futures.TrivialExecutor(),\n",
    "    )\n",
    "def read_events(filename, start=0, stop=100, read_form={}):\n",
    "    print(\"start reading\")\n",
    "    f = uproot.open(filename, handler=uproot.source.xrootd.XRootDSource, num_workers=2)\n",
    "    tree = f[\"Events\"]\n",
    "    start = min(start, tree.num_entries)\n",
    "    stop = min(stop, tree.num_entries)\n",
    "    if start >= stop:\n",
    "        return ak.Array([])\n",
    "    events = {}\n",
    "    form = deepcopy(read_form)\n",
    "    for coll in form:\n",
    "        # print(coll)\n",
    "        d = {}\n",
    "        coll_branches = form[coll].pop(\"branches\")\n",
    "        # print(coll_branches)\n",
    "\n",
    "        if len(coll_branches) == 0:\n",
    "            # print(f\"Collection {coll} is not a collection but a signle branch\")\n",
    "            events[coll] = read_array(tree, coll, start, stop)\n",
    "            continue\n",
    "\n",
    "        for branch in coll_branches:\n",
    "            d[branch] = read_array(tree, coll + \"_\" + branch, start, stop)\n",
    "\n",
    "        if len(d.keys()) == 0:\n",
    "            print(\"did not find anything for\", coll, file=sys.stderr)\n",
    "            continue\n",
    "\n",
    "        events[coll] = ak.zip(d, **form[coll])\n",
    "        del d\n",
    "\n",
    "    # f.close()\n",
    "    print(\"created events\")\n",
    "    _events = ak.zip(events, depth_limit=1)\n",
    "    del events\n",
    "    return _events"
   ]
  },
  {
   "cell_type": "code",
   "execution_count": 17,
   "id": "f8aa9717-53b8-43f2-a5f7-a8d2674ac248",
   "metadata": {},
   "outputs": [
    {
     "name": "stdout",
     "output_type": "stream",
     "text": [
      "start reading\n",
      "created events\n"
     ]
    }
   ],
   "source": [
    "fname = 'root://ccxrdcms.in2p3.fr:1094/pnfs/in2p3.fr/data/cms/disk/data//store/mc/RunIISummer20UL18NanoAODv9/EWK_LLJJ_MLL-50_MJJ-120_TuneCP5_13TeV-madgraph-pythia8_dipole/NANOAODSIM/106X_upgrade2018_realistic_v16_L1v1-v1/40000/3BF5756A-131F-8C4C-9CFC-71B15EDB9351.root'\n",
    "events = read_events(fname, stop=10_000, read_form=forms['mc'])"
   ]
  },
  {
   "cell_type": "code",
   "execution_count": 25,
   "id": "65e93c1f-adb3-413a-bed0-0c0e3e037ac5",
   "metadata": {},
   "outputs": [],
   "source": [
    "cuts_muon = {\n",
    "                             'cuts' : { \n",
    "                                # Common cuts\n",
    "                                'True' :\n",
    "                                 [\n",
    "                                   'abs(muon_col[\"eta\"]) < 2.4' , \n",
    "                                   'muon_col[\"tightId\"] == 1' ,\n",
    "                                   'abs(muon_col[\"dz\"]) < 0.1' ,\n",
    "                                   'muon_col[\"pfRelIso04_all\"] < 0.4',\n",
    "                                 ] ,\n",
    "                                 # dxy for pT < 20 GeV\n",
    "                                 'muon_col[\"pt\"] <= 20.0' :\n",
    "                                 [\n",
    "                                    'abs(muon_col[\"dxy\"]) < 0.01 ' ,\n",
    "                                 ] ,\n",
    "                                 # dxy for pT > 20 GeV\n",
    "                                 'muon_col[\"pt\"] > 20.0' :\n",
    "                                 [\n",
    "                                    'abs(muon_col[\"dxy\"]) < 0.02 ' ,\n",
    "                                 ] ,\n",
    "                                  } ,}"
   ]
  },
  {
   "cell_type": "code",
   "execution_count": 56,
   "id": "ae354979-d1bf-4d3e-a9fb-9d7f53604185",
   "metadata": {},
   "outputs": [],
   "source": [
    "MuonWP ={ 'VetoObjWP' : { \n",
    "      'HLTsafe' : {\n",
    "                         'cuts' : { \n",
    "                                # Common cuts\n",
    "                                'True' :\n",
    "                                 [\n",
    "                                   'abs(muon_col[LF_idx][\"eta\"]) < 2.4' , \n",
    "                                   'muon_col[LF_idx][\"pt\"] > 10.0' ,\n",
    "                                 ]\n",
    "                                  } ,\n",
    "                   }\n",
    "               } ,\n",
    "\n",
    " # ------------ \n",
    " 'FakeObjWP'  : {\n",
    "\n",
    "      'HLTsafe' : {\n",
    "                         'cuts' : { \n",
    "                                # Common cuts\n",
    "                                'True' :\n",
    "                                 [\n",
    "                                   'abs(muon_col[LF_idx][\"eta\"]) < 2.4' , \n",
    "                                   'muon_col[LF_idx][\"tightId\"] == 1' ,\n",
    "                                   'abs(muon_col[LF_idx][\"dz\"]) < 0.1' ,\n",
    "                                   'muon_col[LF_idx][\"pfRelIso04_all\"] < 0.4',\n",
    "                                 ] ,\n",
    "                                 # dxy for pT < 20 GeV\n",
    "                                 'muon_col[LF_idx][\"pt\"] <= 20.0' :\n",
    "                                 [\n",
    "                                    'abs(muon_col[LF_idx][\"dxy\"]) < 0.01 ' ,\n",
    "                                 ] ,\n",
    "                                 # dxy for pT > 20 GeV\n",
    "                                 'muon_col[LF_idx][\"pt\"] > 20.0' :\n",
    "                                 [\n",
    "                                    'abs(muon_col[LF_idx][\"dxy\"]) < 0.02 ' ,\n",
    "                                 ] ,\n",
    "                                  } ,\n",
    "\n",
    "                       } ,\n",
    "                 \n",
    "                 } ,\n",
    "\n",
    " # ------------ \n",
    " 'TightObjWP' :  {\n",
    "\n",
    "      'cut_Tight_HWWW' : {\n",
    "                         'cuts' : { \n",
    "                                # Common cuts\n",
    "                                'True' :\n",
    "                                 [ \n",
    "                                   'abs(muon_col[LF_idx][\"eta\"]) < 2.4' ,\n",
    "                                   'muon_col[LF_idx][\"tightId\"] == 1' ,\n",
    "                                   'abs(muon_col[LF_idx][\"dz\"]) < 0.1' ,\n",
    "                                   'muon_col[LF_idx][\"pfRelIso04_all\"] < 0.15',\n",
    "                                 ] ,\n",
    "                                 # dxy for pT < 20 GeV\n",
    "                                 'muon_col[LF_idx][\"pt\"] <= 20.0' :\n",
    "                                 [\n",
    "                                    'abs(muon_col[LF_idx][\"dxy\"]) < 0.01 ' ,\n",
    "                                 ] ,\n",
    "                                 # dxy for pT > 20 GeV\n",
    "                                 'muon_col[LF_idx][\"pt\"] > 20.0' :\n",
    "                                 [\n",
    "                                    'abs(muon_col[LF_idx][\"dxy\"]) < 0.02 ' ,\n",
    "                                 ] ,\n",
    "                                  } ,\n",
    "                         'idSF':  {\n",
    "                                    '1-1' : [ 'LatinoAnalysis/NanoGardener/python/data/scale_factor/Full2018v9/NUM_TightHWW_DEN_TrackerMuons_eta_pt.root'],\n",
    "                                  } ,\n",
    "                         'isoSF': {\n",
    "                                    '1-1' : [ 'LatinoAnalysis/NanoGardener/python/data/scale_factor/Full2018v9/NUM_TightHWW_ISO_DEN_TightHWW_eta_pt.root'],\n",
    "                                  } ,\n",
    "                         'fakeW' : '/LatinoAnalysis/NanoGardener/python/data/fake_prompt_rates/Full2018v9/cut_Tight_HWWW/',\n",
    "\n",
    "                       } ,\n",
    " }}\n",
    "\n"
   ]
  },
  {
   "cell_type": "code",
   "execution_count": 57,
   "id": "54ebd6dc-b236-4af2-8dee-25ed720eb94a",
   "metadata": {},
   "outputs": [
    {
     "data": {
      "text/plain": [
       "{'cuts': {'True': ['abs(muon_col[LF_idx][\"eta\"]) < 2.4',\n",
       "   'muon_col[LF_idx][\"tightId\"] == 1',\n",
       "   'abs(muon_col[LF_idx][\"dz\"]) < 0.1',\n",
       "   'muon_col[LF_idx][\"pfRelIso04_all\"] < 0.15'],\n",
       "  'muon_col[LF_idx][\"pt\"] <= 20.0': ['abs(muon_col[LF_idx][\"dxy\"]) < 0.01 '],\n",
       "  'muon_col[LF_idx][\"pt\"] > 20.0': ['abs(muon_col[LF_idx][\"dxy\"]) < 0.02 ']},\n",
       " 'idSF': {'1-1': ['LatinoAnalysis/NanoGardener/python/data/scale_factor/Full2018v9/NUM_TightHWW_DEN_TrackerMuons_eta_pt.root']},\n",
       " 'isoSF': {'1-1': ['LatinoAnalysis/NanoGardener/python/data/scale_factor/Full2018v9/NUM_TightHWW_ISO_DEN_TightHWW_eta_pt.root']},\n",
       " 'fakeW': '/LatinoAnalysis/NanoGardener/python/data/fake_prompt_rates/Full2018v9/cut_Tight_HWWW/'}"
      ]
     },
     "execution_count": 57,
     "metadata": {},
     "output_type": "execute_result"
    }
   ],
   "source": [
    "MuonWP['TightObjWP']['cut_Tight_HWWW']"
   ]
  },
  {
   "cell_type": "code",
   "execution_count": 26,
   "id": "b56bb0cc-d597-4437-9322-bc1ea35b626c",
   "metadata": {},
   "outputs": [
    {
     "data": {
      "text/plain": [
       "{'True': ['abs(muon_col[\"eta\"]) < 2.4',\n",
       "  'muon_col[\"tightId\"] == 1',\n",
       "  'abs(muon_col[\"dz\"]) < 0.1',\n",
       "  'muon_col[\"pfRelIso04_all\"] < 0.4'],\n",
       " 'muon_col[\"pt\"] <= 20.0': ['abs(muon_col[\"dxy\"]) < 0.01 '],\n",
       " 'muon_col[\"pt\"] > 20.0': ['abs(muon_col[\"dxy\"]) < 0.02 ']}"
      ]
     },
     "execution_count": 26,
     "metadata": {},
     "output_type": "execute_result"
    }
   ],
   "source": [
    "cuts_muon['cuts']"
   ]
  },
  {
   "cell_type": "code",
   "execution_count": 65,
   "id": "87349596-51cf-4cd1-b000-80d145395520",
   "metadata": {},
   "outputs": [],
   "source": [
    "import sys"
   ]
  },
  {
   "cell_type": "code",
   "execution_count": 67,
   "id": "3c4e15a8-e10a-435b-8f6e-b1889d431ad6",
   "metadata": {},
   "outputs": [],
   "source": [
    "sys.path.insert(0, '/gwpool/users/gpizzati/test_processor/my_processor')\n",
    "sys.path.insert(0, '/gwpool/users/gpizzati/test_processor/my_processor/data/2018')"
   ]
  },
  {
   "cell_type": "code",
   "execution_count": 68,
   "id": "59c59b43-7fdf-4983-b34a-9b694402a203",
   "metadata": {},
   "outputs": [],
   "source": [
    "import LeptonSel"
   ]
  },
  {
   "cell_type": "code",
   "execution_count": 70,
   "id": "b28b0ae2-6a84-4532-8303-0272c3455e20",
   "metadata": {},
   "outputs": [],
   "source": [
    "year = 'Full2018v9'\n",
    "ElectronWP = LeptonSel.ElectronWP[year]\n",
    "MuonWP = LeptonSel.MuonWP[year]"
   ]
  },
  {
   "cell_type": "code",
   "execution_count": 72,
   "id": "fabfa7db-9f2b-4c5d-ace9-901dd9cda643",
   "metadata": {},
   "outputs": [
    {
     "data": {
      "text/plain": [
       "{'VetoObjWP': {'HLTsafe': {'cuts': {'True': ['False']}}},\n",
       " 'FakeObjWP': {'HLTsafe': {'cuts': {'True': ['abs(electron_col[LF_idx][\"eta\"]) < 2.5',\n",
       "     'electron_col[LF_idx][\"cutBased\"] >= 3',\n",
       "     'electron_col[LF_idx][\"convVeto\"] == 1'],\n",
       "    'abs(electron_col[LF_idx][\"eta\"]) <= 1.479': ['abs(electron_col[LF_idx][\"dxy\"]) < 0.05',\n",
       "     'abs(electron_col[LF_idx][\"dz\"]) < 0.1'],\n",
       "    'abs(electron_col[LF_idx][\"eta\"]) > 1.479': ['electron_col[LF_idx][\"sieie\"] < 0.03 ',\n",
       "     'abs(electron_col[LF_idx][\"eInvMinusPInv\"]) < 0.014',\n",
       "     'abs(electron_col[LF_idx][\"dxy\"]) < 0.1',\n",
       "     'abs(electron_col[LF_idx][\"dz\"]) < 0.2']}}},\n",
       " 'TightObjWP': {'mvaFall17V2Iso_WP90': {'cuts': {'True': ['abs(electron_col[LF_idx][\"eta\"]) < 2.5',\n",
       "     'electron_col[LF_idx][\"mvaFall17V2Iso_WP90\"]',\n",
       "     'electron_col[LF_idx][\"convVeto\"] == 1',\n",
       "     'electron_col[LF_idx][\"pfRelIso03_all\"] < 0.06'],\n",
       "    'abs(electron_col[LF_idx][\"eta\"]) <= 1.479': ['abs(electron_col[LF_idx][\"dxy\"]) < 0.05',\n",
       "     'abs(electron_col[LF_idx][\"dz\"]) < 0.1'],\n",
       "    'abs(electron_col[LF_idx][\"eta\"]) > 1.479': ['abs(electron_col[LF_idx][\"dxy\"]) < 0.1',\n",
       "     'abs(electron_col[LF_idx][\"dz\"]) < 0.2']},\n",
       "   'tkSF': {'1-1': '/cvmfs/cms.cern.ch/rsync/cms-nanoAOD/jsonpog-integration/POG/EGM/2018_UL/electron.json.gz'},\n",
       "   'wpSF': {'1-1': 'LatinoAnalysis/NanoGardener/python/data/scale_factor/Full2018v9/egammaEffi_TightHWW_2018.txt'},\n",
       "   'fakeW': '/LatinoAnalysis/NanoGardener/python/data/fake_prompt_rates/Full2018v9/mvaFall17V2Iso_WP90/'}}}"
      ]
     },
     "execution_count": 72,
     "metadata": {},
     "output_type": "execute_result"
    }
   ],
   "source": [
    "ElectronWP"
   ]
  },
  {
   "cell_type": "code",
   "execution_count": 76,
   "id": "edcf4088-36c5-4a6b-a802-2eb4bc96a372",
   "metadata": {},
   "outputs": [
    {
     "name": "stdout",
     "output_type": "stream",
     "text": [
      "The history saving thread hit an unexpected error (OperationalError('disk I/O error')).History will not be written to the database.\n"
     ]
    },
    {
     "ename": "AttributeError",
     "evalue": "module 'awkward' has no attribute 'none_like'",
     "output_type": "error",
     "traceback": [
      "\u001b[0;31m---------------------------------------------------------------------------\u001b[0m",
      "\u001b[0;31mAttributeError\u001b[0m                            Traceback (most recent call last)",
      "Cell \u001b[0;32mIn[76], line 1\u001b[0m\n\u001b[0;32m----> 1\u001b[0m \u001b[43mak\u001b[49m\u001b[38;5;241;43m.\u001b[39;49m\u001b[43mnone_like\u001b[49m\n",
      "\u001b[0;31mAttributeError\u001b[0m: module 'awkward' has no attribute 'none_like'"
     ]
    }
   ],
   "source": [
    "ak.none_like"
   ]
  },
  {
   "cell_type": "code",
   "execution_count": 75,
   "id": "ce8dab0c-7c80-4950-a135-eabef0d7a7c5",
   "metadata": {},
   "outputs": [
    {
     "data": {
      "text/html": [
       "<pre>[[],\n",
       " [],\n",
       " [0],\n",
       " [0],\n",
       " [0, 1],\n",
       " [],\n",
       " [],\n",
       " [],\n",
       " [0],\n",
       " [],\n",
       " ...,\n",
       " [0],\n",
       " [],\n",
       " [0, 1, 2],\n",
       " [0],\n",
       " [],\n",
       " [0, 1],\n",
       " [],\n",
       " [0, 1, 2],\n",
       " []]\n",
       "-------------------------\n",
       "type: 10000 * var * int64</pre>"
      ],
      "text/plain": [
       "<Array [[], [], [0], [0], ..., [], [0, 1, 2], []] type='10000 * var * int64'>"
      ]
     },
     "execution_count": 75,
     "metadata": {},
     "output_type": "execute_result"
    }
   ],
   "source": [
    "ak.concatenate([ak.local_index(events.Electron)], axis=1)"
   ]
  },
  {
   "cell_type": "code",
   "execution_count": 62,
   "id": "f8666fd4-6e53-470d-ad97-d983eedb0491",
   "metadata": {},
   "outputs": [],
   "source": [
    "def test(events):\n",
    "    electron_col = events.Electron\n",
    "    \n",
    "    muon_col = events.Muon\n",
    "    for wp in MuonWP['FakeObjWP']:\n",
    "        comb = ak.ones_like(muon_col.pt) == 1.0\n",
    "        for key, cuts in MuonWP['FakeObjWP'][wp]['cuts'].items():\n",
    "            tmp1 = eval(key.replace(\"[LF_idx]\", \"\"))\n",
    "            tmp2 = ak.ones_like(muon_col.pt) == 1.0\n",
    "            for cut in cuts:\n",
    "                tmp2 = tmp2 & eval(cut.replace(\"[LF_idx]\", \"\"))\n",
    "            comb = comb & (~tmp1 | tmp2)\n",
    "        muon_col['isLoose'] = ak.values_astype(comb, bool)\n",
    "        \n",
    "    for wp in MuonWP['TightObjWP']:\n",
    "        comb = ak.ones_like(muon_col.pt) == 1.0\n",
    "        for key, cuts in MuonWP['TightObjWP'][wp]['cuts'].items():\n",
    "            tmp1 = eval(key.replace(\"[LF_idx]\", \"\"))\n",
    "            tmp2 = ak.ones_like(muon_col.pt) == 1.0\n",
    "            for cut in cuts:\n",
    "                tmp2 = tmp2 & eval(cut.replace(\"[LF_idx]\", \"\"))\n",
    "            comb = comb & (~tmp1 | tmp2)\n",
    "        muon_col['isTightMuon_' + wp] = ak.values_astype(comb, bool)\n",
    "        \n",
    "    return muon_col"
   ]
  },
  {
   "cell_type": "code",
   "execution_count": 63,
   "id": "2fe07548-6167-43e2-9f69-7fe33f0c28c1",
   "metadata": {},
   "outputs": [
    {
     "data": {
      "text/html": [
       "<pre>[[27.5],\n",
       " [],\n",
       " [],\n",
       " [],\n",
       " [],\n",
       " [57.3],\n",
       " [],\n",
       " [71.9, 46.9],\n",
       " [],\n",
       " [69, 61.7],\n",
       " ...,\n",
       " [],\n",
       " [],\n",
       " [],\n",
       " [],\n",
       " [111],\n",
       " [],\n",
       " [],\n",
       " [],\n",
       " []]\n",
       "---------------------------\n",
       "type: 10000 * var * float32</pre>"
      ],
      "text/plain": [
       "<Array [[27.5], [], [], [], ..., [], [], [], []] type='10000 * var * float32'>"
      ]
     },
     "execution_count": 63,
     "metadata": {},
     "output_type": "execute_result"
    }
   ],
   "source": [
    "events.Muon[test(events).isTightMuon_cut_Tight_HWWW].pt"
   ]
  },
  {
   "cell_type": "code",
   "execution_count": 64,
   "id": "f31521a4-aecf-4797-a01c-d485725a1feb",
   "metadata": {},
   "outputs": [
    {
     "data": {
      "text/html": [
       "<pre>[[27.5],\n",
       " [],\n",
       " [],\n",
       " [],\n",
       " [],\n",
       " [57.3, 55.5],\n",
       " [],\n",
       " [71.9, 46.9],\n",
       " [],\n",
       " [69, 61.7],\n",
       " ...,\n",
       " [],\n",
       " [],\n",
       " [],\n",
       " [],\n",
       " [111],\n",
       " [],\n",
       " [],\n",
       " [],\n",
       " []]\n",
       "---------------------------\n",
       "type: 10000 * var * float32</pre>"
      ],
      "text/plain": [
       "<Array [[27.5], [], [], [], ..., [], [], [], []] type='10000 * var * float32'>"
      ]
     },
     "execution_count": 64,
     "metadata": {},
     "output_type": "execute_result"
    }
   ],
   "source": [
    "events.Muon[test(events).isLoose].pt"
   ]
  },
  {
   "cell_type": "code",
   "execution_count": 11,
   "id": "2626b5ff-8ec3-4c6e-8486-de18dfb04f41",
   "metadata": {},
   "outputs": [],
   "source": []
  },
  {
   "cell_type": "code",
   "execution_count": 13,
   "id": "369ce934-5f72-422c-b9ae-ed61afd0099d",
   "metadata": {},
   "outputs": [
    {
     "ename": "KeyInFileError",
     "evalue": "not found: 'EMTFbug_veto'\n\n    Available keys: 'Electron_eta', 'Electron_dz', 'Electron_pt', 'Electron_r9', 'Electron_convVeto', 'Electron_dxy', 'Electron_hoe', 'Electron_phi', 'Electron_eCorr', 'Electron_ip3d', 'Electron_mass', 'Electron_jetIdx', 'Electron_dzErr'...\n\nin file root://ccxrdcms.in2p3.fr:1094/pnfs/in2p3.fr/data/cms/disk/data//store/mc/RunIISummer20UL18NanoAODv9/EWK_LLJJ_MLL-50_MJJ-120_TuneCP5_13TeV-madgraph-pythia8_dipole/NANOAODSIM/106X_upgrade2018_realistic_v16_L1v1-v1/40000/3BF5756A-131F-8C4C-9CFC-71B15EDB9351.root\nin object /Events;1",
     "output_type": "error",
     "traceback": [
      "\u001b[0;31m---------------------------------------------------------------------------\u001b[0m",
      "\u001b[0;31mKeyInFileError\u001b[0m                            Traceback (most recent call last)",
      "Cell \u001b[0;32mIn[13], line 1\u001b[0m\n\u001b[0;32m----> 1\u001b[0m \u001b[43mbranch\u001b[49m\u001b[43m(\u001b[49m\u001b[38;5;124;43m'\u001b[39;49m\u001b[38;5;124;43mEMTFbug_veto\u001b[39;49m\u001b[38;5;124;43m'\u001b[39;49m\u001b[43m)\u001b[49m\n",
      "Cell \u001b[0;32mIn[11], line 2\u001b[0m, in \u001b[0;36mbranch\u001b[0;34m(name)\u001b[0m\n\u001b[1;32m      1\u001b[0m \u001b[38;5;28;01mdef\u001b[39;00m \u001b[38;5;21mbranch\u001b[39m(name):\n\u001b[0;32m----> 2\u001b[0m     \u001b[38;5;28;01mreturn\u001b[39;00m \u001b[43mtree\u001b[49m\u001b[43m[\u001b[49m\u001b[43mname\u001b[49m\u001b[43m]\u001b[49m\u001b[38;5;241m.\u001b[39marray(entry_stop\u001b[38;5;241m=\u001b[39m\u001b[38;5;241m10_000\u001b[39m)\n",
      "File \u001b[0;32m~/mambaforge/envs/test_uproot/lib/python3.10/site-packages/uproot/behaviors/TBranch.py:1646\u001b[0m, in \u001b[0;36mHasBranches.__getitem__\u001b[0;34m(self, where)\u001b[0m\n\u001b[1;32m   1644\u001b[0m         \u001b[38;5;28;01mreturn\u001b[39;00m got\n\u001b[1;32m   1645\u001b[0m     \u001b[38;5;28;01melse\u001b[39;00m:\n\u001b[0;32m-> 1646\u001b[0m         \u001b[38;5;28;01mraise\u001b[39;00m uproot\u001b[38;5;241m.\u001b[39mKeyInFileError(\n\u001b[1;32m   1647\u001b[0m             original_where,\n\u001b[1;32m   1648\u001b[0m             keys\u001b[38;5;241m=\u001b[39m\u001b[38;5;28mself\u001b[39m\u001b[38;5;241m.\u001b[39mkeys(recursive\u001b[38;5;241m=\u001b[39mrecursive),\n\u001b[1;32m   1649\u001b[0m             file_path\u001b[38;5;241m=\u001b[39m\u001b[38;5;28mself\u001b[39m\u001b[38;5;241m.\u001b[39m_file\u001b[38;5;241m.\u001b[39mfile_path,\n\u001b[1;32m   1650\u001b[0m             object_path\u001b[38;5;241m=\u001b[39m\u001b[38;5;28mself\u001b[39m\u001b[38;5;241m.\u001b[39mobject_path,\n\u001b[1;32m   1651\u001b[0m         )\n\u001b[1;32m   1653\u001b[0m \u001b[38;5;28;01melse\u001b[39;00m:\n\u001b[1;32m   1654\u001b[0m     \u001b[38;5;28;01mraise\u001b[39;00m uproot\u001b[38;5;241m.\u001b[39mKeyInFileError(\n\u001b[1;32m   1655\u001b[0m         original_where,\n\u001b[1;32m   1656\u001b[0m         keys\u001b[38;5;241m=\u001b[39m\u001b[38;5;28mself\u001b[39m\u001b[38;5;241m.\u001b[39mkeys(recursive\u001b[38;5;241m=\u001b[39mrecursive),\n\u001b[1;32m   1657\u001b[0m         file_path\u001b[38;5;241m=\u001b[39m\u001b[38;5;28mself\u001b[39m\u001b[38;5;241m.\u001b[39m_file\u001b[38;5;241m.\u001b[39mfile_path,\n\u001b[1;32m   1658\u001b[0m         object_path\u001b[38;5;241m=\u001b[39m\u001b[38;5;28mself\u001b[39m\u001b[38;5;241m.\u001b[39mobject_path,\n\u001b[1;32m   1659\u001b[0m     )\n",
      "\u001b[0;31mKeyInFileError\u001b[0m: not found: 'EMTFbug_veto'\n\n    Available keys: 'Electron_eta', 'Electron_dz', 'Electron_pt', 'Electron_r9', 'Electron_convVeto', 'Electron_dxy', 'Electron_hoe', 'Electron_phi', 'Electron_eCorr', 'Electron_ip3d', 'Electron_mass', 'Electron_jetIdx', 'Electron_dzErr'...\n\nin file root://ccxrdcms.in2p3.fr:1094/pnfs/in2p3.fr/data/cms/disk/data//store/mc/RunIISummer20UL18NanoAODv9/EWK_LLJJ_MLL-50_MJJ-120_TuneCP5_13TeV-madgraph-pythia8_dipole/NANOAODSIM/106X_upgrade2018_realistic_v16_L1v1-v1/40000/3BF5756A-131F-8C4C-9CFC-71B15EDB9351.root\nin object /Events;1"
     ]
    }
   ],
   "source": []
  },
  {
   "cell_type": "code",
   "execution_count": 5,
   "id": "93006d39-8bce-4db2-94df-66f6462cb5a1",
   "metadata": {},
   "outputs": [
    {
     "name": "stderr",
     "output_type": "stream",
     "text": [
      "\n",
      "KeyboardInterrupt\n",
      "\n"
     ]
    }
   ],
   "source": [
    "events = uproot.concatenate({'': 'Events'})"
   ]
  },
  {
   "cell_type": "code",
   "execution_count": null,
   "id": "921d27dd-77cc-44e5-8fe0-d79db7753221",
   "metadata": {},
   "outputs": [],
   "source": []
  },
  {
   "cell_type": "code",
   "execution_count": null,
   "id": "1af5b891-b477-4886-aaad-12b736053d53",
   "metadata": {},
   "outputs": [],
   "source": [
    "EMTFbug_veto"
   ]
  },
  {
   "cell_type": "code",
   "execution_count": null,
   "id": "7b41420d-829c-45d2-aa1b-3cdfa56ff1ec",
   "metadata": {},
   "outputs": [],
   "source": []
  },
  {
   "cell_type": "code",
   "execution_count": 2,
   "id": "9b00b0e8-997d-4a92-8eda-63ec60e00a82",
   "metadata": {},
   "outputs": [],
   "source": [
    "url = 'https://github.com/latinos/LatinoAnalysis/raw/UL_production/NanoGardener/python/data/scale_factor/Full2018v9/NUM_TightHWW_DEN_TrackerMuons_eta_pt.root'\n",
    "with open('test_sf.root', 'wb') as file:\n",
    "    file.write(requests.get(url).content)"
   ]
  },
  {
   "cell_type": "code",
   "execution_count": 3,
   "id": "cf2985a1-da22-4002-b676-0a639d84c3b6",
   "metadata": {},
   "outputs": [],
   "source": [
    "f = uproot.open('test_sf.root')"
   ]
  },
  {
   "cell_type": "code",
   "execution_count": 4,
   "id": "c6eae679-b863-4d36-9045-278f010aa7c8",
   "metadata": {},
   "outputs": [],
   "source": [
    "h = f['NUM_TightHWW_DEN_TrackerMuons_eta_pt'].to_hist()"
   ]
  },
  {
   "cell_type": "code",
   "execution_count": 5,
   "id": "e1a3f732-2326-4a44-9e67-f16513f01393",
   "metadata": {},
   "outputs": [
    {
     "data": {
      "text/plain": [
       "array([-2.4, -2.1, -1.6, -1.2, -0.8, -0.3, -0.2,  0. ,  0.2,  0.3,  0.8,\n",
       "        1.2,  1.6,  2.1,  2.4])"
      ]
     },
     "execution_count": 5,
     "metadata": {},
     "output_type": "execute_result"
    }
   ],
   "source": [
    "h.axes[0].edges"
   ]
  },
  {
   "cell_type": "code",
   "execution_count": 6,
   "id": "0f033405-a599-460f-bf3a-1acedb231101",
   "metadata": {},
   "outputs": [],
   "source": [
    "axis = [hist.axis.Variable(axis.edges, name=name) for axis, name in zip(h.axes, ['eta', 'pt'])]"
   ]
  },
  {
   "cell_type": "code",
   "execution_count": 7,
   "id": "ba25e76c-bd71-4f0b-bafb-c31473ff850d",
   "metadata": {},
   "outputs": [
    {
     "data": {
      "text/plain": [
       "[Variable([-2.4, -2.1, -1.6, -1.2, -0.8, -0.3, -0.2, 0, 0.2, 0.3, 0.8, 1.2, 1.6, 2.1, 2.4], name='eta'),\n",
       " Variable([10, 15, 20, 25, 30, 40, 60, 100, 200], name='pt')]"
      ]
     },
     "execution_count": 7,
     "metadata": {},
     "output_type": "execute_result"
    }
   ],
   "source": [
    "axis"
   ]
  },
  {
   "cell_type": "code",
   "execution_count": 8,
   "id": "720b322c-f90d-421c-9182-0f465c02d26b",
   "metadata": {},
   "outputs": [],
   "source": [
    "data = np.array([h.values(), np.sqrt(h.variances())])"
   ]
  },
  {
   "cell_type": "code",
   "execution_count": 9,
   "id": "94babd1a-67be-4ff3-8403-de019a9eb33b",
   "metadata": {},
   "outputs": [],
   "source": [
    "h_sf = hist.Hist(hist.axis.StrCategory(['nominal', 'syst'], name='syst'), *axis, data=data)"
   ]
  },
  {
   "cell_type": "code",
   "execution_count": 10,
   "id": "ae2680f7-dcad-449d-96a4-a5805caa8ae3",
   "metadata": {},
   "outputs": [],
   "source": [
    "h_sf.name = 'Muon SF'\n",
    "h_sf.label='out'"
   ]
  },
  {
   "cell_type": "code",
   "execution_count": 11,
   "id": "397245df-1ff8-45dd-aaa1-b58a8bd6c22c",
   "metadata": {},
   "outputs": [],
   "source": [
    "cset = correctionlib.convert.from_histogram(h_sf)"
   ]
  },
  {
   "cell_type": "code",
   "execution_count": 12,
   "id": "6dfcc099-948c-423f-901a-cc0baf4fb661",
   "metadata": {},
   "outputs": [
    {
     "data": {
      "text/html": [
       "<pre style=\"white-space:pre;overflow-x:auto;line-height:normal;font-family:Menlo,'DejaVu Sans Mono',consolas,'Courier New',monospace\">📈 <span style=\"font-weight: bold\">Muon SF</span> <span style=\"font-weight: bold\">(</span>v0<span style=\"font-weight: bold\">)</span>\n",
       "<span style=\"font-style: italic\">No description</span>\n",
       "Node counts: <span style=\"font-weight: bold\">Category</span>: <span style=\"color: #008080; text-decoration-color: #008080; font-weight: bold\">1</span>, <span style=\"font-weight: bold\">MultiBinning</span>: <span style=\"color: #008080; text-decoration-color: #008080; font-weight: bold\">2</span>\n",
       "╭─────── ▶ input ───────╮ ╭───── ▶ input ──────╮ ╭────── ▶ input ───────╮\n",
       "│ <span style=\"font-weight: bold\">syst</span> (string)         │ │ <span style=\"font-weight: bold\">eta</span> (real)         │ │ <span style=\"font-weight: bold\">pt</span> (real)            │\n",
       "│ syst                  │ │ eta                │ │ pt                   │\n",
       "│ Values: nominal, syst │ │ Range: [-2.4, 2.4) │ │ Range: [10.0, 200.0) │\n",
       "╰───────────────────────╯ ╰────────────────────╯ ╰──────────────────────╯\n",
       "╭─── ◀ output ───╮\n",
       "│ <span style=\"font-weight: bold\">out</span> (real)     │\n",
       "│ <span style=\"font-style: italic\">No description</span> │\n",
       "╰────────────────╯\n",
       "</pre>\n"
      ],
      "text/plain": [
       "📈 \u001b[1mMuon SF\u001b[0m \u001b[1m(\u001b[0mv0\u001b[1m)\u001b[0m\n",
       "\u001b[3mNo description\u001b[0m\n",
       "Node counts: \u001b[1mCategory\u001b[0m: \u001b[1;36m1\u001b[0m, \u001b[1mMultiBinning\u001b[0m: \u001b[1;36m2\u001b[0m\n",
       "╭─────── ▶ input ───────╮ ╭───── ▶ input ──────╮ ╭────── ▶ input ───────╮\n",
       "│ \u001b[1msyst\u001b[0m (string)         │ │ \u001b[1meta\u001b[0m (real)         │ │ \u001b[1mpt\u001b[0m (real)            │\n",
       "│ syst                  │ │ eta                │ │ pt                   │\n",
       "│ Values: nominal, syst │ │ Range: [-2.4, 2.4) │ │ Range: [10.0, 200.0) │\n",
       "╰───────────────────────╯ ╰────────────────────╯ ╰──────────────────────╯\n",
       "╭─── ◀ output ───╮\n",
       "│ \u001b[1mout\u001b[0m (real)     │\n",
       "│ \u001b[3mNo description\u001b[0m │\n",
       "╰────────────────╯\n"
      ]
     },
     "metadata": {},
     "output_type": "display_data"
    }
   ],
   "source": [
    "rich.print(cset)"
   ]
  },
  {
   "cell_type": "code",
   "execution_count": 13,
   "id": "ad1d60c2-4e88-4303-907e-08a1b2ddf0dc",
   "metadata": {},
   "outputs": [
    {
     "name": "stdout",
     "output_type": "stream",
     "text": [
      "0.9943716526031494 0.0020353191106662998\n",
      "0.9943716526031494 0.0020353191106663\n"
     ]
    }
   ],
   "source": [
    "ceval = cset.to_evaluator()\n",
    "veta = 1.5\n",
    "vpt = 15.0\n",
    "point = h[hist.loc(veta), hist.loc(vpt)]\n",
    "print(point.value, np.sqrt(point.variance))\n",
    "args = (veta, vpt)\n",
    "print(ceval.evaluate('nominal', *args), ceval.evaluate('syst', *args))"
   ]
  },
  {
   "cell_type": "code",
   "execution_count": 15,
   "id": "9727c81e-9de4-4be3-9b8a-221bc99926fb",
   "metadata": {},
   "outputs": [],
   "source": [
    "cset_muon = cset"
   ]
  },
  {
   "cell_type": "code",
   "execution_count": null,
   "id": "ba2a6a23-528d-4fd7-a97d-ad3102ead703",
   "metadata": {},
   "outputs": [],
   "source": []
  },
  {
   "cell_type": "code",
   "execution_count": 19,
   "id": "6b5c14b2-ecee-453d-8ea7-94917c7f00e2",
   "metadata": {},
   "outputs": [],
   "source": [
    "with open('test_sf.txt', 'w') as file:\n",
    "    file.write(requests.get('https://raw.githubusercontent.com/latinos/LatinoAnalysis/UL_production/NanoGardener/python/data/scale_factor/Full2018v9/egammaEffi_TightHWW_2018.txt').text)"
   ]
  },
  {
   "cell_type": "code",
   "execution_count": 20,
   "id": "433d3e60-5015-4c15-8840-a92fab5d7271",
   "metadata": {},
   "outputs": [],
   "source": [
    "columns = 'effData statErrData systErrData effMC statErrMC systErrMC effDataAltBkg effDataAltSig effMCAltMC effMCTagSel'\n",
    "columns = columns.split(' ')"
   ]
  },
  {
   "cell_type": "code",
   "execution_count": 21,
   "id": "76615875-c8f3-4b1e-b93d-f3d2b4d7ea5c",
   "metadata": {},
   "outputs": [
    {
     "data": {
      "text/html": [
       "<div>\n",
       "<style scoped>\n",
       "    .dataframe tbody tr th:only-of-type {\n",
       "        vertical-align: middle;\n",
       "    }\n",
       "\n",
       "    .dataframe tbody tr th {\n",
       "        vertical-align: top;\n",
       "    }\n",
       "\n",
       "    .dataframe thead th {\n",
       "        text-align: right;\n",
       "    }\n",
       "</style>\n",
       "<table border=\"1\" class=\"dataframe\">\n",
       "  <thead>\n",
       "    <tr style=\"text-align: right;\">\n",
       "      <th></th>\n",
       "      <th>eta_l</th>\n",
       "      <th>eta_h</th>\n",
       "      <th>pt_l</th>\n",
       "      <th>pt_h</th>\n",
       "      <th>effData</th>\n",
       "      <th>statErrData</th>\n",
       "      <th>systErrData</th>\n",
       "      <th>effMC</th>\n",
       "      <th>statErrMC</th>\n",
       "      <th>systErrMC</th>\n",
       "      <th>effDataAltBkg</th>\n",
       "      <th>effDataAltSig</th>\n",
       "      <th>effMCAltMC</th>\n",
       "      <th>effMCTagSel</th>\n",
       "    </tr>\n",
       "  </thead>\n",
       "  <tbody>\n",
       "    <tr>\n",
       "      <th>0</th>\n",
       "      <td>-2.500</td>\n",
       "      <td>-2.000</td>\n",
       "      <td>10.0</td>\n",
       "      <td>15.0</td>\n",
       "      <td>0.223</td>\n",
       "      <td>0.004</td>\n",
       "      <td>0.006</td>\n",
       "      <td>0.193</td>\n",
       "      <td>0.005</td>\n",
       "      <td>0.008</td>\n",
       "      <td>0.218</td>\n",
       "      <td>0.221</td>\n",
       "      <td>0.201</td>\n",
       "      <td>0.193</td>\n",
       "    </tr>\n",
       "    <tr>\n",
       "      <th>1</th>\n",
       "      <td>-2.000</td>\n",
       "      <td>-1.566</td>\n",
       "      <td>10.0</td>\n",
       "      <td>15.0</td>\n",
       "      <td>0.341</td>\n",
       "      <td>0.005</td>\n",
       "      <td>0.013</td>\n",
       "      <td>0.300</td>\n",
       "      <td>0.006</td>\n",
       "      <td>0.003</td>\n",
       "      <td>0.328</td>\n",
       "      <td>0.344</td>\n",
       "      <td>0.302</td>\n",
       "      <td>0.297</td>\n",
       "    </tr>\n",
       "    <tr>\n",
       "      <th>2</th>\n",
       "      <td>-1.566</td>\n",
       "      <td>-1.442</td>\n",
       "      <td>10.0</td>\n",
       "      <td>15.0</td>\n",
       "      <td>0.373</td>\n",
       "      <td>0.015</td>\n",
       "      <td>0.032</td>\n",
       "      <td>0.233</td>\n",
       "      <td>0.012</td>\n",
       "      <td>0.047</td>\n",
       "      <td>0.341</td>\n",
       "      <td>0.378</td>\n",
       "      <td>0.280</td>\n",
       "      <td>0.231</td>\n",
       "    </tr>\n",
       "    <tr>\n",
       "      <th>3</th>\n",
       "      <td>-1.442</td>\n",
       "      <td>-0.800</td>\n",
       "      <td>10.0</td>\n",
       "      <td>15.0</td>\n",
       "      <td>0.452</td>\n",
       "      <td>0.006</td>\n",
       "      <td>0.026</td>\n",
       "      <td>0.357</td>\n",
       "      <td>0.006</td>\n",
       "      <td>0.011</td>\n",
       "      <td>0.428</td>\n",
       "      <td>0.442</td>\n",
       "      <td>0.368</td>\n",
       "      <td>0.357</td>\n",
       "    </tr>\n",
       "    <tr>\n",
       "      <th>4</th>\n",
       "      <td>-0.800</td>\n",
       "      <td>0.000</td>\n",
       "      <td>10.0</td>\n",
       "      <td>15.0</td>\n",
       "      <td>0.353</td>\n",
       "      <td>0.004</td>\n",
       "      <td>0.014</td>\n",
       "      <td>0.364</td>\n",
       "      <td>0.005</td>\n",
       "      <td>0.006</td>\n",
       "      <td>0.339</td>\n",
       "      <td>0.357</td>\n",
       "      <td>0.358</td>\n",
       "      <td>0.361</td>\n",
       "    </tr>\n",
       "    <tr>\n",
       "      <th>...</th>\n",
       "      <td>...</td>\n",
       "      <td>...</td>\n",
       "      <td>...</td>\n",
       "      <td>...</td>\n",
       "      <td>...</td>\n",
       "      <td>...</td>\n",
       "      <td>...</td>\n",
       "      <td>...</td>\n",
       "      <td>...</td>\n",
       "      <td>...</td>\n",
       "      <td>...</td>\n",
       "      <td>...</td>\n",
       "      <td>...</td>\n",
       "      <td>...</td>\n",
       "    </tr>\n",
       "    <tr>\n",
       "      <th>65</th>\n",
       "      <td>0.000</td>\n",
       "      <td>0.800</td>\n",
       "      <td>150.0</td>\n",
       "      <td>500.0</td>\n",
       "      <td>0.897</td>\n",
       "      <td>0.004</td>\n",
       "      <td>0.007</td>\n",
       "      <td>0.899</td>\n",
       "      <td>0.006</td>\n",
       "      <td>0.016</td>\n",
       "      <td>0.889</td>\n",
       "      <td>0.896</td>\n",
       "      <td>0.883</td>\n",
       "      <td>0.899</td>\n",
       "    </tr>\n",
       "    <tr>\n",
       "      <th>66</th>\n",
       "      <td>0.800</td>\n",
       "      <td>1.442</td>\n",
       "      <td>150.0</td>\n",
       "      <td>500.0</td>\n",
       "      <td>0.887</td>\n",
       "      <td>0.005</td>\n",
       "      <td>0.016</td>\n",
       "      <td>0.882</td>\n",
       "      <td>0.007</td>\n",
       "      <td>0.012</td>\n",
       "      <td>0.872</td>\n",
       "      <td>0.888</td>\n",
       "      <td>0.870</td>\n",
       "      <td>0.885</td>\n",
       "    </tr>\n",
       "    <tr>\n",
       "      <th>67</th>\n",
       "      <td>1.442</td>\n",
       "      <td>1.566</td>\n",
       "      <td>150.0</td>\n",
       "      <td>500.0</td>\n",
       "      <td>0.773</td>\n",
       "      <td>0.019</td>\n",
       "      <td>0.027</td>\n",
       "      <td>0.709</td>\n",
       "      <td>0.033</td>\n",
       "      <td>0.033</td>\n",
       "      <td>0.746</td>\n",
       "      <td>0.773</td>\n",
       "      <td>0.739</td>\n",
       "      <td>0.724</td>\n",
       "    </tr>\n",
       "    <tr>\n",
       "      <th>68</th>\n",
       "      <td>1.566</td>\n",
       "      <td>2.000</td>\n",
       "      <td>150.0</td>\n",
       "      <td>500.0</td>\n",
       "      <td>0.883</td>\n",
       "      <td>0.007</td>\n",
       "      <td>0.011</td>\n",
       "      <td>0.893</td>\n",
       "      <td>0.011</td>\n",
       "      <td>0.009</td>\n",
       "      <td>0.872</td>\n",
       "      <td>0.883</td>\n",
       "      <td>0.886</td>\n",
       "      <td>0.899</td>\n",
       "    </tr>\n",
       "    <tr>\n",
       "      <th>69</th>\n",
       "      <td>2.000</td>\n",
       "      <td>2.500</td>\n",
       "      <td>150.0</td>\n",
       "      <td>500.0</td>\n",
       "      <td>0.816</td>\n",
       "      <td>0.010</td>\n",
       "      <td>0.003</td>\n",
       "      <td>0.848</td>\n",
       "      <td>0.017</td>\n",
       "      <td>0.034</td>\n",
       "      <td>0.815</td>\n",
       "      <td>0.813</td>\n",
       "      <td>0.814</td>\n",
       "      <td>0.851</td>\n",
       "    </tr>\n",
       "  </tbody>\n",
       "</table>\n",
       "<p>70 rows × 14 columns</p>\n",
       "</div>"
      ],
      "text/plain": [
       "    eta_l  eta_h   pt_l   pt_h  effData  statErrData  systErrData  effMC  \\\n",
       "0  -2.500 -2.000   10.0   15.0    0.223        0.004        0.006  0.193   \n",
       "1  -2.000 -1.566   10.0   15.0    0.341        0.005        0.013  0.300   \n",
       "2  -1.566 -1.442   10.0   15.0    0.373        0.015        0.032  0.233   \n",
       "3  -1.442 -0.800   10.0   15.0    0.452        0.006        0.026  0.357   \n",
       "4  -0.800  0.000   10.0   15.0    0.353        0.004        0.014  0.364   \n",
       "..    ...    ...    ...    ...      ...          ...          ...    ...   \n",
       "65  0.000  0.800  150.0  500.0    0.897        0.004        0.007  0.899   \n",
       "66  0.800  1.442  150.0  500.0    0.887        0.005        0.016  0.882   \n",
       "67  1.442  1.566  150.0  500.0    0.773        0.019        0.027  0.709   \n",
       "68  1.566  2.000  150.0  500.0    0.883        0.007        0.011  0.893   \n",
       "69  2.000  2.500  150.0  500.0    0.816        0.010        0.003  0.848   \n",
       "\n",
       "    statErrMC  systErrMC  effDataAltBkg  effDataAltSig  effMCAltMC  \\\n",
       "0       0.005      0.008          0.218          0.221       0.201   \n",
       "1       0.006      0.003          0.328          0.344       0.302   \n",
       "2       0.012      0.047          0.341          0.378       0.280   \n",
       "3       0.006      0.011          0.428          0.442       0.368   \n",
       "4       0.005      0.006          0.339          0.357       0.358   \n",
       "..        ...        ...            ...            ...         ...   \n",
       "65      0.006      0.016          0.889          0.896       0.883   \n",
       "66      0.007      0.012          0.872          0.888       0.870   \n",
       "67      0.033      0.033          0.746          0.773       0.739   \n",
       "68      0.011      0.009          0.872          0.883       0.886   \n",
       "69      0.017      0.034          0.815          0.813       0.814   \n",
       "\n",
       "    effMCTagSel  \n",
       "0         0.193  \n",
       "1         0.297  \n",
       "2         0.231  \n",
       "3         0.357  \n",
       "4         0.361  \n",
       "..          ...  \n",
       "65        0.899  \n",
       "66        0.885  \n",
       "67        0.724  \n",
       "68        0.899  \n",
       "69        0.851  \n",
       "\n",
       "[70 rows x 14 columns]"
      ]
     },
     "execution_count": 21,
     "metadata": {},
     "output_type": "execute_result"
    }
   ],
   "source": [
    "df = pd.read_csv('test_sf.txt', sep='\\t', skiprows=3, header=None, names=['eta_l', 'eta_h', 'pt_l', 'pt_h'] + columns)\n",
    "df"
   ]
  },
  {
   "cell_type": "code",
   "execution_count": 22,
   "id": "052be5f6-ee51-4a18-9194-6c60836aa60e",
   "metadata": {},
   "outputs": [],
   "source": [
    "for var in ['eta', 'pt']:\n",
    "    df[var] = list(zip(df[var + '_l'], df[var + '_h']))\n",
    "    del df[var + '_l']\n",
    "    del df[var + '_h']"
   ]
  },
  {
   "cell_type": "code",
   "execution_count": null,
   "id": "1c733d75-64b4-4f85-8ec0-ca2a1cc70ce5",
   "metadata": {},
   "outputs": [],
   "source": []
  },
  {
   "cell_type": "code",
   "execution_count": 23,
   "id": "b8207949-5d3f-422d-97f4-3d073ea56a52",
   "metadata": {},
   "outputs": [],
   "source": [
    "df['sf'] = df['effData']/df['effMC']\n",
    "df['sf_err'] = np.sqrt( (df['statErrData']/df['effData'])**2 + (df['statErrMC']/df['effMC'])**2 ) * df['sf']\n",
    "df['sf_syst'] = np.sqrt( (df['systErrData']/df['effData'])**2 + (df['systErrMC']/df['effMC'])**2 ) * df['sf']"
   ]
  },
  {
   "cell_type": "code",
   "execution_count": null,
   "id": "f434780b-0b6e-43fc-b57f-c7c17a447612",
   "metadata": {},
   "outputs": [],
   "source": []
  },
  {
   "cell_type": "code",
   "execution_count": 24,
   "id": "2855d1e0-a53c-47b5-978e-74c7c018d893",
   "metadata": {},
   "outputs": [
    {
     "name": "stdout",
     "output_type": "stream",
     "text": [
      "[-2.5   -2.    -1.566 -1.442 -0.8    0.     0.8    1.442  1.566  2.\n",
      "  2.5  ]\n",
      "[ 10.  15.  20.  35.  50.  90. 150. 500.]\n"
     ]
    }
   ],
   "source": [
    "eta_bin = np.array(list(map(lambda k: k[0], np.unique(df['eta']))) + [np.unique(df['eta'])[-1][-1]])\n",
    "pt_bin = np.array(list(map(lambda k: k[0], np.unique(df['pt']))) + [np.unique(df['pt'])[-1][-1]])\n",
    "print(eta_bin)\n",
    "print(pt_bin)"
   ]
  },
  {
   "cell_type": "code",
   "execution_count": 26,
   "id": "e04f1bf4-bbc0-4025-844a-cf74036b7025",
   "metadata": {},
   "outputs": [],
   "source": [
    "h = hist.Hist(\n",
    "    hist.axis.StrCategory(['nominal', 'stat', 'syst'], name='syst'),\n",
    "    hist.axis.Variable(eta_bin, name='eta'),\n",
    "    hist.axis.Variable(pt_bin, name='pt'),\n",
    "    hist.storage.Double()\n",
    ")"
   ]
  },
  {
   "cell_type": "code",
   "execution_count": 27,
   "id": "b8f329c1-fd75-4d2a-93c0-a97aa8f2136b",
   "metadata": {},
   "outputs": [],
   "source": [
    "for syst, sf_name in zip(['nominal', 'stat', 'syst'], ['sf', 'sf_err', 'sf_syst']):\n",
    "    for pt_c in (pt_bin[1:] + pt_bin[:-1])/2:\n",
    "        for eta_c in (eta_bin[1:] + eta_bin[:-1])/2:\n",
    "            for i, (ipt, ieta) in enumerate(list(zip(list(df['pt']), list(df['eta'])))):\n",
    "                if (\n",
    "                    ieta[0] <= eta_c < ieta[1]\n",
    "                    and ipt[0] <= pt_c < ipt[1]\n",
    "                ):\n",
    "                    #print(i)\n",
    "                    #print(df['sf'][i], df['sf_err'][i])\n",
    "                    h[hist.loc(syst), hist.loc(eta_c), hist.loc(pt_c)] = df[sf_name][i]"
   ]
  },
  {
   "cell_type": "raw",
   "id": "c22cce1a-29ee-47f3-9106-314fcb5c1a08",
   "metadata": {},
   "source": [
    "pt_bin\n",
    "\n",
    "h[hist.loc('nominal'), hist.loc(2.0), hist.loc(15)] = 5\n",
    "\n",
    "h[hist.loc('nominal'), hist.loc(2.0), hist.loc(15)]\n",
    "\n",
    "#shape = (len(eta_bin)-1, len(pt_bin)-1)\n",
    "shape = (len(pt_bin)-1, len(eta_bin)-1)\n",
    "data = []\n",
    "for sf in ['sf', 'sf_err', 'sf_syst']:\n",
    "    data.append(np.array(df[sf]).reshape(shape).T)\n",
    "data = np.array(data)\n",
    "\n",
    "h = hist.Hist(\n",
    "    hist.axis.StrCategory(['nominal', 'stat', 'syst'], name='syst'),\n",
    "    hist.axis.Variable(eta_bin, name='eta'),\n",
    "    hist.axis.Variable(pt_bin, name='pt'),\n",
    "    data=data)\n",
    "\n",
    "h.values().shape\n",
    "\n",
    "shape"
   ]
  },
  {
   "cell_type": "code",
   "execution_count": 28,
   "id": "f5469b59-33f3-4646-9a68-19af049b4dd8",
   "metadata": {},
   "outputs": [],
   "source": [
    "h.name = 'Electron SF'\n",
    "h.label='out'"
   ]
  },
  {
   "cell_type": "code",
   "execution_count": null,
   "id": "e4005bc9-258d-4250-ab0e-679e0173d78e",
   "metadata": {},
   "outputs": [],
   "source": []
  },
  {
   "cell_type": "code",
   "execution_count": 29,
   "id": "cd20bf32-adfb-428e-a71d-adea1f4c93e8",
   "metadata": {},
   "outputs": [],
   "source": [
    "cset = correctionlib.convert.from_histogram(h)"
   ]
  },
  {
   "cell_type": "code",
   "execution_count": 30,
   "id": "6aa2fda8-3aac-43b4-a4d9-e91f3913e29a",
   "metadata": {},
   "outputs": [
    {
     "data": {
      "text/html": [
       "<pre style=\"white-space:pre;overflow-x:auto;line-height:normal;font-family:Menlo,'DejaVu Sans Mono',consolas,'Courier New',monospace\">📈 <span style=\"font-weight: bold\">Electron SF</span> <span style=\"font-weight: bold\">(</span>v0<span style=\"font-weight: bold\">)</span>\n",
       "<span style=\"font-style: italic\">No description</span>\n",
       "Node counts: <span style=\"font-weight: bold\">Category</span>: <span style=\"color: #008080; text-decoration-color: #008080; font-weight: bold\">1</span>, <span style=\"font-weight: bold\">MultiBinning</span>: <span style=\"color: #008080; text-decoration-color: #008080; font-weight: bold\">3</span>\n",
       "╭────────── ▶ input ──────────╮ ╭───── ▶ input ──────╮ ╭────── ▶ input ───────╮\n",
       "│ <span style=\"font-weight: bold\">syst</span> (string)               │ │ <span style=\"font-weight: bold\">eta</span> (real)         │ │ <span style=\"font-weight: bold\">pt</span> (real)            │\n",
       "│ syst                        │ │ eta                │ │ pt                   │\n",
       "│ Values: nominal, stat, syst │ │ Range: [-2.5, 2.5) │ │ Range: [10.0, 500.0) │\n",
       "╰─────────────────────────────╯ ╰────────────────────╯ ╰──────────────────────╯\n",
       "╭─── ◀ output ───╮\n",
       "│ <span style=\"font-weight: bold\">out</span> (real)     │\n",
       "│ <span style=\"font-style: italic\">No description</span> │\n",
       "╰────────────────╯\n",
       "</pre>\n"
      ],
      "text/plain": [
       "📈 \u001b[1mElectron SF\u001b[0m \u001b[1m(\u001b[0mv0\u001b[1m)\u001b[0m\n",
       "\u001b[3mNo description\u001b[0m\n",
       "Node counts: \u001b[1mCategory\u001b[0m: \u001b[1;36m1\u001b[0m, \u001b[1mMultiBinning\u001b[0m: \u001b[1;36m3\u001b[0m\n",
       "╭────────── ▶ input ──────────╮ ╭───── ▶ input ──────╮ ╭────── ▶ input ───────╮\n",
       "│ \u001b[1msyst\u001b[0m (string)               │ │ \u001b[1meta\u001b[0m (real)         │ │ \u001b[1mpt\u001b[0m (real)            │\n",
       "│ syst                        │ │ eta                │ │ pt                   │\n",
       "│ Values: nominal, stat, syst │ │ Range: [-2.5, 2.5) │ │ Range: [10.0, 500.0) │\n",
       "╰─────────────────────────────╯ ╰────────────────────╯ ╰──────────────────────╯\n",
       "╭─── ◀ output ───╮\n",
       "│ \u001b[1mout\u001b[0m (real)     │\n",
       "│ \u001b[3mNo description\u001b[0m │\n",
       "╰────────────────╯\n"
      ]
     },
     "metadata": {},
     "output_type": "display_data"
    }
   ],
   "source": [
    "rich.print(cset)"
   ]
  },
  {
   "cell_type": "code",
   "execution_count": null,
   "id": "39ddfb67-2b71-4ddf-9022-aab238a2081b",
   "metadata": {},
   "outputs": [],
   "source": []
  },
  {
   "cell_type": "code",
   "execution_count": 31,
   "id": "3f9341f0-1731-493b-bfdc-319a47a21e94",
   "metadata": {},
   "outputs": [],
   "source": []
  },
  {
   "cell_type": "code",
   "execution_count": 32,
   "id": "30c8e4bc-3bdf-4210-80b8-f966a9320cb9",
   "metadata": {},
   "outputs": [
    {
     "name": "stdout",
     "output_type": "stream",
     "text": [
      "0.9565217391304348 0.0020055236878184692\n",
      "25\n",
      "0.9565217391304349 0.0020055236878184692\n"
     ]
    }
   ],
   "source": [
    "ceval = cset.to_evaluator()\n",
    "vpt = 23.0\n",
    "veta = +0.1\n",
    "print(ceval.evaluate('nominal', veta, vpt), ceval.evaluate('stat', veta, vpt))\n",
    "for i, (ipt, ieta) in enumerate(list(zip(list(df['pt']), list(df['eta'])))):\n",
    "    if (\n",
    "        ieta[0] <= veta < ieta[1]\n",
    "        and ipt[0] <= vpt < ipt[1]\n",
    "    ):\n",
    "        print(i)\n",
    "        print(df['sf'][i], df['sf_err'][i])"
   ]
  },
  {
   "cell_type": "code",
   "execution_count": 33,
   "id": "f00d8388-866e-4cbd-8643-973a1637da81",
   "metadata": {},
   "outputs": [],
   "source": [
    "cset_electron = cset"
   ]
  },
  {
   "cell_type": "code",
   "execution_count": 34,
   "id": "c1bfb5bc-7e68-435a-8cd6-75cd859a1bef",
   "metadata": {},
   "outputs": [],
   "source": [
    "cset = correctionlib.schemav2.CorrectionSet(\n",
    "    schema_version=2,\n",
    "    description=\"\",\n",
    "    corrections=[\n",
    "        cset_muon,\n",
    "        cset_electron\n",
    "    ],\n",
    ")"
   ]
  },
  {
   "cell_type": "code",
   "execution_count": 35,
   "id": "6d91c166-97d1-4a0a-ac2e-03dc834bc34f",
   "metadata": {},
   "outputs": [
    {
     "data": {
      "text/html": [
       "<pre style=\"white-space:pre;overflow-x:auto;line-height:normal;font-family:Menlo,'DejaVu Sans Mono',consolas,'Courier New',monospace\"><span style=\"font-weight: bold\">CorrectionSet</span> (<span style=\"font-style: italic\">schema v2</span>)\n",
       "<span style=\"font-style: italic\">No description</span>\n",
       "📂\n",
       "├── 📈 <span style=\"font-weight: bold\">Muon SF</span> (v0)\n",
       "│   <span style=\"font-style: italic\">No description</span>\n",
       "│   Node counts: <span style=\"font-weight: bold\">Category</span>: 1, <span style=\"font-weight: bold\">MultiBinning</span>: 2\n",
       "│   ╭─────── ▶ input ───────╮ ╭───── ▶ input ──────╮ ╭────── ▶ input ───────╮\n",
       "│   │ <span style=\"font-weight: bold\">syst</span> (string)         │ │ <span style=\"font-weight: bold\">eta</span> (real)         │ │ <span style=\"font-weight: bold\">pt</span> (real)            │\n",
       "│   │ syst                  │ │ eta                │ │ pt                   │\n",
       "│   │ Values: nominal, syst │ │ Range: [-2.4, 2.4) │ │ Range: [10.0, 200.0) │\n",
       "│   ╰───────────────────────╯ ╰────────────────────╯ ╰──────────────────────╯\n",
       "│   ╭─── ◀ output ───╮\n",
       "│   │ <span style=\"font-weight: bold\">out</span> (real)     │\n",
       "│   │ <span style=\"font-style: italic\">No description</span> │\n",
       "│   ╰────────────────╯\n",
       "└── 📈 <span style=\"font-weight: bold\">Electron SF</span> (v0)\n",
       "    <span style=\"font-style: italic\">No description</span>\n",
       "    Node counts: <span style=\"font-weight: bold\">Category</span>: 1, <span style=\"font-weight: bold\">MultiBinning</span>: 3\n",
       "    ╭────────── ▶ input ──────────╮ ╭───── ▶ input ──────╮ ╭────── ▶ input ───────╮\n",
       "    │ <span style=\"font-weight: bold\">syst</span> (string)               │ │ <span style=\"font-weight: bold\">eta</span> (real)         │ │ <span style=\"font-weight: bold\">pt</span> (real)            │\n",
       "    │ syst                        │ │ eta                │ │ pt                   │\n",
       "    │ Values: nominal, stat, syst │ │ Range: [-2.5, 2.5) │ │ Range: [10.0, 500.0) │\n",
       "    ╰─────────────────────────────╯ ╰────────────────────╯ ╰──────────────────────╯\n",
       "    ╭─── ◀ output ───╮\n",
       "    │ <span style=\"font-weight: bold\">out</span> (real)     │\n",
       "    │ <span style=\"font-style: italic\">No description</span> │\n",
       "    ╰────────────────╯\n",
       "</pre>\n"
      ],
      "text/plain": [
       "\u001b[1mCorrectionSet\u001b[0m (\u001b[3mschema v2\u001b[0m)\n",
       "\u001b[3mNo description\u001b[0m\n",
       "📂\n",
       "├── 📈 \u001b[1mMuon SF\u001b[0m (v0)\n",
       "│   \u001b[3mNo description\u001b[0m\n",
       "│   Node counts: \u001b[1mCategory\u001b[0m: 1, \u001b[1mMultiBinning\u001b[0m: 2\n",
       "│   ╭─────── ▶ input ───────╮ ╭───── ▶ input ──────╮ ╭────── ▶ input ───────╮\n",
       "│   │ \u001b[1msyst\u001b[0m (string)         │ │ \u001b[1meta\u001b[0m (real)         │ │ \u001b[1mpt\u001b[0m (real)            │\n",
       "│   │ syst                  │ │ eta                │ │ pt                   │\n",
       "│   │ Values: nominal, syst │ │ Range: [-2.4, 2.4) │ │ Range: [10.0, 200.0) │\n",
       "│   ╰───────────────────────╯ ╰────────────────────╯ ╰──────────────────────╯\n",
       "│   ╭─── ◀ output ───╮\n",
       "│   │ \u001b[1mout\u001b[0m (real)     │\n",
       "│   │ \u001b[3mNo description\u001b[0m │\n",
       "│   ╰────────────────╯\n",
       "└── 📈 \u001b[1mElectron SF\u001b[0m (v0)\n",
       "    \u001b[3mNo description\u001b[0m\n",
       "    Node counts: \u001b[1mCategory\u001b[0m: 1, \u001b[1mMultiBinning\u001b[0m: 3\n",
       "    ╭────────── ▶ input ──────────╮ ╭───── ▶ input ──────╮ ╭────── ▶ input ───────╮\n",
       "    │ \u001b[1msyst\u001b[0m (string)               │ │ \u001b[1meta\u001b[0m (real)         │ │ \u001b[1mpt\u001b[0m (real)            │\n",
       "    │ syst                        │ │ eta                │ │ pt                   │\n",
       "    │ Values: nominal, stat, syst │ │ Range: [-2.5, 2.5) │ │ Range: [10.0, 500.0) │\n",
       "    ╰─────────────────────────────╯ ╰────────────────────╯ ╰──────────────────────╯\n",
       "    ╭─── ◀ output ───╮\n",
       "    │ \u001b[1mout\u001b[0m (real)     │\n",
       "    │ \u001b[3mNo description\u001b[0m │\n",
       "    ╰────────────────╯\n"
      ]
     },
     "metadata": {},
     "output_type": "display_data"
    }
   ],
   "source": [
    "rich.print(cset)"
   ]
  },
  {
   "cell_type": "code",
   "execution_count": 39,
   "id": "d73c339c-85ff-4b72-9070-6e2bc64fea8d",
   "metadata": {},
   "outputs": [
    {
     "name": "stdout",
     "output_type": "stream",
     "text": [
      "/gwpool/users/gpizzati\n"
     ]
    }
   ],
   "source": [
    "!pwd"
   ]
  },
  {
   "cell_type": "code",
   "execution_count": 38,
   "id": "2793cd9a-6ea5-427b-ba8f-68809243e1a2",
   "metadata": {},
   "outputs": [
    {
     "name": "stdout",
     "output_type": "stream",
     "text": [
      "btagging.json\n",
      "btagging.json.gz\n",
      "egamma.ea.txt\n",
      "EGM_ScaleUnc.json.gz\n",
      "electron.json.gz\n",
      "jmar.json.gz\n",
      "muon_Z.json.gz\n",
      "new_unc.junc.txt\n",
      "new_unc.txt\n",
      "puWeights.json.gz\n",
      "Regrouped_Summer19UL17_V5_MC_UncertaintySources_AK4PFchs.junc.txt\n",
      "Summer19UL18_JRV2_MC_PtResolution_AK4PFchs.jr.txt\n",
      "Summer19UL18_JRV2_MC_SF_AK4PFchs.jersf.txt\n",
      "Summer19UL18_V5_MC_L1FastJet_AK4PFchs.jec.txt\n",
      "Summer19UL18_V5_MC_L2L3Residual_AK4PFchs.jec.txt\n",
      "Summer19UL18_V5_MC_L2Relative_AK4PFchs.jec.txt\n",
      "Summer19UL18_V5_MC_L3Absolute_AK4PFchs.jec.txt\n",
      "Summer19UL18_V5_MC_Uncertainty_AK4PFchs.junc.txt\n"
     ]
    }
   ],
   "source": [
    "!ls testcoffea/AJJ_coffea_DNN/ajj/data/2018"
   ]
  },
  {
   "cell_type": "code",
   "execution_count": 40,
   "id": "2e34e9d6-562c-434e-89c2-1fed1c581316",
   "metadata": {},
   "outputs": [],
   "source": [
    "import gzip\n",
    "\n",
    "with gzip.open(\"/gwpool/users/gpizzati/testcoffea/AJJ_coffea_DNN/ajj/data/2018/lepton_sf.json.gz\", \"wt\") as fout:\n",
    "    fout.write(cset.json(exclude_unset=True))"
   ]
  },
  {
   "cell_type": "code",
   "execution_count": 43,
   "id": "d6767f4e-c8c3-4531-b727-84a0d45a2f7d",
   "metadata": {},
   "outputs": [
    {
     "data": {
      "text/plain": [
       "correctionlib.schemav2.CorrectionSet"
      ]
     },
     "execution_count": 43,
     "metadata": {},
     "output_type": "execute_result"
    }
   ],
   "source": [
    "type(cset)"
   ]
  },
  {
   "cell_type": "code",
   "execution_count": 46,
   "id": "6f465d4b-e9f3-446f-9dd5-6b8b3142747b",
   "metadata": {},
   "outputs": [
    {
     "ename": "AttributeError",
     "evalue": "module 'correctionlib.schemav2' has no attribute 'from_file'",
     "output_type": "error",
     "traceback": [
      "\u001b[0;31m---------------------------------------------------------------------------\u001b[0m",
      "\u001b[0;31mAttributeError\u001b[0m                            Traceback (most recent call last)",
      "Cell \u001b[0;32mIn[46], line 1\u001b[0m\n\u001b[0;32m----> 1\u001b[0m \u001b[43mcorrectionlib\u001b[49m\u001b[38;5;241;43m.\u001b[39;49m\u001b[43mschemav2\u001b[49m\u001b[38;5;241;43m.\u001b[39;49m\u001b[43mfrom_file\u001b[49m\n",
      "\u001b[0;31mAttributeError\u001b[0m: module 'correctionlib.schemav2' has no attribute 'from_file'"
     ]
    }
   ],
   "source": [
    "correctionlib.schemav2.from_file"
   ]
  },
  {
   "cell_type": "code",
   "execution_count": 15,
   "id": "266d42e7-fcce-4717-85d2-eaa43df8a3b9",
   "metadata": {},
   "outputs": [],
   "source": [
    "import json\n",
    "string = \"\"\"\n",
    "{\n",
    "    \"data\": {\n",
    "        \"Jet\": {\n",
    "            \"branches\": [\n",
    "                \"pt\",\n",
    "                \"eta\",\n",
    "                \"phi\",\n",
    "                \"mass\",\n",
    "                \"jetId\",\n",
    "                \"puId\",\n",
    "                \"rawFactor\",\n",
    "                \"area\",\n",
    "                \"btagDeepFlavB\"\n",
    "            ],\n",
    "            \"with_name\": \"Momentum4D\"\n",
    "        },\n",
    "        \"Electron\": {\n",
    "            \"branches\": [\n",
    "                \"pt\",\n",
    "                \"eta\",\n",
    "                \"phi\",\n",
    "                \"pdgId\",\n",
    "                \"mvaFall17V2Iso_WP90\",\n",
    "                \"convVeto\",\n",
    "                \"pfRelIso03_all\",\n",
    "                \"dxy\",\n",
    "                \"dz\"\n",
    "            ],\n",
    "            \"with_name\": \"Momentum4D\"\n",
    "        },\n",
    "        \"Muon\": {\n",
    "            \"branches\": [\n",
    "                \"pt\",\n",
    "                \"eta\",\n",
    "                \"phi\",\n",
    "                \"pdgId\",\n",
    "                \"tightId\",\n",
    "                \"pfRelIso04_all\",\n",
    "                \"dxy\",\n",
    "                \"dz\"\n",
    "            ],\n",
    "            \"with_name\": \"Momentum4D\"\n",
    "        },\n",
    "        \"fixedGridRhoFastjetAll\": {\n",
    "            \"branches\": [],\n",
    "            \"with_name\": null\n",
    "        },\n",
    "        \"HLT\": {\n",
    "            \"branches\": [\n",
    "                \"Mu23_TrkIsoVVL_Ele12_CaloIdL_TrackIdL_IsoVL\",\n",
    "                \"Mu12_TrkIsoVVL_Ele23_CaloIdL_TrackIdL_IsoVL_DZ\",\n",
    "                \"Mu17_TrkIsoVVL_Mu8_TrkIsoVVL_DZ_Mass3p8\",\n",
    "                \"IsoMu24\",\n",
    "                \"Ele23_Ele12_CaloIdL_TrackIdL_IsoVL\",\n",
    "                \"Ele32_WPTight_Gsf\"\n",
    "            ],\n",
    "            \"with_name\": null\n",
    "        },\n",
    "        \"Flag\": {\n",
    "            \"branches\": [\n",
    "                \"goodVertices\",\n",
    "                \"globalSuperTightHalo2016Filter\",\n",
    "                \"HBHENoiseFilter\",\n",
    "                \"HBHENoiseIsoFilter\",\n",
    "                \"EcalDeadCellTriggerPrimitiveFilter\",\n",
    "                \"BadPFMuonFilter\",\n",
    "                \"BadPFMuonDzFilter\",\n",
    "                \"ecalBadCalibFilter\",\n",
    "                \"eeBadScFilter\"\n",
    "            ],\n",
    "            \"with_name\": null\n",
    "        },\n",
    "        \"run\": {\n",
    "            \"branches\": [],\n",
    "            \"with_name\": null\n",
    "        },\n",
    "        \"luminosityBlock\": {\n",
    "            \"branches\": [],\n",
    "            \"with_name\": null\n",
    "        }\n",
    "    },\n",
    "    \"mc\": {\n",
    "        \"Jet\": {\n",
    "            \"branches\": [\n",
    "                \"pt\",\n",
    "                \"eta\",\n",
    "                \"phi\",\n",
    "                \"mass\",\n",
    "                \"jetId\",\n",
    "                \"puId\",\n",
    "                \"genJetIdx\",\n",
    "                \"rawFactor\",\n",
    "                \"area\",\n",
    "                \"btagDeepFlavB\",\n",
    "                \"hadronFlavour\"\n",
    "            ],\n",
    "            \"with_name\": \"Momentum4D\"\n",
    "        },\n",
    "        \"GenPart\": {\n",
    "            \"branches\": [\n",
    "                \"pt\",\n",
    "                \"eta\",\n",
    "                \"phi\",\n",
    "                \"mass\",\n",
    "                \"pdgId\",\n",
    "                \"status\",\n",
    "                \"genPartIdxMother\",\n",
    "                \"statusFlags\"\n",
    "            ],\n",
    "            \"with_name\": \"Momentum4D\"\n",
    "        },\n",
    "        \"GenJet\": {\n",
    "            \"branches\": [\n",
    "                \"pt\",\n",
    "                \"eta\",\n",
    "                \"phi\",\n",
    "                \"mass\"\n",
    "            ],\n",
    "            \"with_name\": \"Momentum4D\"\n",
    "        },\n",
    "        \"Electron\": {\n",
    "            \"branches\": [\n",
    "                \"pt\",\n",
    "                \"eta\",\n",
    "                \"phi\",\n",
    "                \"pdgId\",\n",
    "                \"mvaFall17V2Iso_WP90\",\n",
    "                \"convVeto\",\n",
    "                \"pfRelIso03_all\",\n",
    "                \"dxy\",\n",
    "                \"dz\"\n",
    "            ],\n",
    "            \"with_name\": \"Momentum4D\"\n",
    "        },\n",
    "        \"Muon\": {\n",
    "            \"branches\": [\n",
    "                \"pt\",\n",
    "                \"eta\",\n",
    "                \"phi\",\n",
    "                \"pdgId\",\n",
    "                \"tightId\",\n",
    "                \"pfRelIso04_all\",\n",
    "                \"dxy\",\n",
    "                \"dz\"\n",
    "            ],\n",
    "            \"with_name\": \"Momentum4D\"\n",
    "        },\n",
    "        \"fixedGridRhoFastjetAll\": {\n",
    "            \"branches\": [],\n",
    "            \"with_name\": null\n",
    "        },\n",
    "        \"genWeight\": {\n",
    "            \"branches\": [],\n",
    "            \"with_name\": null\n",
    "        },\n",
    "        \"LHEScaleWeight\": {\n",
    "            \"branches\": [],\n",
    "            \"with_name\": null\n",
    "        },\n",
    "        \"LHEPdfWeight\": {\n",
    "            \"branches\": [],\n",
    "            \"with_name\": null\n",
    "        },\n",
    "        \"HLT\": {\n",
    "            \"branches\": [\n",
    "                \"Mu23_TrkIsoVVL_Ele12_CaloIdL_TrackIdL_IsoVL\",\n",
    "                \"Mu12_TrkIsoVVL_Ele23_CaloIdL_TrackIdL_IsoVL_DZ\",\n",
    "                \"Mu17_TrkIsoVVL_Mu8_TrkIsoVVL_DZ_Mass3p8\",\n",
    "                \"IsoMu24\",\n",
    "                \"Ele23_Ele12_CaloIdL_TrackIdL_IsoVL\",\n",
    "                \"Ele32_WPTight_Gsf\"\n",
    "            ],\n",
    "            \"with_name\": null\n",
    "        },\n",
    "        \"Flag\": {\n",
    "            \"branches\": [\n",
    "                \"goodVertices\",\n",
    "                \"globalSuperTightHalo2016Filter\",\n",
    "                \"HBHENoiseFilter\",\n",
    "                \"HBHENoiseIsoFilter\",\n",
    "                \"EcalDeadCellTriggerPrimitiveFilter\",\n",
    "                \"BadPFMuonFilter\",\n",
    "                \"BadPFMuonDzFilter\",\n",
    "                \"ecalBadCalibFilter\",\n",
    "                \"eeBadScFilter\"\n",
    "            ],\n",
    "            \"with_name\": null\n",
    "        },\n",
    "        \"Pileup\": {\n",
    "            \"branches\": [\n",
    "                \"nTrueInt\"\n",
    "            ],\n",
    "            \"with_name\": null\n",
    "        }\n",
    "    }\n",
    "}\n",
    "\"\"\"\n",
    "forms = json.loads(string)"
   ]
  },
  {
   "cell_type": "code",
   "execution_count": null,
   "id": "38c9da64-1731-406a-ae8f-b05d3d034ebe",
   "metadata": {},
   "outputs": [],
   "source": []
  }
 ],
 "metadata": {
  "kernelspec": {
   "display_name": "Python 3 (ipykernel)",
   "language": "python",
   "name": "python3"
  },
  "language_info": {
   "codemirror_mode": {
    "name": "ipython",
    "version": 3
   },
   "file_extension": ".py",
   "mimetype": "text/x-python",
   "name": "python",
   "nbconvert_exporter": "python",
   "pygments_lexer": "ipython3",
   "version": "3.10.13"
  }
 },
 "nbformat": 4,
 "nbformat_minor": 5
}
