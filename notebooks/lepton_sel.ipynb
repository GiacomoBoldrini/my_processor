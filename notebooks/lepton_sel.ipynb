{
 "cells": [
  {
   "cell_type": "code",
   "execution_count": 1,
   "metadata": {},
   "outputs": [
    {
     "data": {
      "text/plain": [
       "['/gwpool/users/gpizzati/test_processor/my_processor',\n",
       " '/gwpool/users/gpizzati/test_processor/my_processor/notebooks',\n",
       " '/gwpool/users/gpizzati/mambaforge/envs/test_uproot/lib/python310.zip',\n",
       " '/gwpool/users/gpizzati/mambaforge/envs/test_uproot/lib/python3.10',\n",
       " '/gwpool/users/gpizzati/mambaforge/envs/test_uproot/lib/python3.10/lib-dynload',\n",
       " '',\n",
       " '/gwpool/users/gpizzati/mambaforge/envs/test_uproot/lib/python3.10/site-packages']"
      ]
     },
     "execution_count": 1,
     "metadata": {},
     "output_type": "execute_result"
    }
   ],
   "source": [
    "import sys\n",
    "import os\n",
    "\n",
    "path = os.path.abspath(\".\")\n",
    "sys.path.insert(0, os.path.dirname(path))\n",
    "sys.path"
   ]
  },
  {
   "cell_type": "code",
   "execution_count": 2,
   "metadata": {},
   "outputs": [],
   "source": [
    "from framework import read_events, read_chunks"
   ]
  },
  {
   "cell_type": "code",
   "execution_count": 3,
   "metadata": {},
   "outputs": [],
   "source": [
    "chunks = read_chunks(\"../condor/job_0/chunks_job.pkl\")"
   ]
  },
  {
   "cell_type": "code",
   "execution_count": 4,
   "metadata": {},
   "outputs": [
    {
     "name": "stdout",
     "output_type": "stream",
     "text": [
      "start reading\n",
      "created events\n"
     ]
    }
   ],
   "source": [
    "events = read_events(\n",
    "    **{k: v for k, v in chunks[1].items() if k != \"dataset\" and k != \"xs\"}\n",
    ")"
   ]
  },
  {
   "cell_type": "code",
   "execution_count": 8,
   "metadata": {},
   "outputs": [],
   "source": [
    "from modules.lepton_sel import createLepton, leptonSel"
   ]
  },
  {
   "cell_type": "code",
   "execution_count": 9,
   "metadata": {},
   "outputs": [],
   "source": [
    "from data.common import LeptonSel"
   ]
  },
  {
   "cell_type": "code",
   "execution_count": 5,
   "metadata": {},
   "outputs": [],
   "source": [
    "\n",
    "events = createLepton(events)"
   ]
  },
  {
   "cell_type": "code",
   "execution_count": 7,
   "metadata": {},
   "outputs": [
    {
     "data": {
      "text/html": [
       "<pre>[[None, None, None, None],\n",
       " [0],\n",
       " [0, 1],\n",
       " [],\n",
       " [None],\n",
       " [0],\n",
       " [],\n",
       " [0, 1],\n",
       " [None],\n",
       " [0, 1],\n",
       " ...,\n",
       " [],\n",
       " [0, 1],\n",
       " [0, None, 1],\n",
       " [],\n",
       " [0, 1],\n",
       " [0, 1],\n",
       " [0],\n",
       " [None, None],\n",
       " [0, 1, 2]]\n",
       "---------------------------\n",
       "type: 100000 * var * ?int64</pre>"
      ],
      "text/plain": [
       "<Array [[None, None, None, None], ..., [0, ...]] type='100000 * var * ?int64'>"
      ]
     },
     "execution_count": 7,
     "metadata": {},
     "output_type": "execute_result"
    }
   ],
   "source": [
    "events.Lepton.electronIdx"
   ]
  },
  {
   "cell_type": "code",
   "execution_count": 10,
   "metadata": {},
   "outputs": [],
   "source": [
    "ElectronWP = LeptonSel.ElectronWP[\"Full2018v9\"]\n",
    "MuonWP = LeptonSel.MuonWP[\"Full2018v9\"]"
   ]
  },
  {
   "cell_type": "code",
   "execution_count": 11,
   "metadata": {},
   "outputs": [],
   "source": [
    "import awkward as ak"
   ]
  },
  {
   "cell_type": "code",
   "execution_count": 12,
   "metadata": {},
   "outputs": [],
   "source": [
    "ele_mask = abs(events.Lepton.pdgId) == 11\n",
    "mu_mask = abs(events.Lepton.pdgId) == 13\n",
    "\n",
    "electron_col = events.Electron[ak.mask(events.Lepton.electronIdx, ele_mask)]\n",
    "muon_col = events.Muon[ak.mask(events.Lepton.muonIdx, mu_mask)]\n",
    "\n",
    "for wp in ElectronWP[\"FakeObjWP\"]:\n",
    "    comb = ak.ones_like(electron_col.pt) == 1.0\n",
    "    for key, cuts in ElectronWP[\"FakeObjWP\"][wp][\"cuts\"].items():\n",
    "        tmp1 = eval(key.replace(\"[LF_idx]\", \"\"))\n",
    "        tmp2 = ak.ones_like(electron_col.pt) == 1.0\n",
    "        for cut in cuts:\n",
    "            tmp2 = tmp2 & eval(cut.replace(\"[LF_idx]\", \"\"))\n",
    "        comb = comb & (~tmp1 | tmp2)\n",
    "    comb = ak.values_astype(comb, bool)\n",
    "    events[(\"Lepton\", \"ele_isLoose\")] = ak.where(ele_mask, comb, False)\n",
    "\n",
    "for wp in MuonWP[\"FakeObjWP\"]:\n",
    "    comb = ak.ones_like(muon_col.pt) == 1.0\n",
    "    for key, cuts in MuonWP[\"FakeObjWP\"][wp][\"cuts\"].items():\n",
    "        tmp1 = eval(key.replace(\"[LF_idx]\", \"\"))\n",
    "        tmp2 = ak.ones_like(muon_col.pt) == 1.0\n",
    "        for cut in cuts:\n",
    "            tmp2 = tmp2 & eval(cut.replace(\"[LF_idx]\", \"\"))\n",
    "        comb = comb & (~tmp1 | tmp2)\n",
    "    comb = ak.values_astype(comb, bool)\n",
    "    events[(\"Lepton\", \"mu_isLoose\")] = ak.where(mu_mask, comb, False)\n"
   ]
  },
  {
   "cell_type": "code",
   "execution_count": 18,
   "metadata": {},
   "outputs": [
    {
     "data": {
      "text/html": [
       "<pre>[[False, False, False, False],\n",
       " [False],\n",
       " [False, False],\n",
       " [],\n",
       " [False],\n",
       " [False],\n",
       " [],\n",
       " [False, False],\n",
       " [False],\n",
       " [False, False],\n",
       " ...,\n",
       " [],\n",
       " [False, False],\n",
       " [False, False, False],\n",
       " [],\n",
       " [False, False],\n",
       " [False, False],\n",
       " [False],\n",
       " [False, False],\n",
       " [False, False, False]]\n",
       "------------------------------\n",
       "type: 100000 * var * bool</pre>"
      ],
      "text/plain": [
       "<Array [[False, False, False, False], ..., [...]] type='100000 * var * bool'>"
      ]
     },
     "execution_count": 18,
     "metadata": {},
     "output_type": "execute_result"
    }
   ],
   "source": [
    "ak.is_none(events.Lepton.mu_isLoose | events.Lepton.ele_isLoose, axis=1)"
   ]
  },
  {
   "cell_type": "code",
   "execution_count": 19,
   "metadata": {},
   "outputs": [],
   "source": [
    "events = leptonSel(events)"
   ]
  },
  {
   "cell_type": "code",
   "execution_count": 20,
   "metadata": {},
   "outputs": [
    {
     "data": {
      "text/plain": [
       "['pt',\n",
       " 'eta',\n",
       " 'phi',\n",
       " 'mass',\n",
       " 'pdgId',\n",
       " 'electronIdx',\n",
       " 'muonIdx',\n",
       " 'ele_isLoose',\n",
       " 'mu_isLoose',\n",
       " 'isLoose',\n",
       " 'isTightElectron_mvaFall17V2Iso_WP90',\n",
       " 'isTightMuon_cut_Tight_HWWW']"
      ]
     },
     "execution_count": 20,
     "metadata": {},
     "output_type": "execute_result"
    }
   ],
   "source": [
    "events.Lepton.fields"
   ]
  },
  {
   "cell_type": "code",
   "execution_count": 23,
   "metadata": {},
   "outputs": [
    {
     "data": {
      "text/plain": [
       "False"
      ]
     },
     "execution_count": 23,
     "metadata": {},
     "output_type": "execute_result"
    }
   ],
   "source": [
    "ak.any(ak.is_none(events.Lepton.isTightMuon_cut_Tight_HWWW, axis=1))"
   ]
  },
  {
   "cell_type": "code",
   "execution_count": 27,
   "metadata": {},
   "outputs": [],
   "source": [
    "events[('Lepton', 'isTight')] = events.Lepton.isTightMuon_cut_Tight_HWWW | events.Lepton.isTightElectron_mvaFall17V2Iso_WP90"
   ]
  },
  {
   "cell_type": "code",
   "execution_count": 29,
   "metadata": {},
   "outputs": [],
   "source": [
    "events = events[ak.num(events.Lepton) >= 2]"
   ]
  },
  {
   "cell_type": "code",
   "execution_count": 31,
   "metadata": {},
   "outputs": [
    {
     "data": {
      "text/html": [
       "<pre>[False,\n",
       " False,\n",
       " True,\n",
       " False,\n",
       " False,\n",
       " False,\n",
       " False,\n",
       " False,\n",
       " False,\n",
       " True,\n",
       " ...,\n",
       " False,\n",
       " True,\n",
       " False,\n",
       " False,\n",
       " False,\n",
       " True,\n",
       " False,\n",
       " False,\n",
       " False]\n",
       "-------------------\n",
       "type: 67541 * ?bool</pre>"
      ],
      "text/plain": [
       "<Array [False, False, True, ..., False, False, False] type='67541 * ?bool'>"
      ]
     },
     "execution_count": 31,
     "metadata": {},
     "output_type": "execute_result"
    }
   ],
   "source": [
    "events.Lepton.isTight[:, 0] & events.Lepton.isTight[:, 1]"
   ]
  },
  {
   "cell_type": "code",
   "execution_count": 33,
   "metadata": {},
   "outputs": [
    {
     "data": {
      "text/html": [
       "<pre>[[True, False, True, False],\n",
       " [False, False],\n",
       " [True, True],\n",
       " [True, False],\n",
       " [False, False],\n",
       " [True, False],\n",
       " [True, False, False],\n",
       " [False, True],\n",
       " [False, True],\n",
       " [True, True, False],\n",
       " ...,\n",
       " [False, False],\n",
       " [True, True, False],\n",
       " [False, True, False, False],\n",
       " [True, False],\n",
       " [True, False, False],\n",
       " [True, True],\n",
       " [True, False],\n",
       " [True, False],\n",
       " [True, False, False]]\n",
       "-----------------------------\n",
       "type: 67541 * var * ?bool</pre>"
      ],
      "text/plain": [
       "<Array [[True, False, True, False], ..., [...]] type='67541 * var * ?bool'>"
      ]
     },
     "execution_count": 33,
     "metadata": {},
     "output_type": "execute_result"
    }
   ],
   "source": [
    "events.Lepton.isTight"
   ]
  },
  {
   "cell_type": "code",
   "execution_count": 36,
   "metadata": {},
   "outputs": [
    {
     "data": {
      "text/plain": [
       "True"
      ]
     },
     "execution_count": 36,
     "metadata": {},
     "output_type": "execute_result"
    }
   ],
   "source": [
    "ak.any(events.Lepton.isTight != (events.Lepton.isLoose & events.Lepton.isTight))"
   ]
  },
  {
   "cell_type": "code",
   "execution_count": 49,
   "metadata": {},
   "outputs": [],
   "source": [
    "\n",
    "wrongLeptons = events.Lepton[events.Lepton.isTight != (events.Lepton.isLoose & events.Lepton.isTight)]"
   ]
  },
  {
   "cell_type": "code",
   "execution_count": 50,
   "metadata": {},
   "outputs": [],
   "source": [
    "wrongLeptons = wrongLeptons[ak.num(wrongLeptons)>=1]"
   ]
  },
  {
   "cell_type": "code",
   "execution_count": 51,
   "metadata": {},
   "outputs": [
    {
     "data": {
      "text/html": [
       "<pre>[[{pt: 6.81, eta: -0.165, phi: 1.36, mass: 0, pdgId: -11, ...}],\n",
       " [{pt: 14.7, eta: 1.2, phi: -1.98, mass: 0, pdgId: 11, electronIdx: 1, ...}],\n",
       " [{pt: 102, eta: 2.45, phi: 1.42, mass: 0, pdgId: -11, electronIdx: 1, ...}],\n",
       " [{pt: 8.26, eta: 0.413, phi: 1.96, mass: 0, pdgId: -11, ...}],\n",
       " [{pt: 31.4, eta: 2.4, phi: -2.4, mass: 0, pdgId: 11, electronIdx: 1, ...}],\n",
       " [{pt: 27.5, eta: 1.37, phi: -0.219, mass: 0, pdgId: 11, ...}],\n",
       " [{pt: 25.9, eta: 2.47, phi: -1.47, mass: 0, pdgId: 11, electronIdx: 1, ...}],\n",
       " [{pt: 101, eta: -1.13, phi: 0.716, mass: 0, pdgId: -11, ...}],\n",
       " [{pt: 6.26, eta: -1.56, phi: -0.279, mass: 0, pdgId: -11, ...}],\n",
       " [{pt: 24.3, eta: 1.1, phi: -1.49, mass: 0, pdgId: -11, electronIdx: 1, ...}],\n",
       " ...,\n",
       " [{pt: 27.4, eta: -2.25, phi: -1.36, mass: 0, pdgId: 11, ...}],\n",
       " [{pt: 14, eta: 0.658, phi: 1.04, mass: 0, pdgId: 11, electronIdx: 1, ...}],\n",
       " [{pt: 7.84, eta: 0.651, phi: 0.508, mass: 0, pdgId: -11, ...}],\n",
       " [{pt: 23.6, eta: -1.91, phi: -2.74, mass: 0, pdgId: 11, ...}],\n",
       " [{pt: 108, eta: 1.16, phi: 2.26, mass: 0, pdgId: 11, electronIdx: 0, ...}],\n",
       " [{pt: 36.7, eta: 0.469, phi: 1.24, mass: 0, pdgId: -11, ...}],\n",
       " [{pt: 20.6, eta: 0.634, phi: 1.09, mass: 0, pdgId: -11, ...}],\n",
       " [{pt: 14.1, eta: -0.915, phi: -1.7, mass: 0, pdgId: -11, ...}],\n",
       " [{pt: 40.5, eta: -2.06, phi: -1.72, mass: 0, pdgId: 11, ...}]]\n",
       "------------------------------------------------------------------------------\n",
       "type: 3482 * var * ?Momentum4D[\n",
       "    pt: float32,\n",
       "    eta: float32,\n",
       "    phi: float32,\n",
       "    mass: float32,\n",
       "    pdgId: int32,\n",
       "    electronIdx: ?int64,\n",
       "    muonIdx: ?int64,\n",
       "    ele_isLoose: ?bool,\n",
       "    mu_isLoose: ?bool,\n",
       "    isLoose: bool,\n",
       "    isTightElectron_mvaFall17V2Iso_WP90: ?bool,\n",
       "    isTightMuon_cut_Tight_HWWW: ?bool,\n",
       "    isTight: ?bool\n",
       "]</pre>"
      ],
      "text/plain": [
       "<Array [[{pt: 6.81, eta: -0.165, ...}], ...] type='3482 * var * ?Momentum4D...'>"
      ]
     },
     "execution_count": 51,
     "metadata": {},
     "output_type": "execute_result"
    }
   ],
   "source": [
    "wrongLeptons"
   ]
  },
  {
   "cell_type": "code",
   "execution_count": 40,
   "metadata": {},
   "outputs": [
    {
     "data": {
      "text/html": [
       "<pre>[True,\n",
       " False]\n",
       "--------------\n",
       "type: 2 * bool</pre>"
      ],
      "text/plain": [
       "<Array [True, False] type='2 * bool'>"
      ]
     },
     "execution_count": 40,
     "metadata": {},
     "output_type": "execute_result"
    }
   ],
   "source": [
    "events[-4].Lepton.isLoose"
   ]
  },
  {
   "cell_type": "code",
   "execution_count": 41,
   "metadata": {},
   "outputs": [
    {
     "data": {
      "text/html": [
       "<pre>[True,\n",
       " True]\n",
       "---------------\n",
       "type: 2 * ?bool</pre>"
      ],
      "text/plain": [
       "<Array [True, True] type='2 * ?bool'>"
      ]
     },
     "execution_count": 41,
     "metadata": {},
     "output_type": "execute_result"
    }
   ],
   "source": [
    "events[-4].Lepton.isTight"
   ]
  },
  {
   "cell_type": "code",
   "execution_count": 48,
   "metadata": {},
   "outputs": [
    {
     "data": {
      "text/html": [
       "<pre>[True,\n",
       " False]\n",
       "--------------\n",
       "type: 2 * bool</pre>"
      ],
      "text/plain": [
       "<Array [True, False] type='2 * bool'>"
      ]
     },
     "execution_count": 48,
     "metadata": {},
     "output_type": "execute_result"
    }
   ],
   "source": [
    "abs(events[-4].Electron.eInvMinusPInv)<0.014"
   ]
  },
  {
   "cell_type": "code",
   "execution_count": 42,
   "metadata": {},
   "outputs": [
    {
     "data": {
      "text/html": [
       "<pre>{pt: 40.5,\n",
       " eta: -2.06,\n",
       " phi: -1.72,\n",
       " mass: 0,\n",
       " pdgId: 11,\n",
       " electronIdx: 1,\n",
       " muonIdx: None,\n",
       " ele_isLoose: False,\n",
       " mu_isLoose: False,\n",
       " isLoose: False,\n",
       " isTightElectron_mvaFall17V2Iso_WP90: True,\n",
       " isTightMuon_cut_Tight_HWWW: False,\n",
       " isTight: True}\n",
       "-----------------------------------------------\n",
       "type: Momentum4D[\n",
       "    pt: float32,\n",
       "    eta: float32,\n",
       "    phi: float32,\n",
       "    mass: float32,\n",
       "    pdgId: int32,\n",
       "    electronIdx: ?int64,\n",
       "    muonIdx: ?int64,\n",
       "    ele_isLoose: ?bool,\n",
       "    mu_isLoose: ?bool,\n",
       "    isLoose: bool,\n",
       "    isTightElectron_mvaFall17V2Iso_WP90: ?bool,\n",
       "    isTightMuon_cut_Tight_HWWW: ?bool,\n",
       "    isTight: ?bool\n",
       "]</pre>"
      ],
      "text/plain": [
       "<Record {pt: 40.5, eta: -2.06, phi: -1.72, ...} type='Momentum4D[pt: float3...'>"
      ]
     },
     "execution_count": 42,
     "metadata": {},
     "output_type": "execute_result"
    }
   ],
   "source": [
    "events[-4].Lepton[1]"
   ]
  },
  {
   "cell_type": "code",
   "execution_count": null,
   "metadata": {},
   "outputs": [],
   "source": []
  }
 ],
 "metadata": {
  "kernelspec": {
   "display_name": "Python 3 (ipykernel)",
   "language": "python",
   "name": "python3"
  },
  "language_info": {
   "codemirror_mode": {
    "name": "ipython",
    "version": 3
   },
   "file_extension": ".py",
   "mimetype": "text/x-python",
   "name": "python",
   "nbconvert_exporter": "python",
   "pygments_lexer": "ipython3",
   "version": "3.10.13"
  }
 },
 "nbformat": 4,
 "nbformat_minor": 2
}
